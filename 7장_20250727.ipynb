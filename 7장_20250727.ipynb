{
 "cells": [
  {
   "cell_type": "markdown",
   "id": "bb689058",
   "metadata": {},
   "source": [
    "## 7장의 내용 구성\n",
    "* Chapter 개요\n",
    "* Numerical Libraries (NumPy, Pandas, SciPy)\n",
    "* Financial Libraries (QuantLib, PyAlgoTrade, Zipline, pyfolio)\n",
    "* Visualization Tools (Matplotlib, Plotly, Seaborn 등)\n",
    "* Git을 활용한 협업"
   ]
  },
  {
   "cell_type": "markdown",
   "id": "7518e6ff",
   "metadata": {},
   "source": [
    "## 숫자 라이브러리 (1)"
   ]
  },
  {
   "cell_type": "markdown",
   "id": "024762c6",
   "metadata": {},
   "source": [
    "1. 단순 이동 평균 전략 최적화 (SciPy + NumPy)\n",
    "* 설명: SciPy의 minimize()를 이용해 이동 평균 전략의 최적 기간을 찾음."
   ]
  },
  {
   "cell_type": "code",
   "execution_count": 59,
   "id": "3f35828f",
   "metadata": {},
   "outputs": [
    {
     "name": "stdout",
     "output_type": "stream",
     "text": [
      "\n",
      "\n",
      "Optimal Short Window: 3.0\n",
      "Optimal Long Window: 7.0\n"
     ]
    }
   ],
   "source": [
    "import numpy as np\n",
    "from scipy.optimize import minimize\n",
    "\n",
    "def simple_moving_average_strategy(params, prices):\n",
    "    short_window, long_window = int(params[0]), int(params[1]) #오류가 발생하여 타입 변경함\n",
    "    short_sma = np.mean(prices[-short_window:])\n",
    "    long_sma = np.mean(prices[-long_window:])\n",
    "    # print(\"short_sma >>>\", short_sma)\n",
    "    # print(\"long_sma >>>\", long_sma)\n",
    "    # print(\"short_sma - long_sma >>>\", short_sma - long_sma)\n",
    "    return short_sma - long_sma\n",
    "\n",
    "price_data = [100, 110, 120, 130, 140, 150, 160, 170, 180, 190]\n",
    "initial_guess = [3, 7]\n",
    "result = minimize(simple_moving_average_strategy, initial_guess, args=(price_data))\n",
    "optimal_short_window, optimal_long_window = result.x\n",
    "\n",
    "print(\"\\n\\nOptimal Short Window:\", optimal_short_window)\n",
    "print(\"Optimal Long Window:\", optimal_long_window)\n"
   ]
  },
  {
   "cell_type": "markdown",
   "id": "4d2b1c5d",
   "metadata": {},
   "source": [
    "## NumPy (2~5)"
   ]
  },
  {
   "cell_type": "markdown",
   "id": "6f731fd6",
   "metadata": {},
   "source": [
    "2. NumPy 기초: 배열 생성\n",
    "* 설명: NumPy 배열을 생성하여 주가 데이터를 저장하는 기본 예제."
   ]
  },
  {
   "cell_type": "code",
   "execution_count": 60,
   "id": "90d57b35",
   "metadata": {},
   "outputs": [
    {
     "name": "stdout",
     "output_type": "stream",
     "text": [
      "[100.  102.5 105.2 103.8 107.1]\n"
     ]
    }
   ],
   "source": [
    "import numpy as np\n",
    "stock_prices = np.array([100.0, 102.5, 105.2, 103.8, 107.1])\n",
    "print(stock_prices)"
   ]
  },
  {
   "cell_type": "markdown",
   "id": "b8d52114",
   "metadata": {},
   "source": [
    "3. 일일 수익률 계산\n",
    "* 설명: 주가의 일일 수익률 계산. 배열 인덱싱으로 전일 대비 수익률 도출.\n",
    "\n",
    "* 일일 수익률이란\n",
    "    * 오늘 종가에서 전일 종가를 뺀 차액 오늘?전일? 종가로 나눈 값이다."
   ]
  },
  {
   "cell_type": "code",
   "execution_count": 63,
   "id": "942c0fb0",
   "metadata": {},
   "outputs": [
    {
     "name": "stdout",
     "output_type": "stream",
     "text": [
      "1) daily_prices[1:] >>> [102.5 105.2 103.8 107.1]\n",
      "2) daily_prices[:-1] >>> [100.  102.5 105.2 103.8]\n",
      "3) daily_prices[1:] - daily_prices[:-1] >>> [ 2.5  2.7 -1.4  3.3]\n",
      "3번을 2번으로 나누면 >>> [ 0.025       0.02634146 -0.01330798  0.03179191]\n"
     ]
    }
   ],
   "source": [
    "import numpy as np\n",
    "daily_prices = np.array([100.0, 102.5, 105.2, 103.8, 107.1])\n",
    "returns = (daily_prices[1:] - daily_prices[:-1]) / daily_prices[:-1]\n",
    "print(\"1) daily_prices[1:] >>>\", daily_prices[1:])\n",
    "print(\"2) daily_prices[:-1] >>>\", daily_prices[:-1])\n",
    "print(\"3) daily_prices[1:] - daily_prices[:-1] >>>\", daily_prices[1:] - daily_prices[:-1])\n",
    "print(\"3번을 2번으로 나누면 >>>\", returns)"
   ]
  },
  {
   "cell_type": "markdown",
   "id": "1ce29975",
   "metadata": {},
   "source": [
    "4. 수익률 정규화\n",
    "* 설명: 평균을 빼서 수익률을 정규화 (평균 0).\n",
    "\n",
    "* 배열의 각 요소에서 평균을 뺸다."
   ]
  },
  {
   "cell_type": "code",
   "execution_count": 67,
   "id": "691a7ce5",
   "metadata": {},
   "outputs": [
    {
     "name": "stdout",
     "output_type": "stream",
     "text": [
      "returns >>> [ 0.02 -0.01  0.03 -0.02  0.04]\n",
      "np.mean(returns) >>> 0.012\n",
      "normalized_returns >>> [ 0.008 -0.022  0.018 -0.032  0.028]\n"
     ]
    }
   ],
   "source": [
    "import numpy as np\n",
    "returns = np.array([0.02, -0.01, 0.03, -0.02, 0.04])\n",
    "normalized_returns = returns - np.mean(returns)\n",
    "\n",
    "print(\"returns >>>\", returns)\n",
    "print(\"np.mean(returns) >>>\", np.mean(returns))\n",
    "print(\"normalized_returns >>>\", normalized_returns)\n"
   ]
  },
  {
   "cell_type": "markdown",
   "id": "b0c7c4f1",
   "metadata": {},
   "source": [
    "5. 이동 평균 계산 (전략 구현)\n",
    "* 설명: 전략에 필요한 단기/장기 이동 평균 계산 (데이터 부족 시 long SMA는 NaN 가능성 있음).\n",
    "\n",
    "* 뒤에서 몇개"
   ]
  },
  {
   "cell_type": "code",
   "execution_count": 69,
   "id": "802d614d",
   "metadata": {},
   "outputs": [
    {
     "name": "stdout",
     "output_type": "stream",
     "text": [
      "stock_prices[-short_window:] >>> [105.2 103.8 107.1]\n",
      "stock_prices[-long_window:] >>> [100.  102.5 105.2 103.8 107.1]\n",
      "\n",
      "short_sma >>> 105.36666666666667\n",
      "long_sma >>> 103.72\n"
     ]
    }
   ],
   "source": [
    "import numpy as np\n",
    "stock_prices = np.array([100.0, 102.5, 105.2, 103.8, 107.1])\n",
    "short_window = 3 #5\n",
    "long_window = 5 #20\n",
    "short_sma = np.mean(stock_prices[-short_window:])\n",
    "long_sma = np.mean(stock_prices[-long_window:])\n",
    "\n",
    "print(\"stock_prices[-short_window:] >>>\", stock_prices[-short_window:])\n",
    "print(\"stock_prices[-long_window:] >>>\", stock_prices[-long_window:])\n",
    "\n",
    "print(\"\\nshort_sma >>>\", short_sma)\n",
    "print(\"long_sma >>>\", long_sma)\n"
   ]
  },
  {
   "cell_type": "markdown",
   "id": "28e8cffc",
   "metadata": {},
   "source": [
    "## Pandas (6~9)"
   ]
  },
  {
   "cell_type": "markdown",
   "id": "7dbcd8a1",
   "metadata": {},
   "source": [
    "6. Pandas를 활용한 데이터 불러오기 및 수익률 계산\n",
    "* 설명: CSV에서 데이터 불러와 특정 종목 필터링 후 일일 수익률 계산.\n",
    "* pandas pct_change() 활용"
   ]
  },
  {
   "cell_type": "code",
   "execution_count": 72,
   "id": "c4242c96",
   "metadata": {},
   "outputs": [
    {
     "name": "stdout",
     "output_type": "stream",
     "text": [
      "apple_stock >>>\n",
      "          Date Symbol  Close  Daily Returns\n",
      "0  2023-01-01   AAPL    150            NaN\n",
      "1  2023-01-02   AAPL    152       0.013333\n",
      "2  2023-01-03   AAPL    149      -0.019737\n",
      "3  2023-01-04   AAPL    155       0.040268\n",
      "4  2023-01-05   AAPL    158       0.019355\n",
      "\n",
      "종가: apple_stock['Close'] >>>\n",
      " 0    150\n",
      "1    152\n",
      "2    149\n",
      "3    155\n",
      "4    158\n",
      "Name: Close, dtype: int64\n",
      "\n",
      "수익률: apple_stock['Daily Returns'] >>>\n",
      " 0         NaN\n",
      "1    0.013333\n",
      "2   -0.019737\n",
      "3    0.040268\n",
      "4    0.019355\n",
      "Name: Daily Returns, dtype: float64\n",
      "\n",
      "확인: (152-150)/150 >>> 0.013333333333333334\n"
     ]
    }
   ],
   "source": [
    "import pandas as pd\n",
    "stock_data = pd.read_csv('stock_prices.csv')\n",
    "\n",
    "apple_stock = stock_data[stock_data['Symbol'] == 'AAPL'].copy()\n",
    "apple_stock['Daily Returns'] = apple_stock['Close'].pct_change() # 수익률을 계산하여 열을 추가함\n",
    "\n",
    "print(\"apple_stock >>>\\n\", apple_stock)\n",
    "print(\"\\n종가: apple_stock['Close'] >>>\\n\", apple_stock['Close'])\n",
    "print(\"\\n수익률: apple_stock['Daily Returns'] >>>\\n\", apple_stock['Daily Returns'])\n",
    "print(\"\\n확인: (152-150)/150 >>>\", (152-150)/150)\n"
   ]
  },
  {
   "cell_type": "markdown",
   "id": "0a63c693",
   "metadata": {},
   "source": [
    "7. 결측치 처리\n",
    "* 설명: 거래량 데이터의 결측치를 앞의 값으로 채움 (forward fill)."
   ]
  },
  {
   "cell_type": "code",
   "execution_count": 62,
   "id": "b7756080",
   "metadata": {},
   "outputs": [
    {
     "name": "stdout",
     "output_type": "stream",
     "text": [
      "\n",
      "결측치 보정 전:\n",
      "         Date   Volume\n",
      "0  2023-01-01  12000.0\n",
      "1  2023-01-02      NaN\n",
      "2  2023-01-03      NaN\n",
      "3  2023-01-04  14500.0\n",
      "4  2023-01-05  15000.0\n",
      "5  2023-01-06      NaN\n",
      "6  2023-01-07  11000.0\n",
      "7  2023-01-08      NaN\n",
      "8  2023-01-09   9500.0\n",
      "9  2023-01-10  13200.0\n",
      "\n",
      "결측치 보정 후:\n",
      "         Date   Volume\n",
      "0  2023-01-01  12000.0\n",
      "1  2023-01-02  12000.0\n",
      "2  2023-01-03  12000.0\n",
      "3  2023-01-04  14500.0\n",
      "4  2023-01-05  15000.0\n",
      "5  2023-01-06  15000.0\n",
      "6  2023-01-07  11000.0\n",
      "7  2023-01-08  11000.0\n",
      "8  2023-01-09   9500.0\n",
      "9  2023-01-10  13200.0\n"
     ]
    }
   ],
   "source": [
    "import pandas as pd\n",
    "trading_volume_data = pd.read_csv('trading_volume_data.csv')\n",
    "print(\"\\n결측치 보정 전:\")\n",
    "print(trading_volume_data)\n",
    "#trading_volume_data['Volume'] = trading_volume_data['Volume'].fillna(method='ffill')\n",
    "trading_volume_data['Volume'] = trading_volume_data['Volume'].ffill()\n",
    "print(\"\\n결측치 보정 후:\")\n",
    "print(trading_volume_data)"
   ]
  },
  {
   "cell_type": "markdown",
   "id": "11341e8a",
   "metadata": {},
   "source": [
    "8-1. 시간 기반 리샘플링 및 이동 평균\n",
    "* 설명: 시계열 데이터를 시간 단위로 집계하고, 10기간 이동 평균 계산.\n",
    "\n",
    "* 샘플 데이터가 \"시\"를 기준으로 9개인 데이터이므로 이동평균 10기간은 불가하여\n",
    "    * window를 5로 조정함"
   ]
  },
  {
   "cell_type": "code",
   "execution_count": 73,
   "id": "3bc33eb4",
   "metadata": {},
   "outputs": [
    {
     "name": "stdout",
     "output_type": "stream",
     "text": [
      "1) 원본 >>>\n",
      "             Timestamp   Price\n",
      "0 2023-01-01 09:00:00  100.10\n",
      "1 2023-01-01 09:05:00   99.63\n",
      "2 2023-01-01 09:10:00   99.67\n",
      "3 2023-01-01 09:15:00  100.35\n",
      "4 2023-01-01 09:20:00  100.78\n",
      "\n",
      "2) 시간 단위로 집계 >>>\n",
      "                          Price\n",
      "Timestamp                      \n",
      "2023-01-01 09:00:00  100.531667\n",
      "2023-01-01 10:00:00  102.075833\n",
      "2023-01-01 11:00:00  102.881667\n",
      "2023-01-01 12:00:00  104.145000\n",
      "2023-01-01 13:00:00  105.364167\n",
      "\n",
      "3) 5시간 이동 평균 계산 >>>\n",
      "                          Price  Hourly Moving Average\n",
      "Timestamp                                             \n",
      "2023-01-01 09:00:00  100.531667                    NaN\n",
      "2023-01-01 10:00:00  102.075833                    NaN\n",
      "2023-01-01 11:00:00  102.881667                    NaN\n",
      "2023-01-01 12:00:00  104.145000                    NaN\n",
      "2023-01-01 13:00:00  105.364167             102.999667\n"
     ]
    }
   ],
   "source": [
    "import pandas as pd\n",
    "intraday_data = pd.read_csv('intraday_prices.csv', parse_dates=['Timestamp'])\n",
    "print(\"1) 원본 >>>\\n\", intraday_data.head())\n",
    "hourly_data = intraday_data.resample('h', on='Timestamp').mean()\n",
    "print(\"\\n2) 시간 단위로 집계 >>>\")\n",
    "print(hourly_data.head())\n",
    "hourly_data['Hourly Moving Average'] = hourly_data['Price'].rolling(window=5).mean()\n",
    "print(\"\\n3) 5시간 이동 평균 계산 >>>\")\n",
    "print(hourly_data.head())\n",
    "\n",
    "\n"
   ]
  },
  {
   "cell_type": "markdown",
   "id": "6c6b9f43",
   "metadata": {},
   "source": [
    "8-2. 주식 기호별 연간 수익률 계산\n",
    "* 설명: Symbol별 평균 수익률 계산\n",
    "* groupby()를 활용하여 집계"
   ]
  },
  {
   "cell_type": "code",
   "execution_count": 75,
   "id": "e91f0073",
   "metadata": {},
   "outputs": [
    {
     "name": "stdout",
     "output_type": "stream",
     "text": [
      "Symbol\n",
      "AAPL     0.113789\n",
      "GOOGL    0.207138\n",
      "MSFT    -0.213380\n",
      "TSLA     0.786187\n",
      "Name: Returns, dtype: float64\n"
     ]
    }
   ],
   "source": [
    "import pandas as pd\n",
    "\n",
    "portfolio_data = pd.read_csv(\"portfolio_returns.csv\")\n",
    "annualized_returns = portfolio_data.groupby(\"Symbol\")[\"Returns\"].mean() * 252\n",
    "print(annualized_returns)"
   ]
  },
  {
   "cell_type": "markdown",
   "id": "7cf20d8c",
   "metadata": {},
   "source": [
    "9. 포트폴리오 최적화 계산\n",
    "* 설명:\n",
    "    * 수익률, 평균 수익률, 변동성 산출\n",
    "    * 연간 수익률과 변동성을 추정"
   ]
  },
  {
   "cell_type": "code",
   "execution_count": 80,
   "id": "08f7e54e",
   "metadata": {},
   "outputs": [
    {
     "name": "stdout",
     "output_type": "stream",
     "text": [
      "\n",
      "price_data.head() >>>\n",
      "         Date Symbol   Close\n",
      "0 2023-01-01   AAPL  149.84\n",
      "1 2023-01-02   AAPL  151.32\n",
      "2 2023-01-03   AAPL  151.05\n",
      "3 2023-01-04   AAPL  151.34\n",
      "4 2023-01-05   AAPL  150.79\n",
      "\n",
      "volume_data.head() >>>\n",
      "         Date Symbol  Volume\n",
      "0 2023-01-01   AAPL   16084\n",
      "1 2023-01-02   AAPL   10337\n",
      "2 2023-01-03   AAPL   15716\n",
      "3 2023-01-04   AAPL   19018\n",
      "4 2023-01-05   AAPL   11150\n",
      "\n",
      "merged_data.head() >>>\n",
      "         Date Symbol   Close  Volume\n",
      "0 2023-01-01   AAPL  149.84   16084\n",
      "1 2023-01-02   AAPL  151.32   10337\n",
      "2 2023-01-03   AAPL  151.05   15716\n",
      "3 2023-01-04   AAPL  151.34   19018\n",
      "4 2023-01-05   AAPL  150.79   11150\n"
     ]
    }
   ],
   "source": [
    "import pandas as pd\n",
    "import numpy as np\n",
    "\n",
    "price_data = pd.read_csv('historical_prices.csv', parse_dates=['Date'])\n",
    "volume_data = pd.read_csv('trading_volumes.csv', parse_dates=['Date'])\n",
    "merged_data = pd.merge(price_data, volume_data, on=['Date', 'Symbol'])  #종가와 거래량을 일자와 심볼로 병합(병합조건 심볼 추가함)\n",
    "\n",
    "print(\"\\nprice_data.head() >>>\\n\",price_data.head())\n",
    "print(\"\\nvolume_data.head() >>>\\n\",volume_data.head())\n",
    "print(\"\\nmerged_data.head() >>>\\n\",merged_data.head())"
   ]
  },
  {
   "cell_type": "code",
   "execution_count": null,
   "id": "cc22bd20",
   "metadata": {},
   "outputs": [
    {
     "name": "stdout",
     "output_type": "stream",
     "text": [
      "\n",
      "returns.head() >>>\n",
      " Symbol\n",
      "AAPL    0.004725\n",
      "MSFT   -0.000512\n",
      "Name: Returns, dtype: float64\n",
      "\n",
      "volatility.head() >>>\n",
      " Symbol\n",
      "AAPL    0.005907\n",
      "MSFT    0.002277\n",
      "Name: Returns, dtype: float64\n"
     ]
    }
   ],
   "source": [
    "# 수익률, 평균 수익률, 변동성 산출\n",
    "\n",
    "merged_data['Returns'] = merged_data.groupby('Symbol')['Close'].pct_change()  #수익률\n",
    "returns = merged_data.groupby('Symbol')['Returns'].mean()  #평균 수익률\n",
    "volatility = merged_data.groupby('Symbol')['Returns'].std()  #변동성\n",
    "\n",
    "print(\"\\nreturns.head() >>>\\n\",returns.head())\n",
    "print(\"\\nvolatility.head() >>>\\n\",volatility.head())"
   ]
  },
  {
   "cell_type": "code",
   "execution_count": null,
   "id": "8ce0c7cf",
   "metadata": {},
   "outputs": [
    {
     "name": "stdout",
     "output_type": "stream",
     "text": [
      "\n",
      "cov_matrix.head() >>>\n",
      " Symbol      AAPL      MSFT\n",
      "Symbol                    \n",
      "AAPL    0.000035  0.000004\n",
      "MSFT    0.000004  0.000005\n",
      "\n",
      "weights >>> [0.50724216 0.49275784]\n",
      "\n",
      "portfolio_return) >>> 0.540413409737189\n",
      "\n",
      "portfolio_volatility >>> 0.05543645005546525\n"
     ]
    }
   ],
   "source": [
    "# 연간 수익률과 변동성을 추정\n",
    "\n",
    "# 포토풀리오 구성을 위해 평균 분산 최적화를 수행\n",
    "cov_matrix = merged_data.pivot_table(index='Date', columns='Symbol', values='Returns').cov() #두 심볼(주식) 간의 공분산? 두 주식간에 얼마나 의존하는지.\n",
    "\n",
    "# 무작위 포토폴리오 가중치 생성\n",
    "weights = np.random.random(len(returns))\n",
    "weights /= np.sum(weights)\n",
    "\n",
    "print(\"\\ncov_matrix.head() >>>\\n\",cov_matrix.head())\n",
    "print(\"\\nweights >>>\",weights)\n",
    "\n",
    "# 포토폴리오 수익률 및 변동성 계산하기\n",
    "portfolio_return = np.sum(weights * returns) * 252\n",
    "portfolio_volatility = np.sqrt(np.dot(weights.T, np.dot(cov_matrix * 252, weights)))\n",
    "\n",
    "print(\"\\nportfolio_return) >>>\",portfolio_return)\n",
    "print(\"\\nportfolio_volatility >>>\",portfolio_volatility)"
   ]
  },
  {
   "cell_type": "markdown",
   "id": "c7f876e7",
   "metadata": {},
   "source": [
    "1. weights – 자산 비중\n",
    "    - weights = [0.50724216 0.49275784]\n",
    "    - 전체 투자금 중 50.7%는 AAPL에, 49.2%는 MSFT에 투자\n",
    "    - 이 비율은 np.random.random()으로 생성된 무작위 분산 투자 예시\n",
    "\n",
    "2. portfolio_return = 0.540413409737189 → 연간 기대 수익률 ≒ 54.0%\n",
    "    - 이 포트폴리오에 1년간 투자하면 이론적으로 약 54.0% 수익을 기대할 수 있음\n",
    "    - 단, 이는 과거 수익률의 평균을 기반으로 추정된 기대값임\n",
    "    - 매우 높은 수익률로, 일반적으로는 비현실적으로 낙관적인 시나리오일 수 있음 → 백테스트 데이터 확인 필요\n",
    "\n",
    "3. portfolio_volatility = 0.05543645005546525 → 연간 변동성 ≒ 5.55%\n",
    "    - 포트폴리오 수익률이 평균으로부터 5.55% 내외로 흔들릴 가능성\n",
    "    - 낮을수록 안정적, 높을수록 불확실성 큼"
   ]
  },
  {
   "cell_type": "markdown",
   "id": "969b23c0",
   "metadata": {},
   "source": [
    "## SciPy (10~14)\n",
    "\n",
    "* NumPy의 확장판\n",
    "* 광범위한 과학 및 기술 컴퓨팅 도구 모음을 제공"
   ]
  },
  {
   "cell_type": "markdown",
   "id": "a6bcb9db",
   "metadata": {},
   "source": [
    "10. SciPy의 최적화 기능\n",
    "* 설명:\n",
    "    * prices: 모의 주가 데이터\n",
    "    * moving_average_objective: 단기/장기 이동 평균 차이를 최대화하는 함수\n",
    "    * minimize: SciPy의 최적화 함수 (단기/장기 기간 조합 찾기)"
   ]
  },
  {
   "cell_type": "code",
   "execution_count": 19,
   "id": "e043a464",
   "metadata": {},
   "outputs": [
    {
     "name": "stdout",
     "output_type": "stream",
     "text": [
      "prices >>> [0.59087667 0.19103306 0.44745646 0.52361097 0.75500918]\n",
      "\n",
      "result >>>\n",
      "   message: Optimization terminated successfully.\n",
      "  success: True\n",
      "   status: 0\n",
      "      fun: -0.24788628056511197\n",
      "        x: [ 5.000e+00  2.000e+01]\n",
      "      nit: 0\n",
      "      jac: [ 0.000e+00  0.000e+00]\n",
      " hess_inv: [[1 0]\n",
      "            [0 1]]\n",
      "     nfev: 3\n",
      "     njev: 1\n",
      "\n",
      "Optimal Short Window: 5\n",
      "Optimal Long Window: 20\n"
     ]
    }
   ],
   "source": [
    "from scipy.optimize import minimize\n",
    "import numpy as np\n",
    "\n",
    "# 모의 주가 데이터 생성 (100개)\n",
    "prices = np.random.rand(100)   # 예: 0~100 사이 임의 값\n",
    "print(\"prices >>>\", prices[:5])\n",
    "\n",
    "# 이동 평균에 대한 짧은 기간과 긴 기간을 정의\n",
    "short_window = 5\n",
    "long_window = 20\n",
    "\n",
    "# 최적화 목적 함수 정의\n",
    "def moving_average_objective(params, prices):\n",
    "    short_window, long_window = int(params[0]), int(params[1])\n",
    "    short_ma = np.mean(prices[-short_window:])\n",
    "    long_ma = np.mean(prices[-long_window:])\n",
    "    return -short_ma + long_ma\n",
    "\n",
    "# 초기값 및 최적화 수행\n",
    "initial_guess = [5, 20]\n",
    "result = minimize(moving_average_objective, initial_guess, args=(prices,))\n",
    "\n",
    "print(\"\\nresult >>>\\n\", result)\n",
    "\n",
    "# 최적화 결과 출력\n",
    "optimal_short_window, optimal_long_window = result.x\n",
    "print(f\"\\nOptimal Short Window: {int(optimal_short_window)}\")\n",
    "print(f\"Optimal Long Window: {int(optimal_long_window)}\")\n"
   ]
  },
  {
   "cell_type": "markdown",
   "id": "b8f387c1",
   "metadata": {},
   "source": [
    "11. 위험대비 수익률 목표에 맞는 포트폴리오 최적화 코드\n",
    "* 설명:\n",
    "    * returns: 각 자산의 연간 기대 수익률 (100개 자산)\n",
    "    * cov_matrix: 수익률 간의 공분산 행렬 (위험 척도)\n",
    "    * portfolio_objective(): 샤프 비율을 최대화하는 함수 (부호 반전으로 최소화)\n",
    "    * minimize(): 제약 조건 하에서 최적의 자산 비중 탐색\n",
    "    * optimal_weights: 수익률 대비 리스크가 가장 이상적인 자산 비중 조합"
   ]
  },
  {
   "cell_type": "code",
   "execution_count": 76,
   "id": "73b20398",
   "metadata": {},
   "outputs": [
    {
     "name": "stdout",
     "output_type": "stream",
     "text": [
      "최적 포트폴리오 비중 (앞 10개): [ 412.4279  204.398  -107.112    78.6075 -125.5429 -237.031   436.6203\n",
      "  114.251   136.6368 -122.0467]\n"
     ]
    }
   ],
   "source": [
    "from scipy.optimize import minimize\n",
    "import numpy as np\n",
    "\n",
    "# 모의 수익률 데이터 (100개 자산)\n",
    "np.random.seed(42)\n",
    "returns = np.random.rand(100)\n",
    "\n",
    "# 모의 공분산 행렬 (양의 정부호 행렬 생성)\n",
    "cov_matrix = np.random.rand(100, 100)\n",
    "cov_matrix = np.dot(cov_matrix, cov_matrix.T)  # 대칭 & 양의정부호로 만듦\n",
    "\n",
    "# 무위험 수익률\n",
    "risk_free_rate = 0.02\n",
    "\n",
    "# 포토폴리오 최적화를 위한 목적 함수\n",
    "def portfolio_objective(weights, returns):\n",
    "    portfolio_return = np.sum(weights * returns)\n",
    "    portfolio_risk = np.sqrt(np.dot(weights.T, np.dot(cov_matrix * 252, weights)))\n",
    "    # Sharpe Ratio를 최대화 → 음수로 만들어 minimize()에 사용\n",
    "    # 부호 반전 → 최소화 문제로 변환\n",
    "    return -((portfolio_return - risk_free_rate) / portfolio_risk)\n",
    "\n",
    "# 초기값: 동일 가중치\n",
    "initial_weights = np.ones(len(returns)) / len(returns)\n",
    "\n",
    "# 최적화 실행\n",
    "result = minimize(portfolio_objective, initial_weights, args=(returns,))\n",
    "\n",
    "# 결과 출력\n",
    "optimal_weights = result.x\n",
    "print(\"최적 포트폴리오 비중 (앞 10개):\", np.round(optimal_weights[:10], 4))\n"
   ]
  },
  {
   "cell_type": "code",
   "execution_count": 77,
   "id": "7af15686",
   "metadata": {},
   "outputs": [
    {
     "data": {
      "text/plain": [
       "array([ 412.42786153,  204.3979847 , -107.11202745,   78.60746217,\n",
       "       -125.54292961, -237.03101508,  436.62031483,  114.25099014,\n",
       "        136.63683176, -122.04674696, -593.43137761,  231.14615457,\n",
       "        620.82949583,  170.89074313, -413.17345087, -681.78875216,\n",
       "        -81.47492009,  415.28480472, -430.52844006, -225.73995515,\n",
       "       -107.90913885, -575.18482679,  165.72551762,  -95.00733166,\n",
       "        -56.07682567,    6.84683755,  555.99816955,  789.58675461,\n",
       "       -358.26951769,   66.7288268 , -186.89002775, -958.93920441,\n",
       "        200.81225955, -208.29149868,  332.96235735, -211.20554229,\n",
       "        292.81284844, -559.92986297, -318.27181224,  195.38700117,\n",
       "        156.72583899, -205.63333212,   26.23562098,  668.25276425,\n",
       "         69.60364001, -328.41697523,  990.0677894 ,  425.67291179,\n",
       "        -73.20474348,  -51.19917004,  141.68986197,  256.53272189,\n",
       "       -400.38993586, -315.16774961, -389.84408589, -379.37320914,\n",
       "       -677.32226617,  551.09027202,  -51.55916138,  222.18307646,\n",
       "        142.41340373,    4.06770466,  389.47498545, -585.94811939,\n",
       "        563.1967708 ,  302.34155493,  366.35839203,  422.03975595,\n",
       "        264.88598953,   76.3243557 ,  -87.922145  , -188.61419944,\n",
       "        134.80057983,  709.93521891, -424.23194075,   41.42283327,\n",
       "         -9.30230541, -290.4273192 ,  284.93085183,  187.45746683,\n",
       "         29.96862692, -170.70354667,  254.96555756,  221.11001605,\n",
       "       -428.30642135, -531.18916102, -309.97131573,  -90.15728128,\n",
       "        355.80295076, -215.37828486,  121.33887345,   65.57262697,\n",
       "        259.92755762,  278.04001053, -603.63655709, -368.59612032,\n",
       "        264.69802918,  -72.7964    , -261.90688788, -460.69809008])"
      ]
     },
     "execution_count": 77,
     "metadata": {},
     "output_type": "execute_result"
    }
   ],
   "source": [
    "optimal_weights  #optimal_weights: 수익률 대비 리스크가 가장 이상적인 자산 비중 조합"
   ]
  },
  {
   "cell_type": "code",
   "execution_count": 87,
   "id": "fe96cbea",
   "metadata": {},
   "outputs": [
    {
     "data": {
      "text/plain": [
       "51.33989790116112"
      ]
     },
     "execution_count": 87,
     "metadata": {},
     "output_type": "execute_result"
    }
   ],
   "source": [
    "optimal_weights.sum() #전체 자산 비중의 합"
   ]
  },
  {
   "cell_type": "code",
   "execution_count": 86,
   "id": "1309df8d",
   "metadata": {},
   "outputs": [
    {
     "data": {
      "text/plain": [
       "array([0.37454012, 0.95071431, 0.73199394, 0.59865848, 0.15601864,\n",
       "       0.15599452, 0.05808361, 0.86617615, 0.60111501, 0.70807258,\n",
       "       0.02058449, 0.96990985, 0.83244264, 0.21233911, 0.18182497,\n",
       "       0.18340451, 0.30424224, 0.52475643, 0.43194502, 0.29122914,\n",
       "       0.61185289, 0.13949386, 0.29214465, 0.36636184, 0.45606998,\n",
       "       0.78517596, 0.19967378, 0.51423444, 0.59241457, 0.04645041,\n",
       "       0.60754485, 0.17052412, 0.06505159, 0.94888554, 0.96563203,\n",
       "       0.80839735, 0.30461377, 0.09767211, 0.68423303, 0.44015249,\n",
       "       0.12203823, 0.49517691, 0.03438852, 0.9093204 , 0.25877998,\n",
       "       0.66252228, 0.31171108, 0.52006802, 0.54671028, 0.18485446,\n",
       "       0.96958463, 0.77513282, 0.93949894, 0.89482735, 0.59789998,\n",
       "       0.92187424, 0.0884925 , 0.19598286, 0.04522729, 0.32533033,\n",
       "       0.38867729, 0.27134903, 0.82873751, 0.35675333, 0.28093451,\n",
       "       0.54269608, 0.14092422, 0.80219698, 0.07455064, 0.98688694,\n",
       "       0.77224477, 0.19871568, 0.00552212, 0.81546143, 0.70685734,\n",
       "       0.72900717, 0.77127035, 0.07404465, 0.35846573, 0.11586906,\n",
       "       0.86310343, 0.62329813, 0.33089802, 0.06355835, 0.31098232,\n",
       "       0.32518332, 0.72960618, 0.63755747, 0.88721274, 0.47221493,\n",
       "       0.11959425, 0.71324479, 0.76078505, 0.5612772 , 0.77096718,\n",
       "       0.4937956 , 0.52273283, 0.42754102, 0.02541913, 0.10789143])"
      ]
     },
     "execution_count": 86,
     "metadata": {},
     "output_type": "execute_result"
    }
   ],
   "source": [
    "returns  #returns: 각 자산의 연간 기대 수익률 (100개 자산)"
   ]
  },
  {
   "cell_type": "code",
   "execution_count": 88,
   "id": "b1be7264",
   "metadata": {},
   "outputs": [
    {
     "data": {
      "text/plain": [
       "array([0.01, 0.01, 0.01, 0.01, 0.01, 0.01, 0.01, 0.01, 0.01, 0.01, 0.01,\n",
       "       0.01, 0.01, 0.01, 0.01, 0.01, 0.01, 0.01, 0.01, 0.01, 0.01, 0.01,\n",
       "       0.01, 0.01, 0.01, 0.01, 0.01, 0.01, 0.01, 0.01, 0.01, 0.01, 0.01,\n",
       "       0.01, 0.01, 0.01, 0.01, 0.01, 0.01, 0.01, 0.01, 0.01, 0.01, 0.01,\n",
       "       0.01, 0.01, 0.01, 0.01, 0.01, 0.01, 0.01, 0.01, 0.01, 0.01, 0.01,\n",
       "       0.01, 0.01, 0.01, 0.01, 0.01, 0.01, 0.01, 0.01, 0.01, 0.01, 0.01,\n",
       "       0.01, 0.01, 0.01, 0.01, 0.01, 0.01, 0.01, 0.01, 0.01, 0.01, 0.01,\n",
       "       0.01, 0.01, 0.01, 0.01, 0.01, 0.01, 0.01, 0.01, 0.01, 0.01, 0.01,\n",
       "       0.01, 0.01, 0.01, 0.01, 0.01, 0.01, 0.01, 0.01, 0.01, 0.01, 0.01,\n",
       "       0.01])"
      ]
     },
     "execution_count": 88,
     "metadata": {},
     "output_type": "execute_result"
    }
   ],
   "source": [
    "initial_weights  #초기값: 동일 가중치"
   ]
  },
  {
   "cell_type": "code",
   "execution_count": 89,
   "id": "ffd93a3a",
   "metadata": {},
   "outputs": [
    {
     "data": {
      "text/plain": [
       "array([[33.28914889, 24.52168683, 24.35061896, ..., 26.75994441,\n",
       "        24.68963772, 24.09099148],\n",
       "       [24.52168683, 35.31491104, 23.59072074, ..., 26.49619214,\n",
       "        25.35303992, 26.25305628],\n",
       "       [24.35061896, 23.59072074, 32.64803446, ..., 27.22714182,\n",
       "        25.34970149, 24.05640439],\n",
       "       ...,\n",
       "       [26.75994441, 26.49619214, 27.22714182, ..., 36.16989456,\n",
       "        26.71531025, 27.35292886],\n",
       "       [24.68963772, 25.35303992, 25.34970149, ..., 26.71531025,\n",
       "        31.48931511, 23.74411011],\n",
       "       [24.09099148, 26.25305628, 24.05640439, ..., 27.35292886,\n",
       "        23.74411011, 34.44227886]])"
      ]
     },
     "execution_count": 89,
     "metadata": {},
     "output_type": "execute_result"
    }
   ],
   "source": [
    "cov_matrix  #cov_matrix: 수익률 간의 공분산 행렬 (위험 척도)"
   ]
  },
  {
   "cell_type": "markdown",
   "id": "e7d0866f",
   "metadata": {},
   "source": [
    "12. Black-Scholes-Merton 방정식\n",
    "* 설명:\n",
    "    * black_scholes_merton(): Black-Scholes 공식의 시간 흐름에 따른 미분 방정식 표현\n",
    "    * solve_ivp(): SciPy의 수치적분 함수로 위 방정식을 푸는 도구\n",
    "    * y0: 만기 시점에서의 옵션 가격 (즉시 행사할 경우)\n",
    "    * solution.y[0]: 옵션 가격의 시간 변화 결과\n",
    "    * plt.plot(): 시간에 따른 옵션 가격 그래프 시각화"
   ]
  },
  {
   "cell_type": "code",
   "execution_count": null,
   "id": "eeb87d40",
   "metadata": {},
   "outputs": [],
   "source": [
    "!pip install matplotlib"
   ]
  },
  {
   "cell_type": "code",
   "execution_count": 94,
   "id": "6f0e39c9",
   "metadata": {},
   "outputs": [
    {
     "data": {
      "image/png": "[encoded data removed]",
      "text/plain": [
       "<Figure size 640x480 with 1 Axes>"
      ]
     },
     "metadata": {},
     "output_type": "display_data"
    }
   ],
   "source": [
    "from scipy.stats import norm\n",
    "from scipy.integrate import solve_ivp\n",
    "import numpy as np\n",
    "import matplotlib.pyplot as plt\n",
    "\n",
    "# 옵션 기본 파라미터\n",
    "S = 100     # 현재 주가\n",
    "K = 105     # 행사가격\n",
    "T = 1.0     # 만기까지 시간 (1년)\n",
    "r = 0.05    # 무위험 수익률\n",
    "sigma = 0.2 # 변동성\n",
    "\n",
    "# Black-Scholes-Merton 미분방정식 정의\n",
    "def black_scholes_merton(t, y):\n",
    "    if T - t == 0:\n",
    "        return 0\n",
    "    d1 = (np.log(S / K) + (r + 0.5 * sigma**2) * (T - t)) / (sigma * np.sqrt(T - t))\n",
    "    d2 = d1 - sigma * np.sqrt(T - t)\n",
    "    # 수치 적분용 도함수 정의: dy/dt\n",
    "    return r * y[0] - S * norm.cdf(d1) + K * np.exp(-r * (T - t)) * norm.cdf(d2)\n",
    "\n",
    "\n",
    "# 초기 조건 (만기 시점에서 옵션 가치는 max(S - K, 0))\n",
    "y0 = max(S - K, 0)\n",
    "\n",
    "# 시간 범위 (0년 ~ 1년, 100개의 구간)\n",
    "t_span = [0, T]\n",
    "\n",
    "# 미분방정식 풀기\n",
    "solution = solve_ivp(black_scholes_merton, t_span, [y0], t_eval=np.linspace(*t_span, 100))\n",
    "\n",
    "# 결과 시각화\n",
    "plt.plot(solution.t, solution.y[0])\n",
    "plt.title(\"Black-Scholes-Merton 옵션 가격의 시간 변화\")\n",
    "plt.xlabel(\"Time to Maturity\")\n",
    "plt.ylabel(\"Option Price\")\n",
    "plt.grid(True)\n",
    "plt.show()"
   ]
  },
  {
   "cell_type": "code",
   "execution_count": 97,
   "id": "cc90fec6",
   "metadata": {},
   "outputs": [
    {
     "name": "stdout",
     "output_type": "stream",
     "text": [
      "  message: The solver successfully reached the end of the integration interval.\n",
      "  success: True\n",
      "   status: 0\n",
      "        t: [ 0.000e+00  1.010e-02 ...  9.899e-01  1.000e+00]\n",
      "        y: [[ 0.000e+00 -8.072e-02 ... -4.517e+00 -4.518e+00]]\n",
      "      sol: None\n",
      " t_events: None\n",
      " y_events: None\n",
      "     nfev: 32\n",
      "     njev: 0\n",
      "      nlu: 0\n"
     ]
    }
   ],
   "source": [
    "print(solution)"
   ]
  },
  {
   "cell_type": "markdown",
   "id": "785573f6",
   "metadata": {},
   "source": [
    "\"Black-Scholes-Merton 모델에서 옵션 가격은 음수가 될 수 없습니다.\"\n",
    "\n",
    "다음은 챗GPT가 수정해 준 코드입니다."
   ]
  },
  {
   "cell_type": "code",
   "execution_count": 99,
   "id": "78e0f0c6",
   "metadata": {},
   "outputs": [
    {
     "data": {
      "image/png": "[encoded data removed]",
      "text/plain": [
       "<Figure size 640x480 with 1 Axes>"
      ]
     },
     "metadata": {},
     "output_type": "display_data"
    }
   ],
   "source": [
    "from scipy.stats import norm\n",
    "import numpy as np\n",
    "\n",
    "S = 100     # 현재 주가\n",
    "K = 105     # 행사가격\n",
    "T = 1.0     # 만기까지 시간 (1년)\n",
    "r = 0.05    # 무위험 수익률\n",
    "sigma = 0.2 # 변동성\n",
    "\n",
    "def call_option_price(S, K, T, r, sigma):\n",
    "    d1 = (np.log(S / K) + (r + 0.5 * sigma**2) * T) / (sigma * np.sqrt(T))\n",
    "    d2 = d1 - sigma * np.sqrt(T)\n",
    "    return S * norm.cdf(d1) - K * np.exp(-r * T) * norm.cdf(d2)\n",
    "\n",
    "# 시간별 옵션 가격 변화 확인\n",
    "time_grid = np.linspace(0.01, 1, 100)  # 0 → 1년\n",
    "prices = [call_option_price(S=S, K=K, T=t, r=r, sigma=sigma) for t in time_grid]\n",
    "\n",
    "import matplotlib.pyplot as plt\n",
    "plt.plot(time_grid, prices)\n",
    "plt.title(\"정확한 Black-Scholes Call Option 가격\")\n",
    "plt.xlabel(\"Time to Maturity\")\n",
    "plt.ylabel(\"Option Price\")\n",
    "plt.grid(True)\n",
    "plt.show()"
   ]
  },
  {
   "cell_type": "code",
   "execution_count": 107,
   "id": "f17c40ff",
   "metadata": {},
   "outputs": [
    {
     "name": "stdout",
     "output_type": "stream",
     "text": [
      "[0.005334734647497119, 0.05432498766598304, 0.1403571082149302, 0.2443083188633839, 0.3564660176106482, 0.47210812597831264, 0.5888291578403511, 0.7053531217713314, 0.8209884340173161, 0.9353613806114893, 1.0482779418736143, 1.159648541419891, 1.269445372049418, 1.3776773907564106, 1.4843752815620412, 1.589582231015239, 1.69334818902664, 1.7957262687342528, 1.896770484596587, 1.9965343407714329, 2.0950699662272214, 2.192427604342221, 2.2886553333758926, 2.3837989373081285, 2.477901874073254, 2.5710053060531095, 2.663148169395967, 2.7543672664903696, 2.84469737111813, 2.934171339314574, 3.0228202213400763, 3.110673371785886, 3.197758555940162, 3.284102051293857, 3.3697287435769354, 3.454662217060772, 3.538924839092587, 3.6225378389777987, 3.705521381420958, 3.7878946347927283, 3.8696758345207627, 3.950882341915019, 4.031530698738095, 4.1116366778249045, 4.191215330042532, 4.2702810278670995, 4.34884750583673, 4.426927898123097, 4.5045347734461245, 4.581680167540007, 4.658375613362253, 4.734632169222401, 4.810460444992529, 4.885870626548915, 4.960872498580962, 5.035475465893384, 5.109688573316014, 5.183520524326937, 5.256979698485367, 5.330074167762987, 5.4028117118548735, 5.475199832544746, 5.547245767192905, 5.618956501409933, 5.690338780973839, 5.761399123044001, 5.832143826720802, 5.9025789829960615, 5.972710484136002, 6.042544032534806, 6.112085149074467, 6.181339181023418, 6.250311309504298, 6.319006556558698, 6.3874297918348475, 6.455585738922167, 6.523478981354948, 6.59111396830577, 6.658495019987704, 6.7256263327832215, 6.792511984116288, 6.859155937082868, 6.92556204485448, 6.991734054867742, 7.057675612812737, 7.123390266431429, 7.188881469137179, 7.2541525834654195, 7.319206884364938, 7.384047562338495, 7.448677726441296, 7.513100407144734, 7.577318559072928, 7.641335063618747, 7.705152731445622, 7.7687743048813545, 7.832202460209224, 7.895439809861998, 7.958488904523591, 8.021352235143176]\n"
     ]
    }
   ],
   "source": [
    "print(prices)"
   ]
  },
  {
   "cell_type": "markdown",
   "id": "aca2a476",
   "metadata": {},
   "source": [
    "\"콜 옵션은 만기까지 남은 시간이 많을수록 더 가치가 있다.\n",
    "시간이 많다는 것은 ‘이득 볼 가능성’이 많다는 뜻이고,\n",
    "그 가능성 자체가 콜 옵션의 가격을 밀어 올린다.\""
   ]
  },
  {
   "cell_type": "markdown",
   "id": "0c15da1a",
   "metadata": {},
   "source": [
    "13. VaR (Value at Risk, 위험가치) 를 정규분포 기반으로 추정하는 코드\n",
    "* 설명:\n",
    "    * VaR: 주어진 기간 동안 얼마까지 손실이 발생할 수 있는지 추정한 금액\n",
    "    * 신뢰수준 95%: 100번 중 95번은 이보다 더 손해 보지 않는다는 통계적 보장\n",
    "    * 정규분포 기반: 수익률이 종 모양으로 퍼진다고 가정 (실전에서는 약간 보수적일 수 있음)"
   ]
  },
  {
   "cell_type": "code",
   "execution_count": 79,
   "id": "fbf00e87",
   "metadata": {},
   "outputs": [
    {
     "name": "stdout",
     "output_type": "stream",
     "text": [
      "단일일자 기준 95% VaR: -1.4863\n"
     ]
    }
   ],
   "source": [
    "from scipy.stats import norm\n",
    "import numpy as np\n",
    "\n",
    "# 1. 포트폴리오 수익률 시뮬레이션 (100일치, 정규분포 기반)\n",
    "np.random.seed(42)  # 재현 가능성\n",
    "portfolio_returns = np.random.randn(100)\n",
    "\n",
    "# 2. 신뢰수준 설정 (95%)\n",
    "confidence_level = 0.95\n",
    "\n",
    "# 3. VaR 계산 (정규분포 기반, 단일 기간)\n",
    "# VaR = 신뢰수준 하위 분위수 × 수익률의 표준편차\n",
    "var = norm.ppf(1 - confidence_level) * np.std(portfolio_returns)\n",
    "\n",
    "# 4. 출력\n",
    "print(f\"단일일자 기준 95% VaR: {round(var, 4)}\")"
   ]
  },
  {
   "cell_type": "markdown",
   "id": "043febf0",
   "metadata": {},
   "source": [
    "=> 95%의 확률로, 하루 동안 포트폴리오에서 -1.4863보다 더 큰 손실은 발생하지 않을 것이다."
   ]
  },
  {
   "cell_type": "markdown",
   "id": "a41083f1",
   "metadata": {},
   "source": [
    "14. 수익률 데이터를 정규분포와 t-분포에 각각 적합(fitting)\n",
    "* 설명:\n",
    "    * 시뮬레이션된 수익률 데이터를 대상으로\n",
    "    * 정규분포와 t-분포가 얼마나 잘 맞는지 파라미터를 추정합니다."
   ]
  },
  {
   "cell_type": "code",
   "execution_count": 80,
   "id": "3b5ad16e",
   "metadata": {},
   "outputs": [
    {
     "name": "stdout",
     "output_type": "stream",
     "text": [
      "[정규분포 추정] 평균: 0.0193, 표준편차: 0.9787\n",
      "[t-분포 추정] 자유도: 102.01, 위치: 0.0183, 스케일: 0.9691\n"
     ]
    }
   ],
   "source": [
    "from scipy.stats import norm, t\n",
    "import numpy as np\n",
    "\n",
    "# 1. 수익률 데이터 시뮬레이션 (정규분포 기반, 1000개)\n",
    "np.random.seed(42)\n",
    "returns = np.random.randn(1000)\n",
    "\n",
    "# 2. 정규분포에 피팅 (평균, 표준편차 추정)\n",
    "mu, std = norm.fit(returns)\n",
    "\n",
    "# 3. t-분포에 피팅 (자유도, 위치, 스케일 추정)\n",
    "df, loc, scale = t.fit(returns)\n",
    "\n",
    "# 4. 출력\n",
    "print(f\"[정규분포 추정] 평균: {mu:.4f}, 표준편차: {std:.4f}\")\n",
    "print(f\"[t-분포 추정] 자유도: {df:.2f}, 위치: {loc:.4f}, 스케일: {scale:.4f}\")"
   ]
  },
  {
   "cell_type": "markdown",
   "id": "75bc8987",
   "metadata": {},
   "source": [
    "=> \n",
    "t-분포는 자유도가 클수록 정규분포와 유사.\n",
    "\n",
    "여기서 df ≈ 102 → 사실상 정규분포와 거의 동일함.\n",
    "\n",
    "다시 말해, 수익률 데이터는 정규분포로 근사해도 큰 무리는 없다는 뜻임."
   ]
  },
  {
   "cell_type": "markdown",
   "id": "40ca9d02",
   "metadata": {},
   "source": [
    "##  Financial libraries 금융 라이브러리\n",
    "* 트레이더와 애널리스트에게 복잡한 금융시장을 탐색할 수 있는 자료의 보고를 제공하는 퀀트 금융의 초석 역할을 한다.\n",
    "* 알고리즘 트레이딩 개발 주기가 크게 빨라진다."
   ]
  },
  {
   "cell_type": "markdown",
   "id": "6d343485",
   "metadata": {},
   "source": [
    "## Quantlib 퀀틀립 (15)"
   ]
  },
  {
   "cell_type": "markdown",
   "id": "8f3223cd",
   "metadata": {},
   "source": [
    "15. 유럽형 옵션의 가격을 Black-Scholes 모델로 계산하는 예제\n",
    "* 설명:\n",
    "    * option_params: 옵션의 기초자산 가격, 행사가격, 만기일, 변동성, 무위험이자율 정의\n",
    "    * Settings.instance().evaluationDate: QuantLib의 기준일 설정 (모든 계산 기준이 되는 날짜)\n",
    "    * PlainVanillaPayoff(): 콜옵션 혹은 풋옵션의 기본 페이오프 구조 정의\n",
    "    * EuropeanOption(): 유럽형 옵션 객체 생성\n",
    "    * AnalyticEuropeanEngine(): Black-Scholes 모델 기반 옵션 가격 계산 엔진\n",
    "    * option.NPV(): Net Present Value, 즉 옵션의 현재 가치 (가격) 계산"
   ]
  },
  {
   "cell_type": "code",
   "execution_count": null,
   "id": "987d8f03",
   "metadata": {},
   "outputs": [],
   "source": [
    "!pip install QuantLib"
   ]
  },
  {
   "cell_type": "code",
   "execution_count": 175,
   "id": "19315c6e",
   "metadata": {},
   "outputs": [
    {
     "name": "stdout",
     "output_type": "stream",
     "text": [
      "계산 European Call Option Price: 3.6503\n"
     ]
    }
   ],
   "source": [
    "from QuantLib import *\n",
    "import datetime\n",
    "\n",
    "# 옵션 파라미터 정의\n",
    "option_params = {\n",
    "    \"underlyingPrice\": 100,\n",
    "    \"strikePrice\": 105,\n",
    "    \"expiryDate\": datetime.date(2023, 12, 31),\n",
    "    \"volatility\": 0.2,\n",
    "    \"riskFreeRate\": 0.05\n",
    "}\n",
    "\n",
    "# 평가 기준일 설정\n",
    "today = Date(15, 8, 2023)\n",
    "Settings.instance().evaluationDate = today\n",
    "\n",
    "# 옵션의 Payoff 및 Exercise 조건\n",
    "payoff = PlainVanillaPayoff(Option.Call, option_params[\"strikePrice\"])\n",
    "expiry = Date(option_params[\"expiryDate\"].day, option_params[\"expiryDate\"].month, option_params[\"expiryDate\"].year)\n",
    "exercise = EuropeanExercise(expiry)\n",
    "\n",
    "option = EuropeanOption(payoff, exercise)\n",
    "\n",
    "# 핸들용 Quote 객체 별도로 분리\n",
    "spot_quote = SimpleQuote(option_params[\"underlyingPrice\"])\n",
    "rate_quote = SimpleQuote(option_params[\"riskFreeRate\"])\n",
    "vol_quote = SimpleQuote(option_params[\"volatility\"])\n",
    "\n",
    "# 핸들 생성\n",
    "spot_handle = QuoteHandle(spot_quote)\n",
    "risk_free_handle = YieldTermStructureHandle(\n",
    "    FlatForward(today, QuoteHandle(rate_quote), Actual360())\n",
    ")\n",
    "dividend_handle = YieldTermStructureHandle(\n",
    "    FlatForward(today, QuoteHandle(SimpleQuote(0.0)), Actual360())\n",
    ")\n",
    "vol_handle = BlackVolTermStructureHandle(\n",
    "    BlackConstantVol(today, TARGET(), QuoteHandle(vol_quote), Actual360())\n",
    ")\n",
    "\n",
    "# Black-Scholes Process\n",
    "bsm_process = GeneralizedBlackScholesProcess(\n",
    "    spot_handle, dividend_handle, risk_free_handle, vol_handle\n",
    ")\n",
    "\n",
    "# 엔진 설정 및 가격 계산\n",
    "option.setPricingEngine(AnalyticEuropeanEngine(bsm_process))\n",
    "initial_price = option.NPV()\n",
    "print(f\"계산 European Call Option Price: {option_price:.4f}\")\n",
    "\n"
   ]
  },
  {
   "cell_type": "markdown",
   "id": "0dda7bed",
   "metadata": {},
   "source": [
    "=> 오늘(2023년 8월 15일) 기준으로,\n",
    "100에 거래되는 주식을 12월 31일에 105에 살 수 있는 유럽형 콜옵션의 이론적 가격은 약 3.65입니다.\n",
    "\n",
    "현재 이 옵션은 약 3.65의 프리미엄이 있습니다.\n",
    "\n",
    "이 말은 곧, 105원에 살 수 있는 권리를 가지기 위해 지금 3.65원을 지불해야 한다는 뜻입니다.\n",
    "\n",
    "주가가 많이 오르면 이 옵션의 가치는 더 커질 수 있고,\n",
    "만기일에 주가가 108.65 이상이면 수익을 보게 됩니다 (105 + 3.65 = 108.65 기준 손익분기점)"
   ]
  },
  {
   "cell_type": "code",
   "execution_count": 176,
   "id": "fb0989c9",
   "metadata": {},
   "outputs": [
    {
     "name": "stdout",
     "output_type": "stream",
     "text": [
      "변경 후 vol_quote=10% → Option Price: 1.2849\n"
     ]
    }
   ],
   "source": [
    "# riskFreeRate 값을 변경\n",
    "vol_quote.setValue(0.1)\n",
    "\n",
    "# 다시 계산\n",
    "new_price = option.NPV()\n",
    "print(f\"변경 후 vol_quote=10% → Option Price: {new_price:.4f}\")"
   ]
  },
  {
   "cell_type": "markdown",
   "id": "e934bde7",
   "metadata": {},
   "source": [
    "## PyAlTrade (16)"
   ]
  },
  {
   "cell_type": "markdown",
   "id": "a5050901",
   "metadata": {},
   "source": [
    "16. 이동평균선(SMA) 골든크로스/데드크로스 전략\n",
    "* 설명:\n",
    "    * ma.SMA(): 단기(50일), 장기(200일) 이동 평균 생성\n",
    "    * cross_above(): 단기가 장기를 위로 돌파 (골든 크로스) → 매수 진입\n",
    "    * cross_below(): 단기가 장기를 아래로 돌파 (데드 크로스) → 매도 청산\n",
    "    * __position: 현재 포지션 보유 여부 추적\n",
    "    * enterLong(): 롱 포지션 진입\n",
    "    * exitMarket(): 포지션 청산"
   ]
  },
  {
   "cell_type": "code",
   "execution_count": null,
   "id": "59ace9b0",
   "metadata": {},
   "outputs": [],
   "source": [
    "!pip install pyalgotrade"
   ]
  },
  {
   "cell_type": "code",
   "execution_count": 108,
   "id": "3391d6b0",
   "metadata": {},
   "outputs": [
    {
     "name": "stdout",
     "output_type": "stream",
     "text": [
      "[2023-10-06 00:00:00] 가격: 19180.88 | SMA50: 19201.73 | SMA200: 19207.43\n",
      "[2023-10-09 00:00:00] 가격: 19209.90 | SMA50: 19209.39 | SMA200: 19203.14\n",
      "단기SMA가 장기SMA를 상회 -> 매수\n",
      "[2023-10-10 00:00:00] 가격: 19297.42 | SMA50: 19218.39 | SMA200: 19199.25\n",
      "[2023-10-11 00:00:00] 가격: 19370.66 | SMA50: 19230.77 | SMA200: 19195.74\n",
      "[2023-10-12 00:00:00] 가격: 19461.95 | SMA50: 19244.86 | SMA200: 19191.73\n",
      "[2023-10-13 00:00:00] 가격: 19321.22 | SMA50: 19254.06 | SMA200: 19187.25\n",
      "[2023-10-16 00:00:00] 가격: 19270.69 | SMA50: 19264.70 | SMA200: 19182.63\n",
      "[2023-10-17 00:00:00] 가격: 19284.47 | SMA50: 19271.89 | SMA200: 19177.29\n",
      "[2023-10-18 00:00:00] 가격: 19396.55 | SMA50: 19280.40 | SMA200: 19172.15\n",
      "[2023-10-19 00:00:00] 가격: 19371.32 | SMA50: 19290.69 | SMA200: 19167.04\n",
      "[2023-10-20 00:00:00] 가격: 19832.16 | SMA50: 19309.02 | SMA200: 19164.04\n",
      "[2023-10-23 00:00:00] 가격: 19859.54 | SMA50: 19330.02 | SMA200: 19161.30\n",
      "[2023-10-24 00:00:00] 가격: 19966.95 | SMA50: 19351.59 | SMA200: 19159.37\n",
      "[2023-10-25 00:00:00] 가격: 20053.38 | SMA50: 19372.36 | SMA200: 19157.76\n",
      "[2023-10-26 00:00:00] 가격: 20137.40 | SMA50: 19396.66 | SMA200: 19157.60\n",
      "[2023-10-27 00:00:00] 가격: 20097.14 | SMA50: 19418.29 | SMA200: 19158.06\n",
      "[2023-10-30 00:00:00] 가격: 20195.85 | SMA50: 19440.75 | SMA200: 19159.17\n",
      "[2023-10-31 00:00:00] 가격: 20098.79 | SMA50: 19459.76 | SMA200: 19160.32\n",
      "[2023-11-01 00:00:00] 가격: 20075.83 | SMA50: 19473.82 | SMA200: 19161.35\n",
      "[2023-11-02 00:00:00] 가격: 20017.02 | SMA50: 19488.85 | SMA200: 19162.44\n",
      "[2023-11-03 00:00:00] 가격: 20031.34 | SMA50: 19504.18 | SMA200: 19164.23\n",
      "[2023-11-06 00:00:00] 가격: 20270.10 | SMA50: 19526.00 | SMA200: 19166.73\n",
      "[2023-11-07 00:00:00] 가격: 20043.01 | SMA50: 19546.24 | SMA200: 19167.98\n",
      "[2023-11-08 00:00:00] 가격: 20118.88 | SMA50: 19567.46 | SMA200: 19169.70\n",
      "[2023-11-09 00:00:00] 가격: 19999.43 | SMA50: 19585.62 | SMA200: 19171.41\n",
      "[2023-11-10 00:00:00] 가격: 19940.79 | SMA50: 19602.47 | SMA200: 19173.24\n",
      "[2023-11-13 00:00:00] 가격: 20042.59 | SMA50: 19619.45 | SMA200: 19175.62\n",
      "[2023-11-14 00:00:00] 가격: 20053.07 | SMA50: 19636.74 | SMA200: 19178.61\n",
      "[2023-11-15 00:00:00] 가격: 19951.88 | SMA50: 19647.96 | SMA200: 19180.74\n",
      "[2023-11-16 00:00:00] 가격: 19862.60 | SMA50: 19658.25 | SMA200: 19182.71\n",
      "[2023-11-17 00:00:00] 가격: 19925.79 | SMA50: 19664.23 | SMA200: 19185.25\n",
      "[2023-11-20 00:00:00] 가격: 19872.23 | SMA50: 19668.10 | SMA200: 19187.67\n",
      "[2023-11-21 00:00:00] 가격: 19870.40 | SMA50: 19674.40 | SMA200: 19189.38\n",
      "[2023-11-22 00:00:00] 가격: 19902.69 | SMA50: 19683.24 | SMA200: 19191.11\n",
      "[2023-11-23 00:00:00] 가격: 19795.31 | SMA50: 19688.56 | SMA200: 19192.94\n",
      "[2023-11-24 00:00:00] 가격: 20064.34 | SMA50: 19700.39 | SMA200: 19195.64\n",
      "[2023-11-27 00:00:00] 가격: 20116.60 | SMA50: 19711.07 | SMA200: 19199.15\n",
      "[2023-11-28 00:00:00] 가격: 19909.75 | SMA50: 19717.04 | SMA200: 19201.62\n",
      "[2023-11-29 00:00:00] 가격: 19942.93 | SMA50: 19723.88 | SMA200: 19205.18\n",
      "[2023-11-30 00:00:00] 가격: 19890.41 | SMA50: 19730.92 | SMA200: 19209.00\n",
      "[2023-12-01 00:00:00] 가격: 19962.63 | SMA50: 19742.55 | SMA200: 19213.24\n",
      "[2023-12-04 00:00:00] 가격: 19826.27 | SMA50: 19752.67 | SMA200: 19216.29\n",
      "[2023-12-05 00:00:00] 가격: 19826.03 | SMA50: 19760.46 | SMA200: 19219.46\n",
      "[2023-12-06 00:00:00] 가격: 19889.62 | SMA50: 19769.98 | SMA200: 19222.83\n",
      "[2023-12-07 00:00:00] 가격: 19989.21 | SMA50: 19783.32 | SMA200: 19226.75\n",
      "[2023-12-08 00:00:00] 가격: 19879.01 | SMA50: 19794.11 | SMA200: 19231.26\n",
      "[2023-12-11 00:00:00] 가격: 19820.70 | SMA50: 19803.33 | SMA200: 19235.67\n",
      "[2023-12-12 00:00:00] 가격: 19791.45 | SMA50: 19813.47 | SMA200: 19240.03\n",
      "[2023-12-13 00:00:00] 가격: 19707.28 | SMA50: 19822.26 | SMA200: 19243.51\n",
      "[2023-12-14 00:00:00] 가격: 19886.70 | SMA50: 19833.64 | SMA200: 19247.66\n",
      "[2023-12-15 00:00:00] 가격: 19911.29 | SMA50: 19848.25 | SMA200: 19252.92\n"
     ]
    }
   ],
   "source": [
    "# 라이브러리 임포트\n",
    "from pyalgotrade import strategy\n",
    "from pyalgotrade.technical import ma\n",
    "from pyalgotrade.technical import cross\n",
    "from pyalgotrade.barfeed import yahoofeed  # 또는 CSVFeed\n",
    "import matplotlib.pyplot as plt\n",
    "\n",
    "# 전략 클래스 정의\n",
    "class SMACrossoverStrategy(strategy.BacktestingStrategy):\n",
    "    def __init__(self, feed, instrument, smaShort, smaLong):\n",
    "        super(SMACrossoverStrategy, self).__init__(feed)\n",
    "        self.__instrument = instrument\n",
    "        self.__smaShort = ma.SMA(feed[instrument].getPriceDataSeries(), smaShort)\n",
    "        self.__smaLong = ma.SMA(feed[instrument].getPriceDataSeries(), smaLong)\n",
    "        self.__position = None\n",
    "\n",
    "    def onEnterCanceled(self, position):\n",
    "        self.__position = None\n",
    "\n",
    "    def onExitOk(self, position):\n",
    "        self.__position = None\n",
    "\n",
    "    def onExitCanceled(self, position):\n",
    "        self.__position.exitMarket()\n",
    "\n",
    "    def onBars(self, bars):\n",
    "        if self.__smaShort[-1] is None or self.__smaLong[-1] is None:\n",
    "            return\n",
    "\n",
    "        bar = bars[self.__instrument]\n",
    "        print(f\"[{bar.getDateTime()}] 가격: {bar.getClose():.2f} | SMA50: {self.__smaShort[-1]:.2f} | SMA200: {self.__smaLong[-1]:.2f}\")\n",
    "\n",
    "        if cross.cross_above(self.__smaShort, self.__smaLong) and self.__position is None:\n",
    "            print(\"단기SMA가 장기SMA를 상회 -> 매수\")\n",
    "            self.__position = self.enterLong(self.__instrument, 51)  #100 시장가로 51주 매수를 시도\n",
    "\n",
    "        elif cross.cross_below(self.__smaShort, self.__smaLong) and self.__position is not None:\n",
    "            print(\"단기SMA가 장기SMA를 하회 -> 매도\")\n",
    "            self.__position.exitMarket()\n",
    "\n",
    "# 피드 준비 및 전략 실행\n",
    "from pyalgotrade.bar import Frequency\n",
    "from pyalgotrade.barfeed import csvfeed\n",
    "\n",
    "feed = csvfeed.GenericBarFeed(frequency=Frequency.DAY)\n",
    "feed.addBarsFromCSV(\"BTC\", \"BTCUSD_250.csv\")\n",
    "\n",
    "strategy_instance = SMACrossoverStrategy(feed, \"BTC\", 50, 200)\n",
    "strategy_instance.run()\n"
   ]
  },
  {
   "cell_type": "markdown",
   "id": "84bb1b86",
   "metadata": {},
   "source": [
    "## Zipline (17~18)\n",
    "\n",
    "* zipline.api 설치 문제로 후퇴"
   ]
  },
  {
   "cell_type": "markdown",
   "id": "fd54ebb4",
   "metadata": {},
   "source": [
    "17. Zipline을 사용한 간단한 단일 주식 평균회귀 전략\n",
    "* 설명:\n",
    "    * initialize(): 전략 초기화 (감시 종목 등록, 목표 비중 설정 등)\n",
    "    * handle_data(): 매 시점마다 데이터 받아 전략 실행 (여기서는 평균회귀)\n",
    "    * order_target_percent(): 해당 종목 비중을 지정한 비율로 조정\n",
    "    * record(): 백테스트 중 데이터 기록 (시각화용)\n",
    "    * analyze(): 백테스트 후 결과 분석 및 출력\n",
    "    * 종목: AAPL\n",
    "    * 조건: 주가가 20일 평균보다 5% 낮으면 매수\n",
    "    * 비중: 전체 자산의 100%를 AAPL에 배분"
   ]
  },
  {
   "cell_type": "code",
   "execution_count": null,
   "id": "d01bc204",
   "metadata": {},
   "outputs": [],
   "source": [
    "from zipline.api import order_target_percent, record, symbol\n",
    "import numpy as np\n",
    "\n",
    "# 초기 설정\n",
    "def initialize(context):\n",
    "    context.stock = symbol('AAPL')\n",
    "    context.target_weight = 1.0\n",
    "    print(\"초기화 완료: 감시 종목 =\", context.stock)\n",
    "\n",
    "# 데이터 처리 로직\n",
    "def handle_data(context, data):\n",
    "    # 20일 가격 기록 가져오기\n",
    "    price_history = data.history(context.stock, fields='price', bar_count=20, frequency=\"1d\")\n",
    "\n",
    "    # 이동 평균 계산\n",
    "    moving_avg = price_history.mean()\n",
    "    current_price = data.current(context.stock, 'price')\n",
    "\n",
    "    print(f\"현재가: {current_price:.2f} / 20일 평균: {moving_avg:.2f}\")\n",
    "\n",
    "    # 조건: 현재가가 평균보다 5% 이상 저렴하면 매수\n",
    "    if current_price < 0.95 * moving_avg:\n",
    "        print(\"매수 실행\")\n",
    "        order_target_percent(context.stock, context.target_weight)\n",
    "    else:\n",
    "        print(\"유지\")\n",
    "\n",
    "    # 기록 (시각화용)\n",
    "    record(price=current_price, moving_avg=moving_avg)\n",
    "\n",
    "# 결과 분석 (Zipline의 analyze 훅)\n",
    "def analyze(context, perf):\n",
    "    print(\"시뮬레이션 완료!\")\n",
    "    # perf는 pandas DataFrame (수익률, 종목 가격 등 포함)\n",
    "    print(perf[['price', 'moving_avg']].tail())\n"
   ]
  },
  {
   "cell_type": "markdown",
   "id": "0ea6dd4d",
   "metadata": {},
   "source": [
    "18.  단순 이동 평균 교차 전략 (SMA Crossover) 을 구현\n",
    "* 설명:\n",
    "    * initialize\t전략에 필요한 설정, 종목 등록, 변수 초기화, 전략 예약 실행\n",
    "    * strategy\t매일 호출되는 함수. 과거 가격을 바탕으로 이동 평균 계산, 매수/매도 판단\n",
    "    * analyze\t시뮬레이션 결과를 요약하고 성과 지표와 차트를 출력\n",
    "    * run_algorithm\tZipline 백테스트 실행 함수\n",
    "    * 조건: 50일 이동평균 > 200일 이동평균 → 매수 / 반대 → 매도\n",
    "    * 수익률 측정: 총 수익률, 연환산 수익률, 변동성, 샤프 비율\n",
    "    * 시각화: 누적 수익률 + 이동평균선"
   ]
  },
  {
   "cell_type": "code",
   "execution_count": null,
   "id": "fdf8b7db",
   "metadata": {},
   "outputs": [],
   "source": [
    "from zipline.api import symbol, schedule_function, date_rules, time_rules, record, order_target_percent\n",
    "import pandas as pd\n",
    "import numpy as np\n",
    "import matplotlib.pyplot as plt\n",
    "from zipline import run_algorithm\n",
    "\n",
    "# 초기화 함수\n",
    "def initialize(context):\n",
    "    context.stock = symbol('AAPL')\n",
    "    context.short_window = 50\n",
    "    context.long_window = 200\n",
    "    context.initial_portfolio_allocation = 1.0\n",
    "    context.signals = []\n",
    "    context.portfolio_value = []\n",
    "\n",
    "    # 매일 시장 개장 시 전략 실행\n",
    "    schedule_function(strategy, date_rules.every_day(), time_rules.market_open())\n",
    "\n",
    "# 전략 함수\n",
    "def strategy(context, data):\n",
    "    # 과거 가격 데이터 가져오기\n",
    "    prices = data.history(context.stock, fields='price',\n",
    "                          bar_count=context.long_window, frequency='1d')\n",
    "\n",
    "    short_mavg = prices[-context.short_window:].mean()\n",
    "    long_mavg = prices.mean()\n",
    "    current_price = data.current(context.stock, 'price')\n",
    "\n",
    "    # 시각화 기록\n",
    "    record(short_mavg=short_mavg, long_mavg=long_mavg, price=current_price)\n",
    "\n",
    "    # 매수/매도 판단\n",
    "    if short_mavg > long_mavg:\n",
    "        context.signals.append(1)\n",
    "        order_target_percent(context.stock, context.initial_portfolio_allocation)\n",
    "    else:\n",
    "        context.signals.append(-1)\n",
    "        order_target_percent(context.stock, -context.initial_portfolio_allocation)\n",
    "\n",
    "# 분석 함수\n",
    "def analyze(context, perf):\n",
    "    returns = perf['returns']\n",
    "    cumulative_returns = (1 + returns).cumprod()\n",
    "    total_return = cumulative_returns[-1] - 1\n",
    "    annualized_return = cumulative_returns[-1] ** (252 / len(returns)) - 1\n",
    "    annualized_volatility = np.std(returns) * np.sqrt(252)\n",
    "    sharpe_ratio = (annualized_return - 0.03) / annualized_volatility\n",
    "\n",
    "    # 요약 출력\n",
    "    print(\"✅ 전략 성과\")\n",
    "    print(f\"Total return: {total_return:.2%}\")\n",
    "    print(f\"Annualized return: {annualized_return:.2%}\")\n",
    "    print(f\"Annualized volatility: {annualized_volatility:.2%}\")\n",
    "    print(f\"Sharpe ratio: {sharpe_ratio:.2f}\")\n",
    "\n",
    "    # 시각화\n",
    "    fig, ax1 = plt.subplots(figsize=(12, 6))\n",
    "    ax2 = ax1.twinx()\n",
    "\n",
    "    ax1.plot(perf.index, cumulative_returns, 'b-', label='Cumulative Returns')\n",
    "    ax2.plot(perf.index, perf['short_mavg'], 'g--', label='Short MA')\n",
    "    ax2.plot(perf.index, perf['long_mavg'], 'r--', label='Long MA')\n",
    "\n",
    "    ax1.set_xlabel('Date')\n",
    "    ax1.set_ylabel('Cumulative Returns', color='b')\n",
    "    ax2.set_ylabel('Moving Averages', color='g')\n",
    "\n",
    "    ax1.legend(loc='upper left')\n",
    "    ax2.legend(loc='upper right')\n",
    "    plt.title('Simple Moving Average Crossover Strategy')\n",
    "    plt.show()\n",
    "\n",
    "# 실행 조건\n",
    "start_date = pd.Timestamp('2010-01-01', tz='UTC')\n",
    "end_date = pd.Timestamp('2021-12-31', tz='UTC')\n",
    "\n",
    "# 백테스트 실행 (주의: zipline 환경 필요)\n",
    "# run_algorithm(\n",
    "#     start=start_date,\n",
    "#     end=end_date,\n",
    "#     initialize=initialize,\n",
    "#     analyze=analyze,\n",
    "#     capital_base=100000,\n",
    "#     data_frequency='daily',\n",
    "#     bundle='quandl'\n",
    "# )\n"
   ]
  },
  {
   "cell_type": "markdown",
   "id": "a86fc8c4",
   "metadata": {},
   "source": [
    "## pyfolio (19~21)\n",
    "* 포토폴리오 및 위험 분석을 위해 명시적으로 설계된 강력하 오픈 소스 라이브러리다.\n",
    "* pyfolio를 사용하여 누적 수익률, 연환산 수익률, 샤프 비율 등 핵심 성과 지표를 계산한다."
   ]
  },
  {
   "cell_type": "markdown",
   "id": "67cc95a7",
   "metadata": {},
   "source": [
    "19. PyFolio를 사용해 포트폴리오 수익률 분석을 수행\n",
    "* 설명:\n",
    "    * np.random.randn()\t정규분포를 따르는 랜덤 수익률 생성\n",
    "    * empyrical.annual_return()\t연환산 수익률 계산\n",
    "    * empyrical.sharpe_ratio()\t무위험 수익률 0 가정한 샤프 비율\n",
    "    * cumprod()\t누적 수익률 계산\n",
    "    * matplotlib\t수익률 그래프 출력"
   ]
  },
  {
   "cell_type": "code",
   "execution_count": null,
   "id": "eb033bb3",
   "metadata": {},
   "outputs": [],
   "source": [
    "# 1-1. 패키지\n",
    "!pip install pyfolio\n",
    "!pip install empyrical"
   ]
  },
  {
   "cell_type": "code",
   "execution_count": 434,
   "id": "bc36418c",
   "metadata": {},
   "outputs": [
    {
     "name": "stdout",
     "output_type": "stream",
     "text": [
      "returns >>>\n",
      " 2023-01-01    0.004967\n",
      "2023-01-02   -0.001383\n",
      "2023-01-03    0.006477\n",
      "2023-01-04    0.015230\n",
      "2023-01-05   -0.002342\n",
      "                ...   \n",
      "2023-04-06   -0.014635\n",
      "2023-04-07    0.002961\n",
      "2023-04-08    0.002611\n",
      "2023-04-09    0.000051\n",
      "2023-04-10   -0.002346\n",
      "Freq: D, Length: 100, dtype: float64\n"
     ]
    }
   ],
   "source": [
    "# 1-2. 코드 시작\n",
    "import pyfolio as pf\n",
    "import numpy as np\n",
    "import pandas as pd\n",
    "import matplotlib.pyplot as plt\n",
    "import warnings\n",
    "warnings.filterwarnings(\"ignore\")\n",
    "\n",
    "# 2. 가짜 수익률 데이터 생성\n",
    "np.random.seed(42)\n",
    "# 100일 동안의 랜덤 수익률 (정규분포 기반)\n",
    "portfolio_returns = np.random.randn(100) / 100  # 약 ±1% 수준\n",
    "\n",
    "# 3. Pandas Series로 변환 (필수: 날짜 인덱스 필요)\n",
    "dates = pd.date_range(start=\"2023-01-01\", periods=100, freq=\"D\")\n",
    "returns = pd.Series(portfolio_returns, index=dates)\n",
    "\n",
    "print(\"returns >>>\\n\", returns)"
   ]
  },
  {
   "cell_type": "code",
   "execution_count": 437,
   "id": "65502ca6",
   "metadata": {},
   "outputs": [
    {
     "name": "stdout",
     "output_type": "stream",
     "text": [
      "♤ 수익률 분석 결과\n",
      "- 총 누적 수익률: -10.24%\n",
      "- 연환산 수익률: -23.83%\n",
      "- 샤프 비율: -1.82\n"
     ]
    },
    {
     "data": {
      "image/png": "[encoded data removed]",
      "text/plain": [
       "<Figure size 1000x500 with 1 Axes>"
      ]
     },
     "metadata": {},
     "output_type": "display_data"
    }
   ],
   "source": [
    "# 4. 누적 수익률 계산\n",
    "cumulative_returns = (1 + returns).cumprod()\n",
    "\n",
    "# 5. 연환산 수익률, 샤프비율 계산 (empyrical이 사용됨)\n",
    "import empyrical as emp\n",
    "\n",
    "annualized_return = emp.annual_return(returns)\n",
    "sharpe_ratio = emp.sharpe_ratio(returns)\n",
    "\n",
    "# 6. 결과 출력\n",
    "print(\"♤ 수익률 분석 결과\")\n",
    "print(f\"- 총 누적 수익률: {cumulative_returns[-1] - 1:.2%}\")\n",
    "print(f\"- 연환산 수익률: {annualized_return:.2%}\")\n",
    "print(f\"- 샤프 비율: {sharpe_ratio:.2f}\")\n",
    "\n",
    "# 7. 시각화 (간단한 누적 수익률)\n",
    "plt.figure(figsize=(10, 5))\n",
    "plt.plot(cumulative_returns, label=\"누적 수익률\")\n",
    "plt.title(\"포트폴리오 누적 수익률 추이\")\n",
    "plt.xlabel(\"날짜\")\n",
    "plt.ylabel(\"누적 수익률\")\n",
    "plt.legend()\n",
    "plt.grid(True)\n",
    "plt.tight_layout()\n",
    "plt.show()\n"
   ]
  },
  {
   "cell_type": "markdown",
   "id": "5b4cedb3",
   "metadata": {},
   "source": [
    "20. PyFolio 관련 수익률 지표 분석\n",
    "* 설명:\n",
    "    * pyfolio로 실패하여 챗의 도움을 받아 empyrical(임피리컬)로 대체된 코드로 실행\n",
    "    * empyrical은 양적 금융에서 일반적으로 사용되는 성능 및 위험 통계가 포함된 Python 라이브러리임"
   ]
  },
  {
   "cell_type": "code",
   "execution_count": null,
   "id": "1a5fe78c",
   "metadata": {},
   "outputs": [],
   "source": [
    "!pip install empyrical\n",
    "!pip install pyfolio\n"
   ]
  },
  {
   "cell_type": "code",
   "execution_count": 439,
   "id": "01d2938d",
   "metadata": {},
   "outputs": [
    {
     "name": "stdout",
     "output_type": "stream",
     "text": [
      "누적 수익률: -10.24%\n",
      "연환산 수익률: -23.83%\n",
      "샤프 비율: -1.82\n",
      "최대 낙폭: -15.60%\n",
      "VaR (5%): -1.73%\n",
      "CVaR (5%): -2.05%\n"
     ]
    }
   ],
   "source": [
    "import pyfolio as pf\n",
    "import numpy as np\n",
    "import pandas as pd\n",
    "import empyrical as emp\n",
    "import matplotlib.pyplot as plt\n",
    "\n",
    "# 시뮬레이션 수익률\n",
    "np.random.seed(42)\n",
    "portfolio_returns = np.random.randn(100) / 100\n",
    "dates = pd.date_range(start=\"2023-01-01\", periods=100, freq=\"D\")\n",
    "returns = pd.Series(portfolio_returns, index=dates)\n",
    "\n",
    "# 지표 계산\n",
    "cum_returns = (1 + returns).cumprod()\n",
    "annualized_return = emp.annual_return(returns)\n",
    "sharpe_ratio = emp.sharpe_ratio(returns)\n",
    "max_drawdown = emp.max_drawdown(returns)\n",
    "var = emp.value_at_risk(returns)\n",
    "cvar = emp.conditional_value_at_risk(returns)\n",
    "\n",
    "# 출력\n",
    "print(f\"누적 수익률: {(cum_returns[-1] - 1):.2%}\")\n",
    "print(f\"연환산 수익률: {annualized_return:.2%}\")\n",
    "print(f\"샤프 비율: {sharpe_ratio:.2f}\")\n",
    "print(f\"최대 낙폭: {max_drawdown:.2%}\")\n",
    "print(f\"VaR (5%): {var:.2%}\")\n",
    "print(f\"CVaR (5%): {cvar:.2%}\")\n"
   ]
  },
  {
   "cell_type": "markdown",
   "id": "5e1b7a6f",
   "metadata": {},
   "source": [
    "21. 수익률 분석 및 시각화를 위한 PyFolio의 대표적인 tear_sheet\n",
    "* 설명:\n",
    "    * prices\t누적 랜덤 워크 방식으로 가격 시계열 생성\n",
    "    * returns\t일간 수익률 (퍼센트 변화) 계산\n",
    "    * empyrical\t연환산 수익률, 샤프 비율, 최대 낙폭, VaR, CVaR 계산\n",
    "    * pf.create_returns_tear_sheet()\t수익률, 누적수익률, 롤링 샤프비율 등 시각화 자동 보고서 생성\n",
    "    * pf.create_bayesian_tear_sheet()\t베이지안 수익률 분석 시트 (희귀 사용)\n",
    "    * pf.create_round_trip_tear_sheet()\t거래 단위 전략일 때 진입/청산 분석 (Zipline 필요)"
   ]
  },
  {
   "cell_type": "code",
   "execution_count": 22,
   "id": "13d0b6cc",
   "metadata": {},
   "outputs": [
    {
     "name": "stdout",
     "output_type": "stream",
     "text": [
      "2023-01-02   -0.001376\n",
      "2023-01-03    0.006454\n",
      "2023-01-04    0.015079\n",
      "2023-01-05   -0.002284\n",
      "2023-01-06   -0.002289\n",
      "Freq: D, dtype: float64\n",
      "수익률 데이터 개수: 99\n",
      "✅ PyFolio 기반 수익률 분석\n",
      "누적 수익률: -10.83%\n",
      "연환산 수익률: -25.30%\n",
      "샤프 비율: -1.82\n",
      "최대 낙폭: -16.01%\n",
      "VaR (5%): -1.71%\n",
      "CVaR (5%): -2.16%\n"
     ]
    },
    {
     "data": {
      "text/html": [
       "<table border=\"1\" class=\"dataframe\">\n",
       "  <thead>\n",
       "    <tr style=\"text-align: right;\"><th>Start date</th><td colspan=2>2023-01-02</td></tr>\n",
       "    <tr style=\"text-align: right;\"><th>End date</th><td colspan=2>2023-04-10</td></tr>\n",
       "    <tr style=\"text-align: right;\"><th>Total months</th><td colspan=2>4</td></tr>\n",
       "    <tr style=\"text-align: right;\">\n",
       "      <th></th>\n",
       "      <th>Backtest</th>\n",
       "    </tr>\n",
       "  </thead>\n",
       "  <tbody>\n",
       "    <tr>\n",
       "      <th>Annual return</th>\n",
       "      <td>-25.3%</td>\n",
       "    </tr>\n",
       "    <tr>\n",
       "      <th>Cumulative returns</th>\n",
       "      <td>-10.8%</td>\n",
       "    </tr>\n",
       "    <tr>\n",
       "      <th>Annual volatility</th>\n",
       "      <td>15.4%</td>\n",
       "    </tr>\n",
       "    <tr>\n",
       "      <th>Sharpe ratio</th>\n",
       "      <td>-1.82</td>\n",
       "    </tr>\n",
       "    <tr>\n",
       "      <th>Calmar ratio</th>\n",
       "      <td>-1.58</td>\n",
       "    </tr>\n",
       "    <tr>\n",
       "      <th>Stability</th>\n",
       "      <td>0.63</td>\n",
       "    </tr>\n",
       "    <tr>\n",
       "      <th>Max drawdown</th>\n",
       "      <td>-16.0%</td>\n",
       "    </tr>\n",
       "    <tr>\n",
       "      <th>Omega ratio</th>\n",
       "      <td>0.75</td>\n",
       "    </tr>\n",
       "    <tr>\n",
       "      <th>Sortino ratio</th>\n",
       "      <td>-2.33</td>\n",
       "    </tr>\n",
       "    <tr>\n",
       "      <th>Skew</th>\n",
       "      <td>-0.14</td>\n",
       "    </tr>\n",
       "    <tr>\n",
       "      <th>Kurtosis</th>\n",
       "      <td>-0.20</td>\n",
       "    </tr>\n",
       "    <tr>\n",
       "      <th>Tail ratio</th>\n",
       "      <td>0.90</td>\n",
       "    </tr>\n",
       "    <tr>\n",
       "      <th>Daily value at risk</th>\n",
       "      <td>-2.1%</td>\n",
       "    </tr>\n",
       "  </tbody>\n",
       "</table>"
      ],
      "text/plain": [
       "<IPython.core.display.HTML object>"
      ]
     },
     "metadata": {},
     "output_type": "display_data"
    },
    {
     "ename": "IndexError",
     "evalue": "index -1 is out of bounds for axis 0 with size 0",
     "output_type": "error",
     "traceback": [
      "\u001b[1;31m---------------------------------------------------------------------------\u001b[0m",
      "\u001b[1;31mIndexError\u001b[0m                                Traceback (most recent call last)",
      "Cell \u001b[1;32mIn[22], line 43\u001b[0m\n\u001b[0;32m     40\u001b[0m \u001b[38;5;28mprint\u001b[39m(\u001b[38;5;124mf\u001b[39m\u001b[38;5;124m\"\u001b[39m\u001b[38;5;124mCVaR (5%): \u001b[39m\u001b[38;5;132;01m{\u001b[39;00mcvar\u001b[38;5;132;01m:\u001b[39;00m\u001b[38;5;124m.2%\u001b[39m\u001b[38;5;132;01m}\u001b[39;00m\u001b[38;5;124m\"\u001b[39m)\n\u001b[0;32m     42\u001b[0m \u001b[38;5;66;03m# 6. 시각화 리포트 생성 (Jupyter에서만 작동)\u001b[39;00m\n\u001b[1;32m---> 43\u001b[0m \u001b[43mpf\u001b[49m\u001b[38;5;241;43m.\u001b[39;49m\u001b[43mcreate_returns_tear_sheet\u001b[49m\u001b[43m(\u001b[49m\u001b[43mreturns\u001b[49m\u001b[43m)\u001b[49m    \u001b[38;5;66;03m# pandas 버전문제\u001b[39;00m\n\u001b[0;32m     44\u001b[0m \u001b[38;5;66;03m# pf.create_bayesian_tear_sheet(returns)      # 조건부: bayesian 옵션 필요\u001b[39;00m\n\u001b[0;32m     45\u001b[0m \u001b[38;5;66;03m# pf.create_round_trip_tear_sheet(returns)    # 거래 상세 필요\u001b[39;00m\n",
      "File \u001b[1;32m~\\AppData\\Local\\Packages\\PythonSoftwareFoundation.Python.3.11_qbz5n2kfra8p0\\LocalCache\\local-packages\\Python311\\site-packages\\pyfolio\\plotting.py:52\u001b[0m, in \u001b[0;36mcustomize.<locals>.call_w_context\u001b[1;34m(*args, **kwargs)\u001b[0m\n\u001b[0;32m     50\u001b[0m \u001b[38;5;28;01mif\u001b[39;00m set_context:\n\u001b[0;32m     51\u001b[0m     \u001b[38;5;28;01mwith\u001b[39;00m plotting_context(), axes_style():\n\u001b[1;32m---> 52\u001b[0m         \u001b[38;5;28;01mreturn\u001b[39;00m \u001b[43mfunc\u001b[49m\u001b[43m(\u001b[49m\u001b[38;5;241;43m*\u001b[39;49m\u001b[43margs\u001b[49m\u001b[43m,\u001b[49m\u001b[43m \u001b[49m\u001b[38;5;241;43m*\u001b[39;49m\u001b[38;5;241;43m*\u001b[39;49m\u001b[43mkwargs\u001b[49m\u001b[43m)\u001b[49m\n\u001b[0;32m     53\u001b[0m \u001b[38;5;28;01melse\u001b[39;00m:\n\u001b[0;32m     54\u001b[0m     \u001b[38;5;28;01mreturn\u001b[39;00m func(\u001b[38;5;241m*\u001b[39margs, \u001b[38;5;241m*\u001b[39m\u001b[38;5;241m*\u001b[39mkwargs)\n",
      "File \u001b[1;32m~\\AppData\\Local\\Packages\\PythonSoftwareFoundation.Python.3.11_qbz5n2kfra8p0\\LocalCache\\local-packages\\Python311\\site-packages\\pyfolio\\tears.py:504\u001b[0m, in \u001b[0;36mcreate_returns_tear_sheet\u001b[1;34m(returns, positions, transactions, live_start_date, cone_std, benchmark_rets, bootstrap, turnover_denom, header_rows, return_fig)\u001b[0m\n\u001b[0;32m    494\u001b[0m     returns \u001b[38;5;241m=\u001b[39m utils\u001b[38;5;241m.\u001b[39mclip_returns_to_benchmark(returns, benchmark_rets)\n\u001b[0;32m    496\u001b[0m plotting\u001b[38;5;241m.\u001b[39mshow_perf_stats(returns, benchmark_rets,\n\u001b[0;32m    497\u001b[0m                          positions\u001b[38;5;241m=\u001b[39mpositions,\n\u001b[0;32m    498\u001b[0m                          transactions\u001b[38;5;241m=\u001b[39mtransactions,\n\u001b[1;32m   (...)\u001b[0m\n\u001b[0;32m    501\u001b[0m                          live_start_date\u001b[38;5;241m=\u001b[39mlive_start_date,\n\u001b[0;32m    502\u001b[0m                          header_rows\u001b[38;5;241m=\u001b[39mheader_rows)\n\u001b[1;32m--> 504\u001b[0m \u001b[43mplotting\u001b[49m\u001b[38;5;241;43m.\u001b[39;49m\u001b[43mshow_worst_drawdown_periods\u001b[49m\u001b[43m(\u001b[49m\u001b[43mreturns\u001b[49m\u001b[43m)\u001b[49m\n\u001b[0;32m    506\u001b[0m vertical_sections \u001b[38;5;241m=\u001b[39m \u001b[38;5;241m11\u001b[39m\n\u001b[0;32m    508\u001b[0m \u001b[38;5;28;01mif\u001b[39;00m live_start_date \u001b[38;5;129;01mis\u001b[39;00m \u001b[38;5;129;01mnot\u001b[39;00m \u001b[38;5;28;01mNone\u001b[39;00m:\n",
      "File \u001b[1;32m~\\AppData\\Local\\Packages\\PythonSoftwareFoundation.Python.3.11_qbz5n2kfra8p0\\LocalCache\\local-packages\\Python311\\site-packages\\pyfolio\\plotting.py:1664\u001b[0m, in \u001b[0;36mshow_worst_drawdown_periods\u001b[1;34m(returns, top)\u001b[0m\n\u001b[0;32m   1648\u001b[0m \u001b[38;5;28;01mdef\u001b[39;00m \u001b[38;5;21mshow_worst_drawdown_periods\u001b[39m(returns, top\u001b[38;5;241m=\u001b[39m\u001b[38;5;241m5\u001b[39m):\n\u001b[0;32m   1649\u001b[0m \u001b[38;5;250m    \u001b[39m\u001b[38;5;124;03m\"\"\"\u001b[39;00m\n\u001b[0;32m   1650\u001b[0m \u001b[38;5;124;03m    Prints information about the worst drawdown periods.\u001b[39;00m\n\u001b[0;32m   1651\u001b[0m \n\u001b[1;32m   (...)\u001b[0m\n\u001b[0;32m   1661\u001b[0m \u001b[38;5;124;03m        Amount of top drawdowns periods to plot (default 5).\u001b[39;00m\n\u001b[0;32m   1662\u001b[0m \u001b[38;5;124;03m    \"\"\"\u001b[39;00m\n\u001b[1;32m-> 1664\u001b[0m     drawdown_df \u001b[38;5;241m=\u001b[39m \u001b[43mtimeseries\u001b[49m\u001b[38;5;241;43m.\u001b[39;49m\u001b[43mgen_drawdown_table\u001b[49m\u001b[43m(\u001b[49m\u001b[43mreturns\u001b[49m\u001b[43m,\u001b[49m\u001b[43m \u001b[49m\u001b[43mtop\u001b[49m\u001b[38;5;241;43m=\u001b[39;49m\u001b[43mtop\u001b[49m\u001b[43m)\u001b[49m\n\u001b[0;32m   1665\u001b[0m     utils\u001b[38;5;241m.\u001b[39mprint_table(\n\u001b[0;32m   1666\u001b[0m         drawdown_df\u001b[38;5;241m.\u001b[39msort_values(\u001b[38;5;124m'\u001b[39m\u001b[38;5;124mNet drawdown in \u001b[39m\u001b[38;5;124m%\u001b[39m\u001b[38;5;124m'\u001b[39m, ascending\u001b[38;5;241m=\u001b[39m\u001b[38;5;28;01mFalse\u001b[39;00m),\n\u001b[0;32m   1667\u001b[0m         name\u001b[38;5;241m=\u001b[39m\u001b[38;5;124m'\u001b[39m\u001b[38;5;124mWorst drawdown periods\u001b[39m\u001b[38;5;124m'\u001b[39m,\n\u001b[0;32m   1668\u001b[0m         float_format\u001b[38;5;241m=\u001b[39m\u001b[38;5;124m'\u001b[39m\u001b[38;5;132;01m{0:.2f}\u001b[39;00m\u001b[38;5;124m'\u001b[39m\u001b[38;5;241m.\u001b[39mformat,\n\u001b[0;32m   1669\u001b[0m     )\n",
      "File \u001b[1;32m~\\AppData\\Local\\Packages\\PythonSoftwareFoundation.Python.3.11_qbz5n2kfra8p0\\LocalCache\\local-packages\\Python311\\site-packages\\pyfolio\\timeseries.py:991\u001b[0m, in \u001b[0;36mgen_drawdown_table\u001b[1;34m(returns, top)\u001b[0m\n\u001b[0;32m    973\u001b[0m \u001b[38;5;250m\u001b[39m\u001b[38;5;124;03m\"\"\"\u001b[39;00m\n\u001b[0;32m    974\u001b[0m \u001b[38;5;124;03mPlaces top drawdowns in a table.\u001b[39;00m\n\u001b[0;32m    975\u001b[0m \n\u001b[1;32m   (...)\u001b[0m\n\u001b[0;32m    987\u001b[0m \u001b[38;5;124;03m    Information about top drawdowns.\u001b[39;00m\n\u001b[0;32m    988\u001b[0m \u001b[38;5;124;03m\"\"\"\u001b[39;00m\n\u001b[0;32m    990\u001b[0m df_cum \u001b[38;5;241m=\u001b[39m ep\u001b[38;5;241m.\u001b[39mcum_returns(returns, \u001b[38;5;241m1.0\u001b[39m)\n\u001b[1;32m--> 991\u001b[0m drawdown_periods \u001b[38;5;241m=\u001b[39m \u001b[43mget_top_drawdowns\u001b[49m\u001b[43m(\u001b[49m\u001b[43mreturns\u001b[49m\u001b[43m,\u001b[49m\u001b[43m \u001b[49m\u001b[43mtop\u001b[49m\u001b[38;5;241;43m=\u001b[39;49m\u001b[43mtop\u001b[49m\u001b[43m)\u001b[49m\n\u001b[0;32m    992\u001b[0m df_drawdowns \u001b[38;5;241m=\u001b[39m pd\u001b[38;5;241m.\u001b[39mDataFrame(index\u001b[38;5;241m=\u001b[39m\u001b[38;5;28mlist\u001b[39m(\u001b[38;5;28mrange\u001b[39m(top)),\n\u001b[0;32m    993\u001b[0m                             columns\u001b[38;5;241m=\u001b[39m[\u001b[38;5;124m'\u001b[39m\u001b[38;5;124mNet drawdown in \u001b[39m\u001b[38;5;124m%\u001b[39m\u001b[38;5;124m'\u001b[39m,\n\u001b[0;32m    994\u001b[0m                                      \u001b[38;5;124m'\u001b[39m\u001b[38;5;124mPeak date\u001b[39m\u001b[38;5;124m'\u001b[39m,\n\u001b[0;32m    995\u001b[0m                                      \u001b[38;5;124m'\u001b[39m\u001b[38;5;124mValley date\u001b[39m\u001b[38;5;124m'\u001b[39m,\n\u001b[0;32m    996\u001b[0m                                      \u001b[38;5;124m'\u001b[39m\u001b[38;5;124mRecovery date\u001b[39m\u001b[38;5;124m'\u001b[39m,\n\u001b[0;32m    997\u001b[0m                                      \u001b[38;5;124m'\u001b[39m\u001b[38;5;124mDuration\u001b[39m\u001b[38;5;124m'\u001b[39m])\n\u001b[0;32m    999\u001b[0m \u001b[38;5;28;01mfor\u001b[39;00m i, (peak, valley, recovery) \u001b[38;5;129;01min\u001b[39;00m \u001b[38;5;28menumerate\u001b[39m(drawdown_periods):\n",
      "File \u001b[1;32m~\\AppData\\Local\\Packages\\PythonSoftwareFoundation.Python.3.11_qbz5n2kfra8p0\\LocalCache\\local-packages\\Python311\\site-packages\\pyfolio\\timeseries.py:956\u001b[0m, in \u001b[0;36mget_top_drawdowns\u001b[1;34m(returns, top)\u001b[0m\n\u001b[0;32m    954\u001b[0m drawdowns \u001b[38;5;241m=\u001b[39m []\n\u001b[0;32m    955\u001b[0m \u001b[38;5;28;01mfor\u001b[39;00m t \u001b[38;5;129;01min\u001b[39;00m \u001b[38;5;28mrange\u001b[39m(top):\n\u001b[1;32m--> 956\u001b[0m     peak, valley, recovery \u001b[38;5;241m=\u001b[39m \u001b[43mget_max_drawdown_underwater\u001b[49m\u001b[43m(\u001b[49m\u001b[43munderwater\u001b[49m\u001b[43m)\u001b[49m\n\u001b[0;32m    957\u001b[0m     \u001b[38;5;66;03m# Slice out draw-down period\u001b[39;00m\n\u001b[0;32m    958\u001b[0m     \u001b[38;5;28;01mif\u001b[39;00m \u001b[38;5;129;01mnot\u001b[39;00m pd\u001b[38;5;241m.\u001b[39misnull(recovery):\n",
      "File \u001b[1;32m~\\AppData\\Local\\Packages\\PythonSoftwareFoundation.Python.3.11_qbz5n2kfra8p0\\LocalCache\\local-packages\\Python311\\site-packages\\pyfolio\\timeseries.py:895\u001b[0m, in \u001b[0;36mget_max_drawdown_underwater\u001b[1;34m(underwater)\u001b[0m\n\u001b[0;32m    893\u001b[0m valley \u001b[38;5;241m=\u001b[39m np\u001b[38;5;241m.\u001b[39margmin(underwater)  \u001b[38;5;66;03m# end of the period\u001b[39;00m\n\u001b[0;32m    894\u001b[0m \u001b[38;5;66;03m# Find first 0\u001b[39;00m\n\u001b[1;32m--> 895\u001b[0m peak \u001b[38;5;241m=\u001b[39m \u001b[43munderwater\u001b[49m\u001b[43m[\u001b[49m\u001b[43m:\u001b[49m\u001b[43mvalley\u001b[49m\u001b[43m]\u001b[49m\u001b[43m[\u001b[49m\u001b[43munderwater\u001b[49m\u001b[43m[\u001b[49m\u001b[43m:\u001b[49m\u001b[43mvalley\u001b[49m\u001b[43m]\u001b[49m\u001b[43m \u001b[49m\u001b[38;5;241;43m==\u001b[39;49m\u001b[43m \u001b[49m\u001b[38;5;241;43m0\u001b[39;49m\u001b[43m]\u001b[49m\u001b[38;5;241;43m.\u001b[39;49m\u001b[43mindex\u001b[49m\u001b[43m[\u001b[49m\u001b[38;5;241;43m-\u001b[39;49m\u001b[38;5;241;43m1\u001b[39;49m\u001b[43m]\u001b[49m\n\u001b[0;32m    896\u001b[0m \u001b[38;5;66;03m# Find last 0\u001b[39;00m\n\u001b[0;32m    897\u001b[0m \u001b[38;5;28;01mtry\u001b[39;00m:\n",
      "File \u001b[1;32m~\\AppData\\Local\\Packages\\PythonSoftwareFoundation.Python.3.11_qbz5n2kfra8p0\\LocalCache\\local-packages\\Python311\\site-packages\\pandas\\core\\indexes\\base.py:5320\u001b[0m, in \u001b[0;36mIndex.__getitem__\u001b[1;34m(self, key)\u001b[0m\n\u001b[0;32m   5317\u001b[0m \u001b[38;5;28;01mif\u001b[39;00m is_integer(key) \u001b[38;5;129;01mor\u001b[39;00m is_float(key):\n\u001b[0;32m   5318\u001b[0m     \u001b[38;5;66;03m# GH#44051 exclude bool, which would return a 2d ndarray\u001b[39;00m\n\u001b[0;32m   5319\u001b[0m     key \u001b[38;5;241m=\u001b[39m com\u001b[38;5;241m.\u001b[39mcast_scalar_indexer(key, warn_float\u001b[38;5;241m=\u001b[39m\u001b[38;5;28;01mTrue\u001b[39;00m)\n\u001b[1;32m-> 5320\u001b[0m     \u001b[38;5;28;01mreturn\u001b[39;00m \u001b[43mgetitem\u001b[49m\u001b[43m(\u001b[49m\u001b[43mkey\u001b[49m\u001b[43m)\u001b[49m\n\u001b[0;32m   5322\u001b[0m \u001b[38;5;28;01mif\u001b[39;00m \u001b[38;5;28misinstance\u001b[39m(key, \u001b[38;5;28mslice\u001b[39m):\n\u001b[0;32m   5323\u001b[0m     \u001b[38;5;66;03m# This case is separated from the conditional above to avoid\u001b[39;00m\n\u001b[0;32m   5324\u001b[0m     \u001b[38;5;66;03m# pessimization com.is_bool_indexer and ndim checks.\u001b[39;00m\n\u001b[0;32m   5325\u001b[0m     result \u001b[38;5;241m=\u001b[39m getitem(key)\n",
      "File \u001b[1;32m~\\AppData\\Local\\Packages\\PythonSoftwareFoundation.Python.3.11_qbz5n2kfra8p0\\LocalCache\\local-packages\\Python311\\site-packages\\pandas\\core\\arrays\\datetimelike.py:358\u001b[0m, in \u001b[0;36mDatetimeLikeArrayMixin.__getitem__\u001b[1;34m(self, key)\u001b[0m\n\u001b[0;32m    350\u001b[0m \u001b[38;5;250m\u001b[39m\u001b[38;5;124;03m\"\"\"\u001b[39;00m\n\u001b[0;32m    351\u001b[0m \u001b[38;5;124;03mThis getitem defers to the underlying array, which by-definition can\u001b[39;00m\n\u001b[0;32m    352\u001b[0m \u001b[38;5;124;03monly handle list-likes, slices, and integer scalars\u001b[39;00m\n\u001b[0;32m    353\u001b[0m \u001b[38;5;124;03m\"\"\"\u001b[39;00m\n\u001b[0;32m    354\u001b[0m \u001b[38;5;66;03m# Use cast as we know we will get back a DatetimeLikeArray or DTScalar,\u001b[39;00m\n\u001b[0;32m    355\u001b[0m \u001b[38;5;66;03m# but skip evaluating the Union at runtime for performance\u001b[39;00m\n\u001b[0;32m    356\u001b[0m \u001b[38;5;66;03m# (see https://github.com/pandas-dev/pandas/pull/44624)\u001b[39;00m\n\u001b[0;32m    357\u001b[0m result \u001b[38;5;241m=\u001b[39m cast(\n\u001b[1;32m--> 358\u001b[0m     \u001b[38;5;124m\"\u001b[39m\u001b[38;5;124mUnion[DatetimeLikeArrayT, DTScalarOrNaT]\u001b[39m\u001b[38;5;124m\"\u001b[39m, \u001b[38;5;28;43msuper\u001b[39;49m\u001b[43m(\u001b[49m\u001b[43m)\u001b[49m\u001b[38;5;241;43m.\u001b[39;49m\u001b[38;5;21;43m__getitem__\u001b[39;49m\u001b[43m(\u001b[49m\u001b[43mkey\u001b[49m\u001b[43m)\u001b[49m\n\u001b[0;32m    359\u001b[0m )\n\u001b[0;32m    360\u001b[0m \u001b[38;5;28;01mif\u001b[39;00m lib\u001b[38;5;241m.\u001b[39mis_scalar(result):\n\u001b[0;32m    361\u001b[0m     \u001b[38;5;28;01mreturn\u001b[39;00m result\n",
      "File \u001b[1;32m~\\AppData\\Local\\Packages\\PythonSoftwareFoundation.Python.3.11_qbz5n2kfra8p0\\LocalCache\\local-packages\\Python311\\site-packages\\pandas\\core\\arrays\\_mixins.py:289\u001b[0m, in \u001b[0;36mNDArrayBackedExtensionArray.__getitem__\u001b[1;34m(self, key)\u001b[0m\n\u001b[0;32m    283\u001b[0m \u001b[38;5;28;01mdef\u001b[39;00m \u001b[38;5;21m__getitem__\u001b[39m(\n\u001b[0;32m    284\u001b[0m     \u001b[38;5;28mself\u001b[39m: NDArrayBackedExtensionArrayT,\n\u001b[0;32m    285\u001b[0m     key: PositionalIndexer2D,\n\u001b[0;32m    286\u001b[0m ) \u001b[38;5;241m-\u001b[39m\u001b[38;5;241m>\u001b[39m NDArrayBackedExtensionArrayT \u001b[38;5;241m|\u001b[39m Any:\n\u001b[0;32m    287\u001b[0m     \u001b[38;5;28;01mif\u001b[39;00m lib\u001b[38;5;241m.\u001b[39mis_integer(key):\n\u001b[0;32m    288\u001b[0m         \u001b[38;5;66;03m# fast-path\u001b[39;00m\n\u001b[1;32m--> 289\u001b[0m         result \u001b[38;5;241m=\u001b[39m \u001b[38;5;28;43mself\u001b[39;49m\u001b[38;5;241;43m.\u001b[39;49m\u001b[43m_ndarray\u001b[49m\u001b[43m[\u001b[49m\u001b[43mkey\u001b[49m\u001b[43m]\u001b[49m\n\u001b[0;32m    290\u001b[0m         \u001b[38;5;28;01mif\u001b[39;00m \u001b[38;5;28mself\u001b[39m\u001b[38;5;241m.\u001b[39mndim \u001b[38;5;241m==\u001b[39m \u001b[38;5;241m1\u001b[39m:\n\u001b[0;32m    291\u001b[0m             \u001b[38;5;28;01mreturn\u001b[39;00m \u001b[38;5;28mself\u001b[39m\u001b[38;5;241m.\u001b[39m_box_func(result)\n",
      "\u001b[1;31mIndexError\u001b[0m: index -1 is out of bounds for axis 0 with size 0"
     ]
    }
   ],
   "source": [
    "# 1. 필요한 패키지 설치 (Jupyter 환경에서 실행)\n",
    "# !pip install pyfolio\n",
    "# !pip install empyrical\n",
    "\n",
    "import pyfolio as pf\n",
    "import numpy as np\n",
    "import pandas as pd\n",
    "import matplotlib.pyplot as plt\n",
    "import warnings\n",
    "warnings.filterwarnings(\"ignore\")\n",
    "\n",
    "# 2. 가상 수익률 시뮬레이션\n",
    "np.random.seed(42)\n",
    "prices = 100 + np.cumsum(np.random.randn(100))  # 누적 가격 시계열 생성\n",
    "\n",
    "# 3. 수익률로 변환 (날짜 포함)\n",
    "dates = pd.date_range(start=\"2023-01-01\", periods=100, freq=\"D\")\n",
    "prices_series = pd.Series(prices, index=dates)\n",
    "returns = prices_series.pct_change().dropna()\n",
    "\n",
    "print(returns.head())\n",
    "print(f\"수익률 데이터 개수: {len(returns)}\")\n",
    "\n",
    "# 4. 지표 계산\n",
    "import empyrical as emp\n",
    "cumulative_return = (1 + returns).cumprod()[-1] - 1\n",
    "annualized_return = emp.annual_return(returns)\n",
    "sharpe_ratio = emp.sharpe_ratio(returns)\n",
    "max_drawdown = emp.max_drawdown(returns)\n",
    "var = emp.value_at_risk(returns)\n",
    "cvar = emp.conditional_value_at_risk(returns)\n",
    "\n",
    "# 5. 결과 출력\n",
    "print(\"✅ PyFolio 기반 수익률 분석\")\n",
    "print(f\"누적 수익률: {cumulative_return:.2%}\")\n",
    "print(f\"연환산 수익률: {annualized_return:.2%}\")\n",
    "print(f\"샤프 비율: {sharpe_ratio:.2f}\")\n",
    "print(f\"최대 낙폭: {max_drawdown:.2%}\")\n",
    "print(f\"VaR (5%): {var:.2%}\")\n",
    "print(f\"CVaR (5%): {cvar:.2%}\")\n",
    "\n",
    "# 6. 시각화 리포트 생성 (Jupyter에서만 작동)\n",
    "pf.create_returns_tear_sheet(returns)    # pandas 버전문제\n",
    "# pf.create_bayesian_tear_sheet(returns)      # 조건부: bayesian 옵션 필요\n",
    "# pf.create_round_trip_tear_sheet(returns)    # 거래 상세 필요\n"
   ]
  },
  {
   "cell_type": "code",
   "execution_count": null,
   "id": "187c1a9e",
   "metadata": {},
   "outputs": [],
   "source": [
    "!pip uninstall -y pandas\n",
    "!pip install pandas==1.5.3"
   ]
  },
  {
   "cell_type": "code",
   "execution_count": 5,
   "id": "69343185",
   "metadata": {},
   "outputs": [
    {
     "name": "stdout",
     "output_type": "stream",
     "text": [
      "1.5.3\n"
     ]
    }
   ],
   "source": [
    "import pandas as pd\n",
    "print(pd.__version__)\n"
   ]
  },
  {
   "cell_type": "markdown",
   "id": "a1b5a8fd",
   "metadata": {},
   "source": [
    "## 시각화 도구"
   ]
  },
  {
   "cell_type": "markdown",
   "id": "78939648",
   "metadata": {},
   "source": [
    "## Matplotlib (22~25)"
   ]
  },
  {
   "cell_type": "markdown",
   "id": "afd1fbe7",
   "metadata": {},
   "source": [
    "22. 가상의 거래 전략 수익률 그래프\n",
    "* 설명:\n",
    "    * 정규분포 수익률 생성 후 누적합 → 누적 수익률 시계열\n",
    "    * 선 그래프 시각화 (제목, 축 라벨, 범례, 그리드 포함)"
   ]
  },
  {
   "cell_type": "code",
   "execution_count": 23,
   "id": "47b4ff95",
   "metadata": {},
   "outputs": [
    {
     "data": {
      "image/png": "[encoded data removed]",
      "text/plain": [
       "<Figure size 1000x600 with 1 Axes>"
      ]
     },
     "metadata": {},
     "output_type": "display_data"
    }
   ],
   "source": [
    "import matplotlib.pyplot as plt\n",
    "import numpy as np\n",
    "\n",
    "# 1. 전략 수익률 시뮬레이션 (누적합)\n",
    "np.random.seed(42)\n",
    "returns = np.random.randn(100).cumsum()\n",
    "\n",
    "# 2. 선 그래프 그리기\n",
    "plt.figure(figsize=(10, 6))\n",
    "plt.plot(returns, label='Strategy Returns', color='blue')\n",
    "plt.xlabel('Time')\n",
    "plt.ylabel('Returns')\n",
    "plt.title('Historical Performance of Trading Strategy')\n",
    "plt.legend()\n",
    "plt.grid(True)\n",
    "plt.show()\n"
   ]
  },
  {
   "cell_type": "markdown",
   "id": "290b100a",
   "metadata": {},
   "source": [
    "23. 초록색 막대가 높이에 따라 자산별 성과를 시각화\n",
    "* 설명:\n",
    "    * X축: Asset A / B / C\n",
    "    * Y축: 각각의 수익률 (0.05, 0.03, 0.08)"
   ]
  },
  {
   "cell_type": "code",
   "execution_count": 24,
   "id": "5261945d",
   "metadata": {},
   "outputs": [
    {
     "data": {
      "image/png": "[encoded data removed]",
      "text/plain": [
       "<Figure size 800x400 with 1 Axes>"
      ]
     },
     "metadata": {},
     "output_type": "display_data"
    }
   ],
   "source": [
    "import matplotlib.pyplot as plt\n",
    "\n",
    "# 1. 자산별 수익률 시뮬레이션\n",
    "assets = ['Asset A', 'Asset B', 'Asset C']\n",
    "returns = [0.05, 0.03, 0.08]  # 각각 5%, 3%, 8%\n",
    "\n",
    "# 2. 막대 그래프 생성\n",
    "plt.figure(figsize=(8, 4))  # 그래프 크기 설정 (가로 x 세로)\n",
    "plt.bar(assets, returns, color='green')  # 초록색 막대그래프\n",
    "\n",
    "# 3. 축 및 제목 설정\n",
    "plt.xlabel('Assets')             # x축 라벨\n",
    "plt.ylabel('Returns')            # y축 라벨\n",
    "plt.title('Asset Performance Comparison')  # 그래프 제목\n",
    "\n",
    "# 4. 그래프 출력\n",
    "plt.show()\n"
   ]
  },
  {
   "cell_type": "markdown",
   "id": "04ecaaaf",
   "metadata": {},
   "source": [
    "24. 캔들스틱 차트(candlestick chart)\n",
    "* 설명:\n",
    "    * matplotlib.finance.candlestick_ohlc: 더 이상 사용되지 않음 → mplfinance나 mpl_finance로 대체해야 함"
   ]
  },
  {
   "cell_type": "code",
   "execution_count": null,
   "id": "f60009b8",
   "metadata": {},
   "outputs": [],
   "source": [
    "!pip install yfinance mplfinance\n"
   ]
  },
  {
   "cell_type": "code",
   "execution_count": null,
   "id": "082517fc",
   "metadata": {},
   "outputs": [],
   "source": [
    "!pip uninstall -y pandas\n",
    "!pip install pandas"
   ]
  },
  {
   "cell_type": "code",
   "execution_count": 1,
   "id": "fcdb4025",
   "metadata": {},
   "outputs": [
    {
     "name": "stdout",
     "output_type": "stream",
     "text": [
      "2.3.1\n"
     ]
    }
   ],
   "source": [
    "import pandas as pd\n",
    "print(pd.__version__)\n"
   ]
  },
  {
   "cell_type": "code",
   "execution_count": 62,
   "id": "626a2954",
   "metadata": {},
   "outputs": [
    {
     "ename": "ModuleNotFoundError",
     "evalue": "No module named 'matplotlib.finance'",
     "output_type": "error",
     "traceback": [
      "\u001b[1;31m---------------------------------------------------------------------------\u001b[0m",
      "\u001b[1;31mModuleNotFoundError\u001b[0m                       Traceback (most recent call last)",
      "Cell \u001b[1;32mIn[62], line 4\u001b[0m\n\u001b[0;32m      2\u001b[0m \u001b[38;5;28;01mimport\u001b[39;00m \u001b[38;5;21;01myfinance\u001b[39;00m \u001b[38;5;28;01mas\u001b[39;00m \u001b[38;5;21;01myf\u001b[39;00m\n\u001b[0;32m      3\u001b[0m \u001b[38;5;28;01mimport\u001b[39;00m \u001b[38;5;21;01mmatplotlib\u001b[39;00m\u001b[38;5;21;01m.\u001b[39;00m\u001b[38;5;21;01mpyplot\u001b[39;00m \u001b[38;5;28;01mas\u001b[39;00m \u001b[38;5;21;01mpit\u001b[39;00m\n\u001b[1;32m----> 4\u001b[0m \u001b[38;5;28;01mfrom\u001b[39;00m \u001b[38;5;21;01mmatplotlib\u001b[39;00m\u001b[38;5;21;01m.\u001b[39;00m\u001b[38;5;21;01mfinance\u001b[39;00m \u001b[38;5;28;01mimport\u001b[39;00m candlestick_ohlc\n\u001b[0;32m      5\u001b[0m \u001b[38;5;66;03m# Fetch historical price data\u001b[39;00m\n\u001b[0;32m      6\u001b[0m data \u001b[38;5;241m=\u001b[39m yf\u001b[38;5;241m.\u001b[39mdownload(\u001b[38;5;124m'\u001b[39m\u001b[38;5;124mAAPL\u001b[39m\u001b[38;5;124m'\u001b[39m, start\u001b[38;5;241m=\u001b[39m\u001b[38;5;124m'\u001b[39m\u001b[38;5;124m2023-01-01\u001b[39m\u001b[38;5;124m'\u001b[39m, end\u001b[38;5;241m=\u001b[39m\u001b[38;5;124m'\u001b[39m\u001b[38;5;124m2023-12-31\u001b[39m\u001b[38;5;124m'\u001b[39m)\n",
      "\u001b[1;31mModuleNotFoundError\u001b[0m: No module named 'matplotlib.finance'"
     ]
    }
   ],
   "source": [
    "import matplotlib.dates as mdates\n",
    "import yfinance as yf\n",
    "import matplotlib.pyplot as pit\n",
    "from matplotlib.finance import candlestick_ohlc\n",
    "# Fetch historical price data\n",
    "data = yf.download('AAPL', start='2023-01-01', end='2023-12-31')\n",
    "\n",
    "# Create a candlestick chart with customizations\n",
    "fig, ax = plt.subplots(figsize=(10,6))\n",
    "ax.xaxis.set_major_locator(mdates.MonthLocator())\n",
    "ax.xaxis.set_major_formatter(mdates.DateFormatter('%b %Y'))\n",
    "plt.title('AAPL Candlestick Chart')\n",
    "\n",
    "# Convert the date, open, high, low, and close prices to the required format\n",
    "data['Date'] = mdates.date2num(data.index.to_pydatetime())\n",
    "ohlc = data[['Date', 'Open', 'High', 'Low', 'Close']].values\n",
    "\n",
    "candlestick_ohlc(ax, ohlc, width=20)\n",
    " \n",
    "plt.show()"
   ]
  },
  {
   "cell_type": "code",
   "execution_count": 39,
   "id": "27a4ee69",
   "metadata": {},
   "outputs": [
    {
     "name": "stderr",
     "output_type": "stream",
     "text": [
      "C:\\Users\\jj\\AppData\\Local\\Temp\\ipykernel_25380\\675042583.py:6: FutureWarning: YF.download() has changed argument auto_adjust default to True\n",
      "  data = yf.download('AAPL', start='2025-07-01', end='2025-07-31', group_by='ticker')\n",
      "[*********************100%***********************]  1 of 1 completed\n"
     ]
    },
    {
     "name": "stdout",
     "output_type": "stream",
     "text": [
      "data.head() >>>\n",
      " Ticker            AAPL                                              \n",
      "Price             Open        High         Low       Close    Volume\n",
      "Date                                                                \n",
      "2025-07-01  206.669998  210.190002  206.139999  207.820007  78788900\n",
      "2025-07-02  208.910004  213.339996  208.139999  212.440002  67941800\n",
      "2025-07-03  212.149994  214.649994  211.809998  213.550003  34955800\n",
      "2025-07-07  212.679993  216.229996  208.800003  209.949997  50229000\n",
      "2025-07-08  210.100006  211.429993  208.449997  210.009995  42848900\n",
      "ohlcv.head() >>>\n",
      " Price             Open        High         Low       Close      Volume\n",
      "Date                                                                  \n",
      "2025-07-01  206.669998  210.190002  206.139999  207.820007  78788900.0\n",
      "2025-07-02  208.910004  213.339996  208.139999  212.440002  67941800.0\n",
      "2025-07-03  212.149994  214.649994  211.809998  213.550003  34955800.0\n",
      "2025-07-07  212.679993  216.229996  208.800003  209.949997  50229000.0\n",
      "2025-07-08  210.100006  211.429993  208.449997  210.009995  42848900.0\n"
     ]
    },
    {
     "data": {
      "image/png": "[encoded data removed]",
      "text/plain": [
       "<Figure size 958.333x575 with 4 Axes>"
      ]
     },
     "metadata": {},
     "output_type": "display_data"
    }
   ],
   "source": [
    "import yfinance as yf\n",
    "import mplfinance as mpf\n",
    "import pandas as pd\n",
    "\n",
    "# 1. 데이터 가져오기\n",
    "data = yf.download('AAPL', start='2025-07-01', end='2025-07-31', group_by='ticker')\n",
    "\n",
    "print(\"data.head() >>>\\n\", data.head())\n",
    "\n",
    "# 2. 필요한 컬럼만 필터링하고 NaN 제거 + float 형변환\n",
    "data.columns = data.columns.get_level_values(1)  # 'AAPL' 부분 제거\n",
    "\n",
    "ohlcv = data[['Open', 'High', 'Low', 'Close', 'Volume']].copy()\n",
    "ohlcv.dropna(inplace=True)\n",
    "ohlcv.index.name = 'Date'\n",
    "ohlcv = ohlcv.astype(float)\n",
    "\n",
    "print(\"ohlcv.head() >>>\\n\", ohlcv.head())\n",
    "\n",
    "# 3. 캔들차트 그리기\n",
    "mpf.plot(\n",
    "    ohlcv,\n",
    "    type='candle',\n",
    "    style='charles',\n",
    "    title='AAPL Candlestick Chart (2025)',\n",
    "    ylabel='Price ($)',\n",
    "    volume=True,\n",
    "    mav=(5, 20),\n",
    "    figratio=(10, 6)\n",
    ")\n"
   ]
  },
  {
   "cell_type": "markdown",
   "id": "863e9b35",
   "metadata": {},
   "source": [
    "25. 포트폴리오 자산 배분 파이 차트\n",
    "* 설명:\n",
    "    * allocation\t각 자산의 포트폴리오 내 비율 (합계는 1 또는 100%)\n",
    "    * plt.pie()\t원형 차트를 생성하는 함수\n",
    "    * labels=assets\t각 파이 조각의 이름 설정\n",
    "    * autopct='%.1f%%'\t소수점 1자리로 퍼센트를 표시\n",
    "    * startangle=140\t차트가 시작되는 각도. 시각적으로 보기 좋게 회전\n",
    "    * plt.figure(figsize=(8, 8))\t출력 이미지의 크기 지정 (가로 8, 세로 8)\n",
    "    * plt.title()\t차트의 제목 설정\n",
    "    * plt.show()\t차트를 화면에 표시"
   ]
  },
  {
   "cell_type": "code",
   "execution_count": 63,
   "id": "468309e1",
   "metadata": {},
   "outputs": [
    {
     "data": {
      "image/png": "[encoded data removed]",
      "text/plain": [
       "<Figure size 800x800 with 1 Axes>"
      ]
     },
     "metadata": {},
     "output_type": "display_data"
    }
   ],
   "source": [
    "import matplotlib.pyplot as plt\n",
    "\n",
    "# 1. 자산 비중과 이름 정의\n",
    "allocation = [0.4, 0.3, 0.2, 0.1]\n",
    "assets = ['Asset A', 'Asset B', 'Asset C', 'Asset D']\n",
    "\n",
    "# 2. 파이 차트 생성\n",
    "plt.figure(figsize=(8, 8))  # 정사각형 비율로 차트 크기 지정\n",
    "plt.pie(\n",
    "    allocation,               # 자산 비중\n",
    "    labels=assets,            # 자산 이름 레이블\n",
    "    autopct='%.1f%%',         # 비중을 소수점 한 자리로 표기\n",
    "    startangle=140            # 시작 각도 조정 (시계 반대방향)\n",
    ")\n",
    "\n",
    "# 3. 제목 및 출력\n",
    "plt.title('Portfolio Asset Allocation')\n",
    "plt.show()\n"
   ]
  },
  {
   "cell_type": "markdown",
   "id": "c89e4fe9",
   "metadata": {},
   "source": [
    "## Plotly (26~28)\n",
    "* 사용자가 데이터와 직접 상호 작용할 수 있는 대화형 그래프"
   ]
  },
  {
   "cell_type": "markdown",
   "id": "c464432d",
   "metadata": {},
   "source": [
    "26. Plotly 산점도 시각화\n",
    "* 설명: \n",
    "    * px.scatter()\tPlotly Express로 상호작용 가능한 산점도 생성\n",
    "    * x='Asset A', y='Asset B'\tX축과 Y축에 사용할 컬럼 지정\n",
    "    * fig.update_traces()\t산점도 점들의 크기, 색상, 스타일 등 설정 가능\n",
    "    * fig.show()\t인터랙티브 그래프를 브라우저 또는 Jupyter에서 출력"
   ]
  },
  {
   "cell_type": "code",
   "execution_count": null,
   "id": "d56c07e6",
   "metadata": {},
   "outputs": [],
   "source": [
    "!pip install plotly"
   ]
  },
  {
   "cell_type": "code",
   "execution_count": 1,
   "id": "75a319d2",
   "metadata": {},
   "outputs": [
    {
     "name": "stderr",
     "output_type": "stream",
     "text": [
      "\n",
      "[notice] A new release of pip is available: 24.2 -> 25.1.1\n",
      "[notice] To update, run: C:\\Users\\jj\\AppData\\Local\\Microsoft\\WindowsApps\\PythonSoftwareFoundation.Python.3.11_qbz5n2kfra8p0\\python.exe -m pip install --upgrade pip\n"
     ]
    }
   ],
   "source": [
    "!pip install nbformat>=4.2.0\n"
   ]
  },
  {
   "cell_type": "code",
   "execution_count": 2,
   "id": "1c5ba1d9",
   "metadata": {},
   "outputs": [
    {
     "data": {
      "application/vnd.plotly.v1+json": {
       "config": {
        "plotlyServerURL": "https://plot.ly"
       },
       "data": [
        {
         "hovertemplate": "Asset A=%{x}<br>Asset B=%{y}<extra></extra>",
         "legendgroup": "",
         "marker": {
          "color": "#636efa",
          "size": 5,
          "symbol": "circle"
         },
         "mode": "markers",
         "name": "",
         "orientation": "v",
         "showlegend": false,
         "type": "scatter",
         "x": {
          "bdata": "fDCpKCrK3z8qBd4FpbLBv2heJFDdueQ/K6oBjlRe+D9AplffvPjNvzvbcCYz+M2/CHRAqHRE+T/z1/BG047oP4ueeUveC96/fS1q4aZc4T9wG8Guoqjdv+fvFiuEzt2/cPmepZ74zj++Ne6+y5z+vxLk7nBDmfu/YzyhakL+4b95UaNnjjTwvx+GFtigHNQ/+QOLgYgO7b/HExTEy5j2v0ENnx9Mc/c/2Zhm4TzmzL/GNbFGh0mxP2InDcHEy/a/KPrKUZVr4b81BjE/bGW8PxX1zj14avK/6N19s28L2D/SOz2hbjjjv6DS80Icq9K/p/2pOS5B479X9hhz7qL9P4aDsNZupIu/RsyHS2Ls8L83Lh+1SVLqPxx64lmTiPO/tWnv0gq8yj/DMFAPz1r/v/9asANAQPW/QDr0vL8yyT++nUiqhKHnPwwupFVl78U/XzGyNiCbvb/hr1BvSEXTvwa4sKwGqPe/J6aouPYI57/ZriIKG3vdv2LC1/746fA/iEEAkdf91T9OFQ2YaTX8vzhYbbDKvdQ/QA8qJjCl2L9NOahTWKnlv/nsCSfakuM/1Pz0Wvl+8D8enOD2C83tP1MVD7Xe2uq/zylztCLK07+KTA+JazPVPwBoGGqqN+8/VWYobMqq3r8Tbn1grMPHvzBuPE2Ms/G/9PWajqkj87+w1UonNgDqP/3Ng74os/U/+iMrXUFvsr9qgA6DeA7wP0KkKG0LJdc/rwoBL9Kk5L+P6aQIGyHXPyBgEDvMm/g/UhmlZMpXor8x1znJxwj5P19fz+s89QTAv1gZewZN6j8hrkt3t0i2P8Dt4LnvItO/OIpGXqJ9tz/iHOwPFc3/v8FsDls1Hsy/04nor+7a1j8349E5dKX3PzA8v2yrleC/S3Lu+S3f6b+hdpfJZA7gv5AGx2H5Su0/gMUgGEIK1T/02ryry/PgvwNc6tKvbOA/OiugAxPauD9TvHjHI//uP3hIyAw4d+a/l5Lxpmr41L8apYzLTBjZvxD0dqaOave/IzBrdqLz0j8UgR0sIbXQPw06yBDZ8XQ/hE70gPMGzr8=",
          "dtype": "f8"
         },
         "xaxis": "x",
         "y": {
          "bdata": "BCaNylul9r90hh9c2uvavws0Ft4I79W/fDE0YUGs6b/Ac3WcAqXEvzMc/B/429k/GwJ+RNEt/j+RJ1zWkFjGP517TqK0e9A/YFWJNeMOs7/tciNySbP+vzhGxw90Jpu/rRjbe37Wrj+4CNpHuLQDQOSGYbpIn8i/cjBhOY1M0z8IMle3vcWhv88R8r3nsvK/XG9XkwBJ8j9WfwXd1Q/oP9CD1DoiUOk//I03uLMZ7b80xIdy2HH2PxrkSGH7bfa/S4cph4jH4j9pi2GZDYYBQGn2PTx5su+/syyOahwf4r/knA16wIK5P29cmPl4HOC/2oM4dYTP+L/WI4LWV42xP6z3zS0y//C/LYVNoFZP3j+P4yVf7Gvtv8btxwSIzPg/3zBiNWkQ6b/G09nnp5zUv6+9akJVCOo/EVsOyJ6x879VNCM6aB3NP9OKTYUO6vQ/uPAUV0C4+b9xtRAQFaLHP87DhXHrodA/FIwxZrEE6T/Ywx/UjMrzvwa+Dx2XIPW/c+xXzL6z4D81ybwAzAHTP9yCByoTCNA/bQZjHDUs1j8B1nQ0w8Llv50+1zh9us0/Kj4LDLPB0j9/yEiB99vmv987sV822v0/4GTFUEdT3j9piIFBlA/zvwzmpLZ8AuU/U2I0nZcw779TSQgNzC/pPyEIkoSbifI/3Du3kAdD6r/tPhst+tPuP3e1ZrEAa9o/56rQG1FO6j/5fjyZQ1n+P92Zh7bgaM+/8kr3TZse6L+U+RH35nbsvwxYtSseG+q/vzZmCPC8s79JabMXb9XVP3p/jlNNtdE/chRNAUl46j/EwjZjvKCKPwoy0PKsQfc/auDaNiPw0L9MuFAN6MIFQKFsmod3BeQ/fngKr9Vt6799RAssYCLxv2JDLPvT4N4/Gn5stW2azL8Pgm6QF9nmPy3tMXaGSd4/qoMQZuqksr9D/LEj7xjrv/pkh3HQPPi/HGITc7OT3L8ogL5xnmfrPyehqH5sZ8s/3tQeyYvu87+mMWnmyirGP1UCIToKqdg/we3ZY49I7L9MGk6nQ63DP+ihInyIza0/47UXOZtJ8r8=",
          "dtype": "f8"
         },
         "yaxis": "y"
        }
       ],
       "layout": {
        "legend": {
         "tracegroupgap": 0
        },
        "template": {
         "data": {
          "bar": [
           {
            "error_x": {
             "color": "#2a3f5f"
            },
            "error_y": {
             "color": "#2a3f5f"
            },
            "marker": {
             "line": {
              "color": "#E5ECF6",
              "width": 0.5
             },
             "pattern": {
              "fillmode": "overlay",
              "size": 10,
              "solidity": 0.2
             }
            },
            "type": "bar"
           }
          ],
          "barpolar": [
           {
            "marker": {
             "line": {
              "color": "#E5ECF6",
              "width": 0.5
             },
             "pattern": {
              "fillmode": "overlay",
              "size": 10,
              "solidity": 0.2
             }
            },
            "type": "barpolar"
           }
          ],
          "carpet": [
           {
            "aaxis": {
             "endlinecolor": "#2a3f5f",
             "gridcolor": "white",
             "linecolor": "white",
             "minorgridcolor": "white",
             "startlinecolor": "#2a3f5f"
            },
            "baxis": {
             "endlinecolor": "#2a3f5f",
             "gridcolor": "white",
             "linecolor": "white",
             "minorgridcolor": "white",
             "startlinecolor": "#2a3f5f"
            },
            "type": "carpet"
           }
          ],
          "choropleth": [
           {
            "colorbar": {
             "outlinewidth": 0,
             "ticks": ""
            },
            "type": "choropleth"
           }
          ],
          "contour": [
           {
            "colorbar": {
             "outlinewidth": 0,
             "ticks": ""
            },
            "colorscale": [
             [
              0,
              "#0d0887"
             ],
             [
              0.1111111111111111,
              "#46039f"
             ],
             [
              0.2222222222222222,
              "#7201a8"
             ],
             [
              0.3333333333333333,
              "#9c179e"
             ],
             [
              0.4444444444444444,
              "#bd3786"
             ],
             [
              0.5555555555555556,
              "#d8576b"
             ],
             [
              0.6666666666666666,
              "#ed7953"
             ],
             [
              0.7777777777777778,
              "#fb9f3a"
             ],
             [
              0.8888888888888888,
              "#fdca26"
             ],
             [
              1,
              "#f0f921"
             ]
            ],
            "type": "contour"
           }
          ],
          "contourcarpet": [
           {
            "colorbar": {
             "outlinewidth": 0,
             "ticks": ""
            },
            "type": "contourcarpet"
           }
          ],
          "heatmap": [
           {
            "colorbar": {
             "outlinewidth": 0,
             "ticks": ""
            },
            "colorscale": [
             [
              0,
              "#0d0887"
             ],
             [
              0.1111111111111111,
              "#46039f"
             ],
             [
              0.2222222222222222,
              "#7201a8"
             ],
             [
              0.3333333333333333,
              "#9c179e"
             ],
             [
              0.4444444444444444,
              "#bd3786"
             ],
             [
              0.5555555555555556,
              "#d8576b"
             ],
             [
              0.6666666666666666,
              "#ed7953"
             ],
             [
              0.7777777777777778,
              "#fb9f3a"
             ],
             [
              0.8888888888888888,
              "#fdca26"
             ],
             [
              1,
              "#f0f921"
             ]
            ],
            "type": "heatmap"
           }
          ],
          "histogram": [
           {
            "marker": {
             "pattern": {
              "fillmode": "overlay",
              "size": 10,
              "solidity": 0.2
             }
            },
            "type": "histogram"
           }
          ],
          "histogram2d": [
           {
            "colorbar": {
             "outlinewidth": 0,
             "ticks": ""
            },
            "colorscale": [
             [
              0,
              "#0d0887"
             ],
             [
              0.1111111111111111,
              "#46039f"
             ],
             [
              0.2222222222222222,
              "#7201a8"
             ],
             [
              0.3333333333333333,
              "#9c179e"
             ],
             [
              0.4444444444444444,
              "#bd3786"
             ],
             [
              0.5555555555555556,
              "#d8576b"
             ],
             [
              0.6666666666666666,
              "#ed7953"
             ],
             [
              0.7777777777777778,
              "#fb9f3a"
             ],
             [
              0.8888888888888888,
              "#fdca26"
             ],
             [
              1,
              "#f0f921"
             ]
            ],
            "type": "histogram2d"
           }
          ],
          "histogram2dcontour": [
           {
            "colorbar": {
             "outlinewidth": 0,
             "ticks": ""
            },
            "colorscale": [
             [
              0,
              "#0d0887"
             ],
             [
              0.1111111111111111,
              "#46039f"
             ],
             [
              0.2222222222222222,
              "#7201a8"
             ],
             [
              0.3333333333333333,
              "#9c179e"
             ],
             [
              0.4444444444444444,
              "#bd3786"
             ],
             [
              0.5555555555555556,
              "#d8576b"
             ],
             [
              0.6666666666666666,
              "#ed7953"
             ],
             [
              0.7777777777777778,
              "#fb9f3a"
             ],
             [
              0.8888888888888888,
              "#fdca26"
             ],
             [
              1,
              "#f0f921"
             ]
            ],
            "type": "histogram2dcontour"
           }
          ],
          "mesh3d": [
           {
            "colorbar": {
             "outlinewidth": 0,
             "ticks": ""
            },
            "type": "mesh3d"
           }
          ],
          "parcoords": [
           {
            "line": {
             "colorbar": {
              "outlinewidth": 0,
              "ticks": ""
             }
            },
            "type": "parcoords"
           }
          ],
          "pie": [
           {
            "automargin": true,
            "type": "pie"
           }
          ],
          "scatter": [
           {
            "fillpattern": {
             "fillmode": "overlay",
             "size": 10,
             "solidity": 0.2
            },
            "type": "scatter"
           }
          ],
          "scatter3d": [
           {
            "line": {
             "colorbar": {
              "outlinewidth": 0,
              "ticks": ""
             }
            },
            "marker": {
             "colorbar": {
              "outlinewidth": 0,
              "ticks": ""
             }
            },
            "type": "scatter3d"
           }
          ],
          "scattercarpet": [
           {
            "marker": {
             "colorbar": {
              "outlinewidth": 0,
              "ticks": ""
             }
            },
            "type": "scattercarpet"
           }
          ],
          "scattergeo": [
           {
            "marker": {
             "colorbar": {
              "outlinewidth": 0,
              "ticks": ""
             }
            },
            "type": "scattergeo"
           }
          ],
          "scattergl": [
           {
            "marker": {
             "colorbar": {
              "outlinewidth": 0,
              "ticks": ""
             }
            },
            "type": "scattergl"
           }
          ],
          "scattermap": [
           {
            "marker": {
             "colorbar": {
              "outlinewidth": 0,
              "ticks": ""
             }
            },
            "type": "scattermap"
           }
          ],
          "scattermapbox": [
           {
            "marker": {
             "colorbar": {
              "outlinewidth": 0,
              "ticks": ""
             }
            },
            "type": "scattermapbox"
           }
          ],
          "scatterpolar": [
           {
            "marker": {
             "colorbar": {
              "outlinewidth": 0,
              "ticks": ""
             }
            },
            "type": "scatterpolar"
           }
          ],
          "scatterpolargl": [
           {
            "marker": {
             "colorbar": {
              "outlinewidth": 0,
              "ticks": ""
             }
            },
            "type": "scatterpolargl"
           }
          ],
          "scatterternary": [
           {
            "marker": {
             "colorbar": {
              "outlinewidth": 0,
              "ticks": ""
             }
            },
            "type": "scatterternary"
           }
          ],
          "surface": [
           {
            "colorbar": {
             "outlinewidth": 0,
             "ticks": ""
            },
            "colorscale": [
             [
              0,
              "#0d0887"
             ],
             [
              0.1111111111111111,
              "#46039f"
             ],
             [
              0.2222222222222222,
              "#7201a8"
             ],
             [
              0.3333333333333333,
              "#9c179e"
             ],
             [
              0.4444444444444444,
              "#bd3786"
             ],
             [
              0.5555555555555556,
              "#d8576b"
             ],
             [
              0.6666666666666666,
              "#ed7953"
             ],
             [
              0.7777777777777778,
              "#fb9f3a"
             ],
             [
              0.8888888888888888,
              "#fdca26"
             ],
             [
              1,
              "#f0f921"
             ]
            ],
            "type": "surface"
           }
          ],
          "table": [
           {
            "cells": {
             "fill": {
              "color": "#EBF0F8"
             },
             "line": {
              "color": "white"
             }
            },
            "header": {
             "fill": {
              "color": "#C8D4E3"
             },
             "line": {
              "color": "white"
             }
            },
            "type": "table"
           }
          ]
         },
         "layout": {
          "annotationdefaults": {
           "arrowcolor": "#2a3f5f",
           "arrowhead": 0,
           "arrowwidth": 1
          },
          "autotypenumbers": "strict",
          "coloraxis": {
           "colorbar": {
            "outlinewidth": 0,
            "ticks": ""
           }
          },
          "colorscale": {
           "diverging": [
            [
             0,
             "#8e0152"
            ],
            [
             0.1,
             "#c51b7d"
            ],
            [
             0.2,
             "#de77ae"
            ],
            [
             0.3,
             "#f1b6da"
            ],
            [
             0.4,
             "#fde0ef"
            ],
            [
             0.5,
             "#f7f7f7"
            ],
            [
             0.6,
             "#e6f5d0"
            ],
            [
             0.7,
             "#b8e186"
            ],
            [
             0.8,
             "#7fbc41"
            ],
            [
             0.9,
             "#4d9221"
            ],
            [
             1,
             "#276419"
            ]
           ],
           "sequential": [
            [
             0,
             "#0d0887"
            ],
            [
             0.1111111111111111,
             "#46039f"
            ],
            [
             0.2222222222222222,
             "#7201a8"
            ],
            [
             0.3333333333333333,
             "#9c179e"
            ],
            [
             0.4444444444444444,
             "#bd3786"
            ],
            [
             0.5555555555555556,
             "#d8576b"
            ],
            [
             0.6666666666666666,
             "#ed7953"
            ],
            [
             0.7777777777777778,
             "#fb9f3a"
            ],
            [
             0.8888888888888888,
             "#fdca26"
            ],
            [
             1,
             "#f0f921"
            ]
           ],
           "sequentialminus": [
            [
             0,
             "#0d0887"
            ],
            [
             0.1111111111111111,
             "#46039f"
            ],
            [
             0.2222222222222222,
             "#7201a8"
            ],
            [
             0.3333333333333333,
             "#9c179e"
            ],
            [
             0.4444444444444444,
             "#bd3786"
            ],
            [
             0.5555555555555556,
             "#d8576b"
            ],
            [
             0.6666666666666666,
             "#ed7953"
            ],
            [
             0.7777777777777778,
             "#fb9f3a"
            ],
            [
             0.8888888888888888,
             "#fdca26"
            ],
            [
             1,
             "#f0f921"
            ]
           ]
          },
          "colorway": [
           "#636efa",
           "#EF553B",
           "#00cc96",
           "#ab63fa",
           "#FFA15A",
           "#19d3f3",
           "#FF6692",
           "#B6E880",
           "#FF97FF",
           "#FECB52"
          ],
          "font": {
           "color": "#2a3f5f"
          },
          "geo": {
           "bgcolor": "white",
           "lakecolor": "white",
           "landcolor": "#E5ECF6",
           "showlakes": true,
           "showland": true,
           "subunitcolor": "white"
          },
          "hoverlabel": {
           "align": "left"
          },
          "hovermode": "closest",
          "mapbox": {
           "style": "light"
          },
          "paper_bgcolor": "white",
          "plot_bgcolor": "#E5ECF6",
          "polar": {
           "angularaxis": {
            "gridcolor": "white",
            "linecolor": "white",
            "ticks": ""
           },
           "bgcolor": "#E5ECF6",
           "radialaxis": {
            "gridcolor": "white",
            "linecolor": "white",
            "ticks": ""
           }
          },
          "scene": {
           "xaxis": {
            "backgroundcolor": "#E5ECF6",
            "gridcolor": "white",
            "gridwidth": 2,
            "linecolor": "white",
            "showbackground": true,
            "ticks": "",
            "zerolinecolor": "white"
           },
           "yaxis": {
            "backgroundcolor": "#E5ECF6",
            "gridcolor": "white",
            "gridwidth": 2,
            "linecolor": "white",
            "showbackground": true,
            "ticks": "",
            "zerolinecolor": "white"
           },
           "zaxis": {
            "backgroundcolor": "#E5ECF6",
            "gridcolor": "white",
            "gridwidth": 2,
            "linecolor": "white",
            "showbackground": true,
            "ticks": "",
            "zerolinecolor": "white"
           }
          },
          "shapedefaults": {
           "line": {
            "color": "#2a3f5f"
           }
          },
          "ternary": {
           "aaxis": {
            "gridcolor": "white",
            "linecolor": "white",
            "ticks": ""
           },
           "baxis": {
            "gridcolor": "white",
            "linecolor": "white",
            "ticks": ""
           },
           "bgcolor": "#E5ECF6",
           "caxis": {
            "gridcolor": "white",
            "linecolor": "white",
            "ticks": ""
           }
          },
          "title": {
           "x": 0.05
          },
          "xaxis": {
           "automargin": true,
           "gridcolor": "white",
           "linecolor": "white",
           "ticks": "",
           "title": {
            "standoff": 15
           },
           "zerolinecolor": "white",
           "zerolinewidth": 2
          },
          "yaxis": {
           "automargin": true,
           "gridcolor": "white",
           "linecolor": "white",
           "ticks": "",
           "title": {
            "standoff": 15
           },
           "zerolinecolor": "white",
           "zerolinewidth": 2
          }
         }
        },
        "title": {
         "text": "Interactive Scatter Plot"
        },
        "xaxis": {
         "anchor": "y",
         "domain": [
          0,
          1
         ],
         "title": {
          "text": "Asset A"
         }
        },
        "yaxis": {
         "anchor": "x",
         "domain": [
          0,
          1
         ],
         "title": {
          "text": "Asset B"
         }
        }
       }
      }
     },
     "metadata": {},
     "output_type": "display_data"
    }
   ],
   "source": [
    "import plotly.express as px\n",
    "import pandas as pd\n",
    "import numpy as np\n",
    "\n",
    "# 1. 가상의 거래 데이터 생성\n",
    "np.random.seed(42)  # 재현 가능성을 위해 시드 고정\n",
    "data = pd.DataFrame({\n",
    "    'Date': pd.date_range(start='2023-01-01', periods=100),\n",
    "    'Asset A': np.random.randn(100),\n",
    "    'Asset B': np.random.randn(100)\n",
    "})\n",
    "\n",
    "# 2. Plotly 산점도 생성\n",
    "fig = px.scatter(data, x='Asset A', y='Asset B', title='Interactive Scatter Plot')\n",
    "\n",
    "# 3. 마커 크기 조정\n",
    "fig.update_traces(marker=dict(size=5))\n",
    "\n",
    "# 4. 그래프 표시\n",
    "fig.show()\n"
   ]
  },
  {
   "cell_type": "markdown",
   "id": "c1dd31f1",
   "metadata": {},
   "source": [
    "27. 대화형 캔들 차트\n",
    "* 설명: \n",
    "    * yfinance.download()\tYahoo Finance에서 AAPL의 2023년 주가 데이터를 가져옵니다.\n",
    "    * plotly.graph_objects\t인터랙티브한 그래프를 생성하는 Plotly 모듈입니다.\n",
    "    * go.Candlestick()\t캔들스틱 차트 객체를 생성합니다. 각 봉은 Open, High, Low, Close 값을 시각화합니다.\n",
    "    * xaxis_rangeslider_visible=True\t차트 하단에 날짜 범위를 조절할 수 있는 슬라이더를 추가합니다.\n",
    "    * fig.show()\t인터랙티브 차트를 화면에 렌더링합니다. Jupyter나 웹 환경에서 동작합니다."
   ]
  },
  {
   "cell_type": "code",
   "execution_count": 12,
   "id": "29eae60d",
   "metadata": {},
   "outputs": [
    {
     "name": "stderr",
     "output_type": "stream",
     "text": [
      "C:\\Users\\jj\\AppData\\Local\\Temp\\ipykernel_27856\\106823751.py:5: FutureWarning:\n",
      "\n",
      "YF.download() has changed argument auto_adjust default to True\n",
      "\n",
      "[*********************100%***********************]  1 of 1 completed"
     ]
    },
    {
     "name": "stdout",
     "output_type": "stream",
     "text": [
      "data.head() >>>\n",
      " Price             Open        High         Low       Close      Volume\n",
      "Date                                                                  \n",
      "2025-01-02  248.330961  248.500565  241.238085  243.263199  55740700.0\n",
      "2025-01-03  242.774368  243.592387  241.307905  242.774368  40244100.0\n",
      "2025-01-06  243.722074  246.734810  242.614744  244.410416  45045600.0\n",
      "2025-01-07  242.395272  244.959095  240.769205  241.627136  40856000.0\n",
      "2025-01-08  241.337815  243.123515  239.472320  242.115936  37628900.0\n"
     ]
    },
    {
     "name": "stderr",
     "output_type": "stream",
     "text": [
      "\n"
     ]
    },
    {
     "data": {
      "application/vnd.plotly.v1+json": {
       "config": {
        "plotlyServerURL": "https://plot.ly"
       },
       "data": [
        {
         "close": {
          "bdata": "AAAAIGxobkAAAACgx1huQAAAACAijW5AAAAAgBE0bkAAAADAtUNuQAAAAAD2iG1AAAAA4L86bUAAAADg/hZtQAAAAKCFqW1AAAAAAL52bEAAAABgpq1sQAAAAMBVw2tAAAAAwFLpa0AAAACg5eNrQAAAAODNx2tAAAAAoNGpbEAAAADg+LVtQAAAAIAW2W1AAAAAYJWgbUAAAACg021tQAAAAADDbmxAAAAAQKwHbUAAAABgI/1sQAAAAKAUFW1AAAAAgKFibEAAAABgQmtsQAAAAGAXCm1AAAAAwOmRbUAAAACA1iZuQAAAAADziG5AAAAAgMuEbkAAAADgk5FuQAAAAABCsG5AAAAAQE+nbkAAAABA2NhuQAAAAEDt1m5AAAAAYHIBbkAAAADAp59tQAAAAKC+MG5AAAAAAPy2bUAAAABg33NtQAAAAADNbW1AAAAAoLJgbUAAAACgONhtQAAAAKDTZWxAAAAAAKCRa0AAAABARBZrQAAAAAD5LGpAAAAAwLumakAAAAAgCLdqQAAAAKAqjWpAAAAA4KjeakAAAABAOrpqQAAAACB+P2tAAAAAAByOa0AAAACAn+5rQAAAAACtp2tAAAAAoNHxa0AAAAAAqzNrQAAAAODZumtAAAAAALrca0AAAADgGPNrQAAAAKCQXWlAAAAAAESEZ0AAAACgHadmQAAAAOA2hmVAAAAA4N3SaEAAAADAdcVnQAAAAOB+vGhAAAAAICdIaUAAAABAAjxpQAAAAKB/QGhAAAAA4BqXaEAAAABgBh1oQAAAAEBP72hAAAAAQKCKaUAAAACAGwNqQAAAAIAwIGpAAAAAYKw7akAAAABg3l1qQAAAAEAYh2pAAAAA4EyhakAAAAAgmKJpQAAAACAl1GhAAAAAIADIaEAAAACAxn9oQAAAAGBnp2hAAAAA4KPIaEAAAACgR1lqQAAAAIDCnWpAAAAAYI+KakAAAABgZm5qQAAAAOBRaGpAAAAAwPUYakAAAAAghdtpQAAAAEDhQmlAAAAAIIUraUAAAADgo2hoQAAAAGC4BmlAAAAAoHANaUAAAABgZv5oQAAAAEAzG2lAAAAAYGY2aUAAAADgo2hpQAAAAIA9WmlAAAAAACkUaUAAAACgcH1pQAAAAGBmLmlAAAAAoHBVaUAAAADA9dhoQAAAAGBm5mhAAAAAYGaOaEAAAACgcM1oQAAAAOB6dGhAAAAAYI+SaEAAAAAAACBpQAAAAAAAMGlAAAAAoJkJaUAAAACA6zFpQAAAAAAAIGlAAAAAYI8iaUAAAACgcKVpQAAAAIA9+mlAAAAAgBSOakAAAACgmbFqQAAAAGBmPmpAAAAA4FFAakAAAADgemRqQAAAAMAejWpAAAAAwB5lakAAAAAA1xNqQAAAACCFI2pAAAAAwB5FakAAAADgo0BqQAAAAIDCZWpA",
          "dtype": "f8"
         },
         "high": {
          "bdata": "72YfoQQQb0AOOsPV9HJuQIExHpGD125ApoDy57CebkD+v6jW82NuQHFbMj+g8m1AZExfbV5DbUDXZCwjqHFtQB6i8IJRzG1ASzJSyv2tbUCnwSJWZPdsQEkEu2go/GtAJQF0qJTya0Azxccwek9sQALOqvDIImxAkvDLGuzybEB5QMlzlfNtQCTPq6QM6W1AybQ3qrwGbkArYgqIC9NuQDi7vDG16GxACm+RHjUSbUBPx6rOhQNtQEc555CYJ21A7OH+6/otbUB5ajBVN8lsQBozwX+AXW1ANdLIKMqUbUCyUFlPuUBuQNZXxy5Pp25AVboLInybbkBJq/OEArZuQOBm2S6ezm5Ah/YHcKgLb0B+azQ+FxFvQHZrVd6FNW9AJY73zheVbkA5Vg8kj0RuQAk8XfG7OG5Abou7oLt2bkCly7D1LfhtQNrtWs+vh21AM9JVO42xbUA65w9zuSFuQBJwlCA5e21ANXS0W2oxbEAWbizztK5rQM4KiO/KEWtAQQ6qEG+1akBRek5JBd5qQIu2jXvI22pAZDsq3CZPa0CjMkTBkCZrQBT+fWK1UWtAvpcb9BOma0D227X+zvlrQGA4c641F2xAYUfuREAWbEBSNiFYivBrQCUkvm5iKmxASYk9vmLsa0AqdI2NpBxsQCrvUh785mlAC1XXn8jzaEAucsjbqTxoQMysVkDnwmdAmUAn3hwLaUD/i4sZzFBoQKnQVNbq6GhAM55U9SeVakBKc1+NymdpQJFk2CP9DWlAK+gVRzrSaECu8zFiejFoQPiRF4duKmlANuUlhkj3aUA4jJfwzhFqQJVIJrU1L2pArQC+6CJnakDRGhITyX5qQO872gmcqWpArg9Xku3IakAlLbFnAddpQL3GA5ulemlAgfZmCmQMaUCb1YnGuOVoQA9iDGk3+WhAaMWyL+AIaUAAAADgo2hqQAAAAMDMrGpAAAAAgBS+akAAAABguJ5qQAAAAIA9kmpAAAAAIFwvakAAAABACg9qQAAAAKBH4WlAAAAAAABYaUAAAABgZrZoQAAAACCuF2lAAAAAIFxXaUAAAACA63lpQAAAAGC4PmlAAAAAAClEaUAAAADgo3hpQAAAACCux2lAAAAAAACYaUAAAABgZrZpQAAAAAAAwGlAAAAAQDOLaUAAAAAAAJBpQAAAAIDC9WhAAAAAANcLaUAAAACAFNZoQAAAAOB6zGhAAAAAgD2yaEAAAABgZjZpQAAAAKCZSWlAAAAAgBRuaUAAAACgcHVpQAAAAOB6VGlAAAAAQApnaUAAAADgeuxpQAAAAIAURmpAAAAAQOGqakAAAADAzNRqQAAAACBcB2tAAAAAgMJtakAAAABgj2pqQAAAACBcr2pAAAAAACmEakAAAADAHl1qQAAAAOB6fGpAAAAAwMyMakAAAACgmXlqQAAAAKBHeWpA",
          "dtype": "f8"
         },
         "low": {
          "bdata": "nQOuZJ4nbkDjHqBa2iluQC+HH/yrU25AgmcwVJ0YbkDdCg0+He9tQMd0GqYODm1A31p4olmlbEAkaOBXI/1sQIqf+PC0O21APlC6aGZvbEDOuQzyw31sQAgCfSREW2tAeKU8pVpoa0CA8XVPe7hrQKzJDeIRnGtAoUxgixzua0CemxBeJchsQONTprdMLm1AkHK8/XOUbUCLgGWXGhxtQP1RwwkFJWxAKe53nVhDbEB1gUzMD3dsQCnyV+ADvGxACwJdq9FWbEAdWO7T4FxsQGaljIuZemxA3nPAqBfMbECaTRAxXmhtQEIUE5uUFW5AaYort74wbkDNIY347VpuQLmXm8UKf25A7otYasOcbkDLuphgMoNuQI6tBTrbkm5ALqo9ciPabUAetCwz/JdtQEDkwqHAvGxAXExc+Z95bUBsYg3J7EttQGoootfAnWxAwnfrR1kbbUAzhX09e05tQG/efbmk/WtALpF+fkkla0CuxzwVHdRqQMR8faS0BGpAAyuQ8sYpakDjg0KcPTZqQN6h1B/RZmpAVeRgvAqvakCWMH1rJX5qQLAoWv4aYGpAVPEBUWZJa0B3nqA/VnlrQOjyW9/MhWtAQykvLK2Ia0BJKzwcoyxrQNOjX0xM/mpAP2iFRqBTa0DW3WqqYJdrQNXdFvCQH2lAb3tUaAdjZ0CrmaShhcxlQPPW8w+hH2VAyOH9vUZ1ZUBjc4m6VNhmQC+Je1UfOmdAarJCl7AcaUB9m7AaOvFoQACkbSLHA2hAJGrb1kpFaEAxEgkR97FnQIkgIdLTdmhAmACW7xlRaUDMSnhBk1VpQK9bLCvCvWlAjrShoAbmaUCCEzJ4GwNqQACArmvHzGlAPoWpiwsUakBmKnDZpTxpQGmbj+tpvmhA2gpSHGKYaEB03Jyv5h9oQL9NnOWZTWhAgiH6XgCpaEAAAAAAANhpQAAAAAAAIGpAAAAAYI9SakAAAACgRzFqQAAAAOCjOGpAAAAA4FGIaUAAAADA9aBpQAAAAGC4FmlAAAAAYGb2aEAAAABguC5oQAAAAIDCrWhAAAAAwMz8aEAAAADgUdBoQAAAAMD1mGhAAAAAANcDaUAAAABguB5pQAAAAEAzQ2lAAAAAwMwEaUAAAACgmUFpQAAAAOCjAGlAAAAAgD0SaUAAAADAHs1oQAAAACCFq2hAAAAAYGZ2aEAAAACA65FoQAAAAGC4ZmhAAAAAgD1iaEAAAAAghZtoQAAAAGC43mhAAAAAYGYGaUAAAAAA1xNpQAAAAGC47mhAAAAAAAAAaUAAAADgUehoQAAAAOB6xGlAAAAA4HoEakAAAACA63lqQAAAAKCZGWpAAAAAYGYOakAAAABACudpQAAAAMD1QGpAAAAAIIU7akAAAACgR/FpQAAAAKBwHWpAAAAA4HoUakAAAABA4TJqQAAAAGBmNmpA",
          "dtype": "f8"
         },
         "open": {
          "bdata": "m6oeO5cKb0AAAACgx1huQLftQDobd25AaDATEqZMbkCNGYRgzypuQNg7QlTW7W1AdGOYBvoebUANhDsl7EVtQLd/HC1pQm1AdccbLeyYbUAzxBAQ9/FsQIjfXhDA7mtAeKU8pVpoa0D9EZm1XwZsQAxqdHKmB2xAU7x1gWPva0ANIidUbMlsQDuog6zPMW1AvRpvdQ/DbUArYgqIC9NuQAXUkDf4rWxAjX9lCYBWbEA8fSyMXH9sQKsZLQx412xA7zh3xUkBbUCXIp+GnqhsQDHHUSvWfGxAhE2R9LXcbEBJj8YQMZNtQLYR/LDjHW5A8R7ibpF6bkD+tb/g3YpuQLRUXqzQk25ALPprtRe0bkDlwOfHfpNuQNDIVlOb9W5Aaag0CFKAbkCdLOM8FuNtQEE5mDZ4lG1AdOwBiSUvbkC8hEsnwqxtQNEQ5e6SY21AYDZkTEFEbUC6/jG8qlltQBYpbKdoZ21AXGsDY4rwa0BkIwsZQXtrQB/a2ptZ9WpAaGkGqCVfakDXshEH+6BqQOIJmBolvGpArdJ+8Q++akDAsx5OtrZqQKLMUr0NaWpAUlRt+ryWa0BaOopYY49rQHzMzOHz5mtA8TOKpDOja0CaiKdtJqxrQERuG645F2tAWIExQ7Vwa0C5KnYS96BrQOyJ54mqqGlAf1QVw1o0aEBbVtZT+R5mQMnmRG2TTmdALCs1mTF3ZUAlO6kbUZpnQHgbmadmO2dAWPEZDThlakDZ4wCBDzNpQIPutf40w2hAZyPIwyKeaEAjFeBRiiBoQP25Lfaee2hAxxED+123aUDNGM615JNpQGWyRvgww2lASo6CADM3akBMp0iJVQ1qQF7djzTUIGpAXDpEPcwZakDYLZgvPrppQNYfdVWwWmlABtTt12m+aEAThB3MF91oQFf2UgjBrmhAqCItFanXaEAAAABACl9qQAAAAIDCTWpAAAAAgMKNakAAAABgZl5qQAAAACCFi2pAAAAAwB79aUAAAACgcPVpQAAAAKBwpWlAAAAAYLgWaUAAAACgcDVoQAAAAKCZyWhAAAAAQOESaUAAAABgj3JpQAAAAADX62hAAAAAwPUIaUAAAABAMytpQAAAAMAeXWlAAAAAAABwaUAAAAAAAGBpQAAAAOB6jGlAAAAAQDMTaUAAAAAAAHBpQAAAAGCP4mhAAAAAIFz3aEAAAACgmaloQAAAAGBmpmhAAAAAgBR+aEAAAAAgrsdoQAAAAAApNGlAAAAAQOFSaUAAAABgZi5pQAAAAIDCLWlAAAAA4Ho8aUAAAADgUUBpQAAAAKBw1WlAAAAAwB4dakAAAADAzIRqQAAAAIDClWpAAAAAQDNDakAAAADA9TBqQAAAAOBRUGpAAAAAgD1SakAAAACAwj1qQAAAAEAKJ2pAAAAAoJlJakAAAACAPVJqQAAAAADXW2pA",
          "dtype": "f8"
         },
         "type": "candlestick",
         "x": [
          "2025-01-02T00:00:00",
          "2025-01-03T00:00:00",
          "2025-01-06T00:00:00",
          "2025-01-07T00:00:00",
          "2025-01-08T00:00:00",
          "2025-01-10T00:00:00",
          "2025-01-13T00:00:00",
          "2025-01-14T00:00:00",
          "2025-01-15T00:00:00",
          "2025-01-16T00:00:00",
          "2025-01-17T00:00:00",
          "2025-01-21T00:00:00",
          "2025-01-22T00:00:00",
          "2025-01-23T00:00:00",
          "2025-01-24T00:00:00",
          "2025-01-27T00:00:00",
          "2025-01-28T00:00:00",
          "2025-01-29T00:00:00",
          "2025-01-30T00:00:00",
          "2025-01-31T00:00:00",
          "2025-02-03T00:00:00",
          "2025-02-04T00:00:00",
          "2025-02-05T00:00:00",
          "2025-02-06T00:00:00",
          "2025-02-07T00:00:00",
          "2025-02-10T00:00:00",
          "2025-02-11T00:00:00",
          "2025-02-12T00:00:00",
          "2025-02-13T00:00:00",
          "2025-02-14T00:00:00",
          "2025-02-18T00:00:00",
          "2025-02-19T00:00:00",
          "2025-02-20T00:00:00",
          "2025-02-21T00:00:00",
          "2025-02-24T00:00:00",
          "2025-02-25T00:00:00",
          "2025-02-26T00:00:00",
          "2025-02-27T00:00:00",
          "2025-02-28T00:00:00",
          "2025-03-03T00:00:00",
          "2025-03-04T00:00:00",
          "2025-03-05T00:00:00",
          "2025-03-06T00:00:00",
          "2025-03-07T00:00:00",
          "2025-03-10T00:00:00",
          "2025-03-11T00:00:00",
          "2025-03-12T00:00:00",
          "2025-03-13T00:00:00",
          "2025-03-14T00:00:00",
          "2025-03-17T00:00:00",
          "2025-03-18T00:00:00",
          "2025-03-19T00:00:00",
          "2025-03-20T00:00:00",
          "2025-03-21T00:00:00",
          "2025-03-24T00:00:00",
          "2025-03-25T00:00:00",
          "2025-03-26T00:00:00",
          "2025-03-27T00:00:00",
          "2025-03-28T00:00:00",
          "2025-03-31T00:00:00",
          "2025-04-01T00:00:00",
          "2025-04-02T00:00:00",
          "2025-04-03T00:00:00",
          "2025-04-04T00:00:00",
          "2025-04-07T00:00:00",
          "2025-04-08T00:00:00",
          "2025-04-09T00:00:00",
          "2025-04-10T00:00:00",
          "2025-04-11T00:00:00",
          "2025-04-14T00:00:00",
          "2025-04-15T00:00:00",
          "2025-04-16T00:00:00",
          "2025-04-17T00:00:00",
          "2025-04-21T00:00:00",
          "2025-04-22T00:00:00",
          "2025-04-23T00:00:00",
          "2025-04-24T00:00:00",
          "2025-04-25T00:00:00",
          "2025-04-28T00:00:00",
          "2025-04-29T00:00:00",
          "2025-04-30T00:00:00",
          "2025-05-01T00:00:00",
          "2025-05-02T00:00:00",
          "2025-05-05T00:00:00",
          "2025-05-06T00:00:00",
          "2025-05-07T00:00:00",
          "2025-05-08T00:00:00",
          "2025-05-09T00:00:00",
          "2025-05-12T00:00:00",
          "2025-05-13T00:00:00",
          "2025-05-14T00:00:00",
          "2025-05-15T00:00:00",
          "2025-05-16T00:00:00",
          "2025-05-19T00:00:00",
          "2025-05-20T00:00:00",
          "2025-05-21T00:00:00",
          "2025-05-22T00:00:00",
          "2025-05-23T00:00:00",
          "2025-05-27T00:00:00",
          "2025-05-28T00:00:00",
          "2025-05-29T00:00:00",
          "2025-05-30T00:00:00",
          "2025-06-02T00:00:00",
          "2025-06-03T00:00:00",
          "2025-06-04T00:00:00",
          "2025-06-05T00:00:00",
          "2025-06-06T00:00:00",
          "2025-06-09T00:00:00",
          "2025-06-10T00:00:00",
          "2025-06-11T00:00:00",
          "2025-06-12T00:00:00",
          "2025-06-13T00:00:00",
          "2025-06-16T00:00:00",
          "2025-06-17T00:00:00",
          "2025-06-18T00:00:00",
          "2025-06-20T00:00:00",
          "2025-06-23T00:00:00",
          "2025-06-24T00:00:00",
          "2025-06-25T00:00:00",
          "2025-06-26T00:00:00",
          "2025-06-27T00:00:00",
          "2025-06-30T00:00:00",
          "2025-07-01T00:00:00",
          "2025-07-02T00:00:00",
          "2025-07-03T00:00:00",
          "2025-07-07T00:00:00",
          "2025-07-08T00:00:00",
          "2025-07-09T00:00:00",
          "2025-07-10T00:00:00",
          "2025-07-11T00:00:00",
          "2025-07-14T00:00:00",
          "2025-07-15T00:00:00",
          "2025-07-16T00:00:00",
          "2025-07-17T00:00:00",
          "2025-07-18T00:00:00"
         ]
        }
       ],
       "layout": {
        "template": {
         "data": {
          "bar": [
           {
            "error_x": {
             "color": "#2a3f5f"
            },
            "error_y": {
             "color": "#2a3f5f"
            },
            "marker": {
             "line": {
              "color": "#E5ECF6",
              "width": 0.5
             },
             "pattern": {
              "fillmode": "overlay",
              "size": 10,
              "solidity": 0.2
             }
            },
            "type": "bar"
           }
          ],
          "barpolar": [
           {
            "marker": {
             "line": {
              "color": "#E5ECF6",
              "width": 0.5
             },
             "pattern": {
              "fillmode": "overlay",
              "size": 10,
              "solidity": 0.2
             }
            },
            "type": "barpolar"
           }
          ],
          "carpet": [
           {
            "aaxis": {
             "endlinecolor": "#2a3f5f",
             "gridcolor": "white",
             "linecolor": "white",
             "minorgridcolor": "white",
             "startlinecolor": "#2a3f5f"
            },
            "baxis": {
             "endlinecolor": "#2a3f5f",
             "gridcolor": "white",
             "linecolor": "white",
             "minorgridcolor": "white",
             "startlinecolor": "#2a3f5f"
            },
            "type": "carpet"
           }
          ],
          "choropleth": [
           {
            "colorbar": {
             "outlinewidth": 0,
             "ticks": ""
            },
            "type": "choropleth"
           }
          ],
          "contour": [
           {
            "colorbar": {
             "outlinewidth": 0,
             "ticks": ""
            },
            "colorscale": [
             [
              0,
              "#0d0887"
             ],
             [
              0.1111111111111111,
              "#46039f"
             ],
             [
              0.2222222222222222,
              "#7201a8"
             ],
             [
              0.3333333333333333,
              "#9c179e"
             ],
             [
              0.4444444444444444,
              "#bd3786"
             ],
             [
              0.5555555555555556,
              "#d8576b"
             ],
             [
              0.6666666666666666,
              "#ed7953"
             ],
             [
              0.7777777777777778,
              "#fb9f3a"
             ],
             [
              0.8888888888888888,
              "#fdca26"
             ],
             [
              1,
              "#f0f921"
             ]
            ],
            "type": "contour"
           }
          ],
          "contourcarpet": [
           {
            "colorbar": {
             "outlinewidth": 0,
             "ticks": ""
            },
            "type": "contourcarpet"
           }
          ],
          "heatmap": [
           {
            "colorbar": {
             "outlinewidth": 0,
             "ticks": ""
            },
            "colorscale": [
             [
              0,
              "#0d0887"
             ],
             [
              0.1111111111111111,
              "#46039f"
             ],
             [
              0.2222222222222222,
              "#7201a8"
             ],
             [
              0.3333333333333333,
              "#9c179e"
             ],
             [
              0.4444444444444444,
              "#bd3786"
             ],
             [
              0.5555555555555556,
              "#d8576b"
             ],
             [
              0.6666666666666666,
              "#ed7953"
             ],
             [
              0.7777777777777778,
              "#fb9f3a"
             ],
             [
              0.8888888888888888,
              "#fdca26"
             ],
             [
              1,
              "#f0f921"
             ]
            ],
            "type": "heatmap"
           }
          ],
          "histogram": [
           {
            "marker": {
             "pattern": {
              "fillmode": "overlay",
              "size": 10,
              "solidity": 0.2
             }
            },
            "type": "histogram"
           }
          ],
          "histogram2d": [
           {
            "colorbar": {
             "outlinewidth": 0,
             "ticks": ""
            },
            "colorscale": [
             [
              0,
              "#0d0887"
             ],
             [
              0.1111111111111111,
              "#46039f"
             ],
             [
              0.2222222222222222,
              "#7201a8"
             ],
             [
              0.3333333333333333,
              "#9c179e"
             ],
             [
              0.4444444444444444,
              "#bd3786"
             ],
             [
              0.5555555555555556,
              "#d8576b"
             ],
             [
              0.6666666666666666,
              "#ed7953"
             ],
             [
              0.7777777777777778,
              "#fb9f3a"
             ],
             [
              0.8888888888888888,
              "#fdca26"
             ],
             [
              1,
              "#f0f921"
             ]
            ],
            "type": "histogram2d"
           }
          ],
          "histogram2dcontour": [
           {
            "colorbar": {
             "outlinewidth": 0,
             "ticks": ""
            },
            "colorscale": [
             [
              0,
              "#0d0887"
             ],
             [
              0.1111111111111111,
              "#46039f"
             ],
             [
              0.2222222222222222,
              "#7201a8"
             ],
             [
              0.3333333333333333,
              "#9c179e"
             ],
             [
              0.4444444444444444,
              "#bd3786"
             ],
             [
              0.5555555555555556,
              "#d8576b"
             ],
             [
              0.6666666666666666,
              "#ed7953"
             ],
             [
              0.7777777777777778,
              "#fb9f3a"
             ],
             [
              0.8888888888888888,
              "#fdca26"
             ],
             [
              1,
              "#f0f921"
             ]
            ],
            "type": "histogram2dcontour"
           }
          ],
          "mesh3d": [
           {
            "colorbar": {
             "outlinewidth": 0,
             "ticks": ""
            },
            "type": "mesh3d"
           }
          ],
          "parcoords": [
           {
            "line": {
             "colorbar": {
              "outlinewidth": 0,
              "ticks": ""
             }
            },
            "type": "parcoords"
           }
          ],
          "pie": [
           {
            "automargin": true,
            "type": "pie"
           }
          ],
          "scatter": [
           {
            "fillpattern": {
             "fillmode": "overlay",
             "size": 10,
             "solidity": 0.2
            },
            "type": "scatter"
           }
          ],
          "scatter3d": [
           {
            "line": {
             "colorbar": {
              "outlinewidth": 0,
              "ticks": ""
             }
            },
            "marker": {
             "colorbar": {
              "outlinewidth": 0,
              "ticks": ""
             }
            },
            "type": "scatter3d"
           }
          ],
          "scattercarpet": [
           {
            "marker": {
             "colorbar": {
              "outlinewidth": 0,
              "ticks": ""
             }
            },
            "type": "scattercarpet"
           }
          ],
          "scattergeo": [
           {
            "marker": {
             "colorbar": {
              "outlinewidth": 0,
              "ticks": ""
             }
            },
            "type": "scattergeo"
           }
          ],
          "scattergl": [
           {
            "marker": {
             "colorbar": {
              "outlinewidth": 0,
              "ticks": ""
             }
            },
            "type": "scattergl"
           }
          ],
          "scattermap": [
           {
            "marker": {
             "colorbar": {
              "outlinewidth": 0,
              "ticks": ""
             }
            },
            "type": "scattermap"
           }
          ],
          "scattermapbox": [
           {
            "marker": {
             "colorbar": {
              "outlinewidth": 0,
              "ticks": ""
             }
            },
            "type": "scattermapbox"
           }
          ],
          "scatterpolar": [
           {
            "marker": {
             "colorbar": {
              "outlinewidth": 0,
              "ticks": ""
             }
            },
            "type": "scatterpolar"
           }
          ],
          "scatterpolargl": [
           {
            "marker": {
             "colorbar": {
              "outlinewidth": 0,
              "ticks": ""
             }
            },
            "type": "scatterpolargl"
           }
          ],
          "scatterternary": [
           {
            "marker": {
             "colorbar": {
              "outlinewidth": 0,
              "ticks": ""
             }
            },
            "type": "scatterternary"
           }
          ],
          "surface": [
           {
            "colorbar": {
             "outlinewidth": 0,
             "ticks": ""
            },
            "colorscale": [
             [
              0,
              "#0d0887"
             ],
             [
              0.1111111111111111,
              "#46039f"
             ],
             [
              0.2222222222222222,
              "#7201a8"
             ],
             [
              0.3333333333333333,
              "#9c179e"
             ],
             [
              0.4444444444444444,
              "#bd3786"
             ],
             [
              0.5555555555555556,
              "#d8576b"
             ],
             [
              0.6666666666666666,
              "#ed7953"
             ],
             [
              0.7777777777777778,
              "#fb9f3a"
             ],
             [
              0.8888888888888888,
              "#fdca26"
             ],
             [
              1,
              "#f0f921"
             ]
            ],
            "type": "surface"
           }
          ],
          "table": [
           {
            "cells": {
             "fill": {
              "color": "#EBF0F8"
             },
             "line": {
              "color": "white"
             }
            },
            "header": {
             "fill": {
              "color": "#C8D4E3"
             },
             "line": {
              "color": "white"
             }
            },
            "type": "table"
           }
          ]
         },
         "layout": {
          "annotationdefaults": {
           "arrowcolor": "#2a3f5f",
           "arrowhead": 0,
           "arrowwidth": 1
          },
          "autotypenumbers": "strict",
          "coloraxis": {
           "colorbar": {
            "outlinewidth": 0,
            "ticks": ""
           }
          },
          "colorscale": {
           "diverging": [
            [
             0,
             "#8e0152"
            ],
            [
             0.1,
             "#c51b7d"
            ],
            [
             0.2,
             "#de77ae"
            ],
            [
             0.3,
             "#f1b6da"
            ],
            [
             0.4,
             "#fde0ef"
            ],
            [
             0.5,
             "#f7f7f7"
            ],
            [
             0.6,
             "#e6f5d0"
            ],
            [
             0.7,
             "#b8e186"
            ],
            [
             0.8,
             "#7fbc41"
            ],
            [
             0.9,
             "#4d9221"
            ],
            [
             1,
             "#276419"
            ]
           ],
           "sequential": [
            [
             0,
             "#0d0887"
            ],
            [
             0.1111111111111111,
             "#46039f"
            ],
            [
             0.2222222222222222,
             "#7201a8"
            ],
            [
             0.3333333333333333,
             "#9c179e"
            ],
            [
             0.4444444444444444,
             "#bd3786"
            ],
            [
             0.5555555555555556,
             "#d8576b"
            ],
            [
             0.6666666666666666,
             "#ed7953"
            ],
            [
             0.7777777777777778,
             "#fb9f3a"
            ],
            [
             0.8888888888888888,
             "#fdca26"
            ],
            [
             1,
             "#f0f921"
            ]
           ],
           "sequentialminus": [
            [
             0,
             "#0d0887"
            ],
            [
             0.1111111111111111,
             "#46039f"
            ],
            [
             0.2222222222222222,
             "#7201a8"
            ],
            [
             0.3333333333333333,
             "#9c179e"
            ],
            [
             0.4444444444444444,
             "#bd3786"
            ],
            [
             0.5555555555555556,
             "#d8576b"
            ],
            [
             0.6666666666666666,
             "#ed7953"
            ],
            [
             0.7777777777777778,
             "#fb9f3a"
            ],
            [
             0.8888888888888888,
             "#fdca26"
            ],
            [
             1,
             "#f0f921"
            ]
           ]
          },
          "colorway": [
           "#636efa",
           "#EF553B",
           "#00cc96",
           "#ab63fa",
           "#FFA15A",
           "#19d3f3",
           "#FF6692",
           "#B6E880",
           "#FF97FF",
           "#FECB52"
          ],
          "font": {
           "color": "#2a3f5f"
          },
          "geo": {
           "bgcolor": "white",
           "lakecolor": "white",
           "landcolor": "#E5ECF6",
           "showlakes": true,
           "showland": true,
           "subunitcolor": "white"
          },
          "hoverlabel": {
           "align": "left"
          },
          "hovermode": "closest",
          "mapbox": {
           "style": "light"
          },
          "paper_bgcolor": "white",
          "plot_bgcolor": "#E5ECF6",
          "polar": {
           "angularaxis": {
            "gridcolor": "white",
            "linecolor": "white",
            "ticks": ""
           },
           "bgcolor": "#E5ECF6",
           "radialaxis": {
            "gridcolor": "white",
            "linecolor": "white",
            "ticks": ""
           }
          },
          "scene": {
           "xaxis": {
            "backgroundcolor": "#E5ECF6",
            "gridcolor": "white",
            "gridwidth": 2,
            "linecolor": "white",
            "showbackground": true,
            "ticks": "",
            "zerolinecolor": "white"
           },
           "yaxis": {
            "backgroundcolor": "#E5ECF6",
            "gridcolor": "white",
            "gridwidth": 2,
            "linecolor": "white",
            "showbackground": true,
            "ticks": "",
            "zerolinecolor": "white"
           },
           "zaxis": {
            "backgroundcolor": "#E5ECF6",
            "gridcolor": "white",
            "gridwidth": 2,
            "linecolor": "white",
            "showbackground": true,
            "ticks": "",
            "zerolinecolor": "white"
           }
          },
          "shapedefaults": {
           "line": {
            "color": "#2a3f5f"
           }
          },
          "ternary": {
           "aaxis": {
            "gridcolor": "white",
            "linecolor": "white",
            "ticks": ""
           },
           "baxis": {
            "gridcolor": "white",
            "linecolor": "white",
            "ticks": ""
           },
           "bgcolor": "#E5ECF6",
           "caxis": {
            "gridcolor": "white",
            "linecolor": "white",
            "ticks": ""
           }
          },
          "title": {
           "x": 0.05
          },
          "xaxis": {
           "automargin": true,
           "gridcolor": "white",
           "linecolor": "white",
           "ticks": "",
           "title": {
            "standoff": 15
           },
           "zerolinecolor": "white",
           "zerolinewidth": 2
          },
          "yaxis": {
           "automargin": true,
           "gridcolor": "white",
           "linecolor": "white",
           "ticks": "",
           "title": {
            "standoff": 15
           },
           "zerolinecolor": "white",
           "zerolinewidth": 2
          }
         }
        },
        "title": {
         "text": "📈 Interactive Candlestick Chart (AAPL)"
        },
        "xaxis": {
         "rangeslider": {
          "visible": true
         },
         "title": {
          "text": "Date"
         }
        },
        "yaxis": {
         "title": {
          "text": "Price (USD)"
         }
        }
       }
      }
     },
     "metadata": {},
     "output_type": "display_data"
    }
   ],
   "source": [
    "import plotly.graph_objects as go\n",
    "import yfinance as yf\n",
    "\n",
    "# 1. 주가 데이터 다운로드\n",
    "data = yf.download('AAPL', start='2025-01-01', end='2025-07-31', group_by='ticker')\n",
    "\n",
    "data.columns = data.columns.get_level_values(1)  # 'AAPL' 부분 제거\n",
    "data.dropna(inplace=True)\n",
    "data.index.name = 'Date'\n",
    "data = data.astype(float)\n",
    "\n",
    "print(\"data.head() >>>\\n\", data.head())\n",
    "\n",
    "# 2. 캔들차트 생성\n",
    "fig = go.Figure(data=[go.Candlestick(\n",
    "    x=data.index,\n",
    "    open=data['Open'],\n",
    "    high=data['High'],\n",
    "    low=data['Low'],\n",
    "    close=data['Close']\n",
    ")])\n",
    "\n",
    "# 3. 차트 레이아웃 설정\n",
    "fig.update_layout(\n",
    "    title='📈 Interactive Candlestick Chart (AAPL)',\n",
    "    xaxis_title='Date',\n",
    "    yaxis_title='Price (USD)',\n",
    "    xaxis_rangeslider_visible=True  # 하단에 범위 조절 슬라이더 표시\n",
    ")\n",
    "\n",
    "# 4. 차트 출력\n",
    "fig.show()\n"
   ]
  },
  {
   "cell_type": "markdown",
   "id": "76a00a17",
   "metadata": {},
   "source": [
    "28. 시간 경과에 따른 포트폴리오의 성과\n",
    "* 설명:\n",
    "    * px.line()\tPlotly Express를 이용해 라인 차트를 생성합니다. x축은 날짜, y축은 수익률입니다.\n",
    "    * mode='lines+markers'\t선과 함께 데이터 점(마커)을 표시합니다.\n",
    "    * hovertemplate='%{y:.2f}%'\t툴팁에 y값(수익률)을 소수점 2자리까지 퍼센트로 보여줍니다.\n",
    "    * fig.show()\t브라우저나 Jupyter 환경에서 인터랙티브 차트를 표시합니다."
   ]
  },
  {
   "cell_type": "code",
   "execution_count": 15,
   "id": "c29024d4",
   "metadata": {},
   "outputs": [
    {
     "data": {
      "application/vnd.plotly.v1+json": {
       "config": {
        "plotlyServerURL": "https://plot.ly"
       },
       "data": [
        {
         "hovertemplate": "%{y:.2f}%",
         "legendgroup": "",
         "line": {
          "color": "#636efa",
          "dash": "solid"
         },
         "marker": {
          "symbol": "circle"
         },
         "mode": "lines+markers",
         "name": "",
         "orientation": "v",
         "showlegend": false,
         "type": "scatter",
         "x": [
          "2023-01-01T00:00:00",
          "2023-01-02T00:00:00",
          "2023-01-03T00:00:00",
          "2023-01-04T00:00:00",
          "2023-01-05T00:00:00",
          "2023-01-06T00:00:00",
          "2023-01-07T00:00:00",
          "2023-01-08T00:00:00",
          "2023-01-09T00:00:00",
          "2023-01-10T00:00:00",
          "2023-01-11T00:00:00",
          "2023-01-12T00:00:00",
          "2023-01-13T00:00:00",
          "2023-01-14T00:00:00",
          "2023-01-15T00:00:00",
          "2023-01-16T00:00:00",
          "2023-01-17T00:00:00",
          "2023-01-18T00:00:00",
          "2023-01-19T00:00:00",
          "2023-01-20T00:00:00",
          "2023-01-21T00:00:00",
          "2023-01-22T00:00:00",
          "2023-01-23T00:00:00",
          "2023-01-24T00:00:00",
          "2023-01-25T00:00:00",
          "2023-01-26T00:00:00",
          "2023-01-27T00:00:00",
          "2023-01-28T00:00:00",
          "2023-01-29T00:00:00",
          "2023-01-30T00:00:00",
          "2023-01-31T00:00:00",
          "2023-02-01T00:00:00",
          "2023-02-02T00:00:00",
          "2023-02-03T00:00:00",
          "2023-02-04T00:00:00",
          "2023-02-05T00:00:00",
          "2023-02-06T00:00:00",
          "2023-02-07T00:00:00",
          "2023-02-08T00:00:00",
          "2023-02-09T00:00:00",
          "2023-02-10T00:00:00",
          "2023-02-11T00:00:00",
          "2023-02-12T00:00:00",
          "2023-02-13T00:00:00",
          "2023-02-14T00:00:00",
          "2023-02-15T00:00:00",
          "2023-02-16T00:00:00",
          "2023-02-17T00:00:00",
          "2023-02-18T00:00:00",
          "2023-02-19T00:00:00",
          "2023-02-20T00:00:00",
          "2023-02-21T00:00:00",
          "2023-02-22T00:00:00",
          "2023-02-23T00:00:00",
          "2023-02-24T00:00:00",
          "2023-02-25T00:00:00",
          "2023-02-26T00:00:00",
          "2023-02-27T00:00:00",
          "2023-02-28T00:00:00",
          "2023-03-01T00:00:00",
          "2023-03-02T00:00:00",
          "2023-03-03T00:00:00",
          "2023-03-04T00:00:00",
          "2023-03-05T00:00:00",
          "2023-03-06T00:00:00",
          "2023-03-07T00:00:00",
          "2023-03-08T00:00:00",
          "2023-03-09T00:00:00",
          "2023-03-10T00:00:00",
          "2023-03-11T00:00:00",
          "2023-03-12T00:00:00",
          "2023-03-13T00:00:00",
          "2023-03-14T00:00:00",
          "2023-03-15T00:00:00",
          "2023-03-16T00:00:00",
          "2023-03-17T00:00:00",
          "2023-03-18T00:00:00",
          "2023-03-19T00:00:00",
          "2023-03-20T00:00:00",
          "2023-03-21T00:00:00",
          "2023-03-22T00:00:00",
          "2023-03-23T00:00:00",
          "2023-03-24T00:00:00",
          "2023-03-25T00:00:00",
          "2023-03-26T00:00:00",
          "2023-03-27T00:00:00",
          "2023-03-28T00:00:00",
          "2023-03-29T00:00:00",
          "2023-03-30T00:00:00",
          "2023-03-31T00:00:00",
          "2023-04-01T00:00:00",
          "2023-04-02T00:00:00",
          "2023-04-03T00:00:00",
          "2023-04-04T00:00:00",
          "2023-04-05T00:00:00",
          "2023-04-06T00:00:00",
          "2023-04-07T00:00:00",
          "2023-04-08T00:00:00",
          "2023-04-09T00:00:00",
          "2023-04-10T00:00:00"
         ],
         "xaxis": "x",
         "y": {
          "bdata": "sJap9ruccD8QzTBzrMBfv/CqKKe85F6/gDVZXjoyV7/cm47k1Tt4v8C315yCczQ/Ktllzcs5hb+q3PBPRiSIv6LUnT+UrYW/VFJXROBIdr/ARweByXNbPwwONODjmYO/42rEh4iCmb+Oc1dCXNqIvyTlQ/ETDIK/Yw55yCawkL8AWXUHyrxJvwBEhadnVTg/v7JCIJXpiD+wttLlkkuKP3kjT/z0H6E/wqqKorccqj8MoAchZdaoP5hMOz7az60/RDUWPeGOsD8isOKC0w+0P6F40jd0l7E/Wq6pjRBZsz8c0jm3tg62P4lPdjEbjrE/Ys2htkoNrT99KGLwbZyiPwWthAFQO6E/nwr2O8/npD8CDxOc+pisP8CjP7EY+qw/yySvsWCosj8C7s0u1D+uP1uFaeErh6U/O9xoKl0+pT9qk0MlxDWnP4CkyZvpCqc/12JVTybqmD8/5iDdhgCYP1IPy2bgSYU/sCs/13GAkT/MZlvCdUGVP+eEKDk+Q4c/OHaacTN6eT+E2ic0dehxv0gc0x+yeXS/ZmvohLKlcj8UMi+wY7p1v8BnbgNCUTG/aKvplDvNdr8ecjaxjaOLv4IN3miz1I2/56kpES2Emb+pPI/TiC+fv3LDPonZuaW/o4PUWkpVl7+NVLti2fiWvyfnpjkjI56/nWTovDPym7/Nz+bQqRidv+GuCQHsW5+/iw9mtesRmb89+8DjKFCRvznV7i7Wvpa/g85pQ0+knL/vHSxVV3Wfv0IR/zzYg6u/8m0X/+qisb8KmacYP0asv/BhAYYn2qO/2u7pJpIgpb8U1ea83Syiv3p6NYTnlKC/MEAak1ErWr+PzgPQYaiDPwBkQbq5CYE/oBwViXdAVL+PKuZYO7eRv8IV12y6Q4+/VzoIm5dgl78qHuf0ePiiv0y0v9DyR6a/qCTXGo7Rq78YzOlPLy6jv8uS6DI0VZ2/e9dBjBpqnb+eM2ayCYWMvx7PT7Zn74q/tRw/5oFJlr884AuJ6sJ6vyBPy5sjwFK/cj5VrCyWh78WuCLsGHyLvwvwjOxttZa/yBW0ji1vor8=",
          "dtype": "f8"
         },
         "yaxis": "y"
        }
       ],
       "layout": {
        "legend": {
         "tracegroupgap": 0
        },
        "template": {
         "data": {
          "bar": [
           {
            "error_x": {
             "color": "#2a3f5f"
            },
            "error_y": {
             "color": "#2a3f5f"
            },
            "marker": {
             "line": {
              "color": "#E5ECF6",
              "width": 0.5
             },
             "pattern": {
              "fillmode": "overlay",
              "size": 10,
              "solidity": 0.2
             }
            },
            "type": "bar"
           }
          ],
          "barpolar": [
           {
            "marker": {
             "line": {
              "color": "#E5ECF6",
              "width": 0.5
             },
             "pattern": {
              "fillmode": "overlay",
              "size": 10,
              "solidity": 0.2
             }
            },
            "type": "barpolar"
           }
          ],
          "carpet": [
           {
            "aaxis": {
             "endlinecolor": "#2a3f5f",
             "gridcolor": "white",
             "linecolor": "white",
             "minorgridcolor": "white",
             "startlinecolor": "#2a3f5f"
            },
            "baxis": {
             "endlinecolor": "#2a3f5f",
             "gridcolor": "white",
             "linecolor": "white",
             "minorgridcolor": "white",
             "startlinecolor": "#2a3f5f"
            },
            "type": "carpet"
           }
          ],
          "choropleth": [
           {
            "colorbar": {
             "outlinewidth": 0,
             "ticks": ""
            },
            "type": "choropleth"
           }
          ],
          "contour": [
           {
            "colorbar": {
             "outlinewidth": 0,
             "ticks": ""
            },
            "colorscale": [
             [
              0,
              "#0d0887"
             ],
             [
              0.1111111111111111,
              "#46039f"
             ],
             [
              0.2222222222222222,
              "#7201a8"
             ],
             [
              0.3333333333333333,
              "#9c179e"
             ],
             [
              0.4444444444444444,
              "#bd3786"
             ],
             [
              0.5555555555555556,
              "#d8576b"
             ],
             [
              0.6666666666666666,
              "#ed7953"
             ],
             [
              0.7777777777777778,
              "#fb9f3a"
             ],
             [
              0.8888888888888888,
              "#fdca26"
             ],
             [
              1,
              "#f0f921"
             ]
            ],
            "type": "contour"
           }
          ],
          "contourcarpet": [
           {
            "colorbar": {
             "outlinewidth": 0,
             "ticks": ""
            },
            "type": "contourcarpet"
           }
          ],
          "heatmap": [
           {
            "colorbar": {
             "outlinewidth": 0,
             "ticks": ""
            },
            "colorscale": [
             [
              0,
              "#0d0887"
             ],
             [
              0.1111111111111111,
              "#46039f"
             ],
             [
              0.2222222222222222,
              "#7201a8"
             ],
             [
              0.3333333333333333,
              "#9c179e"
             ],
             [
              0.4444444444444444,
              "#bd3786"
             ],
             [
              0.5555555555555556,
              "#d8576b"
             ],
             [
              0.6666666666666666,
              "#ed7953"
             ],
             [
              0.7777777777777778,
              "#fb9f3a"
             ],
             [
              0.8888888888888888,
              "#fdca26"
             ],
             [
              1,
              "#f0f921"
             ]
            ],
            "type": "heatmap"
           }
          ],
          "histogram": [
           {
            "marker": {
             "pattern": {
              "fillmode": "overlay",
              "size": 10,
              "solidity": 0.2
             }
            },
            "type": "histogram"
           }
          ],
          "histogram2d": [
           {
            "colorbar": {
             "outlinewidth": 0,
             "ticks": ""
            },
            "colorscale": [
             [
              0,
              "#0d0887"
             ],
             [
              0.1111111111111111,
              "#46039f"
             ],
             [
              0.2222222222222222,
              "#7201a8"
             ],
             [
              0.3333333333333333,
              "#9c179e"
             ],
             [
              0.4444444444444444,
              "#bd3786"
             ],
             [
              0.5555555555555556,
              "#d8576b"
             ],
             [
              0.6666666666666666,
              "#ed7953"
             ],
             [
              0.7777777777777778,
              "#fb9f3a"
             ],
             [
              0.8888888888888888,
              "#fdca26"
             ],
             [
              1,
              "#f0f921"
             ]
            ],
            "type": "histogram2d"
           }
          ],
          "histogram2dcontour": [
           {
            "colorbar": {
             "outlinewidth": 0,
             "ticks": ""
            },
            "colorscale": [
             [
              0,
              "#0d0887"
             ],
             [
              0.1111111111111111,
              "#46039f"
             ],
             [
              0.2222222222222222,
              "#7201a8"
             ],
             [
              0.3333333333333333,
              "#9c179e"
             ],
             [
              0.4444444444444444,
              "#bd3786"
             ],
             [
              0.5555555555555556,
              "#d8576b"
             ],
             [
              0.6666666666666666,
              "#ed7953"
             ],
             [
              0.7777777777777778,
              "#fb9f3a"
             ],
             [
              0.8888888888888888,
              "#fdca26"
             ],
             [
              1,
              "#f0f921"
             ]
            ],
            "type": "histogram2dcontour"
           }
          ],
          "mesh3d": [
           {
            "colorbar": {
             "outlinewidth": 0,
             "ticks": ""
            },
            "type": "mesh3d"
           }
          ],
          "parcoords": [
           {
            "line": {
             "colorbar": {
              "outlinewidth": 0,
              "ticks": ""
             }
            },
            "type": "parcoords"
           }
          ],
          "pie": [
           {
            "automargin": true,
            "type": "pie"
           }
          ],
          "scatter": [
           {
            "fillpattern": {
             "fillmode": "overlay",
             "size": 10,
             "solidity": 0.2
            },
            "type": "scatter"
           }
          ],
          "scatter3d": [
           {
            "line": {
             "colorbar": {
              "outlinewidth": 0,
              "ticks": ""
             }
            },
            "marker": {
             "colorbar": {
              "outlinewidth": 0,
              "ticks": ""
             }
            },
            "type": "scatter3d"
           }
          ],
          "scattercarpet": [
           {
            "marker": {
             "colorbar": {
              "outlinewidth": 0,
              "ticks": ""
             }
            },
            "type": "scattercarpet"
           }
          ],
          "scattergeo": [
           {
            "marker": {
             "colorbar": {
              "outlinewidth": 0,
              "ticks": ""
             }
            },
            "type": "scattergeo"
           }
          ],
          "scattergl": [
           {
            "marker": {
             "colorbar": {
              "outlinewidth": 0,
              "ticks": ""
             }
            },
            "type": "scattergl"
           }
          ],
          "scattermap": [
           {
            "marker": {
             "colorbar": {
              "outlinewidth": 0,
              "ticks": ""
             }
            },
            "type": "scattermap"
           }
          ],
          "scattermapbox": [
           {
            "marker": {
             "colorbar": {
              "outlinewidth": 0,
              "ticks": ""
             }
            },
            "type": "scattermapbox"
           }
          ],
          "scatterpolar": [
           {
            "marker": {
             "colorbar": {
              "outlinewidth": 0,
              "ticks": ""
             }
            },
            "type": "scatterpolar"
           }
          ],
          "scatterpolargl": [
           {
            "marker": {
             "colorbar": {
              "outlinewidth": 0,
              "ticks": ""
             }
            },
            "type": "scatterpolargl"
           }
          ],
          "scatterternary": [
           {
            "marker": {
             "colorbar": {
              "outlinewidth": 0,
              "ticks": ""
             }
            },
            "type": "scatterternary"
           }
          ],
          "surface": [
           {
            "colorbar": {
             "outlinewidth": 0,
             "ticks": ""
            },
            "colorscale": [
             [
              0,
              "#0d0887"
             ],
             [
              0.1111111111111111,
              "#46039f"
             ],
             [
              0.2222222222222222,
              "#7201a8"
             ],
             [
              0.3333333333333333,
              "#9c179e"
             ],
             [
              0.4444444444444444,
              "#bd3786"
             ],
             [
              0.5555555555555556,
              "#d8576b"
             ],
             [
              0.6666666666666666,
              "#ed7953"
             ],
             [
              0.7777777777777778,
              "#fb9f3a"
             ],
             [
              0.8888888888888888,
              "#fdca26"
             ],
             [
              1,
              "#f0f921"
             ]
            ],
            "type": "surface"
           }
          ],
          "table": [
           {
            "cells": {
             "fill": {
              "color": "#EBF0F8"
             },
             "line": {
              "color": "white"
             }
            },
            "header": {
             "fill": {
              "color": "#C8D4E3"
             },
             "line": {
              "color": "white"
             }
            },
            "type": "table"
           }
          ]
         },
         "layout": {
          "annotationdefaults": {
           "arrowcolor": "#2a3f5f",
           "arrowhead": 0,
           "arrowwidth": 1
          },
          "autotypenumbers": "strict",
          "coloraxis": {
           "colorbar": {
            "outlinewidth": 0,
            "ticks": ""
           }
          },
          "colorscale": {
           "diverging": [
            [
             0,
             "#8e0152"
            ],
            [
             0.1,
             "#c51b7d"
            ],
            [
             0.2,
             "#de77ae"
            ],
            [
             0.3,
             "#f1b6da"
            ],
            [
             0.4,
             "#fde0ef"
            ],
            [
             0.5,
             "#f7f7f7"
            ],
            [
             0.6,
             "#e6f5d0"
            ],
            [
             0.7,
             "#b8e186"
            ],
            [
             0.8,
             "#7fbc41"
            ],
            [
             0.9,
             "#4d9221"
            ],
            [
             1,
             "#276419"
            ]
           ],
           "sequential": [
            [
             0,
             "#0d0887"
            ],
            [
             0.1111111111111111,
             "#46039f"
            ],
            [
             0.2222222222222222,
             "#7201a8"
            ],
            [
             0.3333333333333333,
             "#9c179e"
            ],
            [
             0.4444444444444444,
             "#bd3786"
            ],
            [
             0.5555555555555556,
             "#d8576b"
            ],
            [
             0.6666666666666666,
             "#ed7953"
            ],
            [
             0.7777777777777778,
             "#fb9f3a"
            ],
            [
             0.8888888888888888,
             "#fdca26"
            ],
            [
             1,
             "#f0f921"
            ]
           ],
           "sequentialminus": [
            [
             0,
             "#0d0887"
            ],
            [
             0.1111111111111111,
             "#46039f"
            ],
            [
             0.2222222222222222,
             "#7201a8"
            ],
            [
             0.3333333333333333,
             "#9c179e"
            ],
            [
             0.4444444444444444,
             "#bd3786"
            ],
            [
             0.5555555555555556,
             "#d8576b"
            ],
            [
             0.6666666666666666,
             "#ed7953"
            ],
            [
             0.7777777777777778,
             "#fb9f3a"
            ],
            [
             0.8888888888888888,
             "#fdca26"
            ],
            [
             1,
             "#f0f921"
            ]
           ]
          },
          "colorway": [
           "#636efa",
           "#EF553B",
           "#00cc96",
           "#ab63fa",
           "#FFA15A",
           "#19d3f3",
           "#FF6692",
           "#B6E880",
           "#FF97FF",
           "#FECB52"
          ],
          "font": {
           "color": "#2a3f5f"
          },
          "geo": {
           "bgcolor": "white",
           "lakecolor": "white",
           "landcolor": "#E5ECF6",
           "showlakes": true,
           "showland": true,
           "subunitcolor": "white"
          },
          "hoverlabel": {
           "align": "left"
          },
          "hovermode": "closest",
          "mapbox": {
           "style": "light"
          },
          "paper_bgcolor": "white",
          "plot_bgcolor": "#E5ECF6",
          "polar": {
           "angularaxis": {
            "gridcolor": "white",
            "linecolor": "white",
            "ticks": ""
           },
           "bgcolor": "#E5ECF6",
           "radialaxis": {
            "gridcolor": "white",
            "linecolor": "white",
            "ticks": ""
           }
          },
          "scene": {
           "xaxis": {
            "backgroundcolor": "#E5ECF6",
            "gridcolor": "white",
            "gridwidth": 2,
            "linecolor": "white",
            "showbackground": true,
            "ticks": "",
            "zerolinecolor": "white"
           },
           "yaxis": {
            "backgroundcolor": "#E5ECF6",
            "gridcolor": "white",
            "gridwidth": 2,
            "linecolor": "white",
            "showbackground": true,
            "ticks": "",
            "zerolinecolor": "white"
           },
           "zaxis": {
            "backgroundcolor": "#E5ECF6",
            "gridcolor": "white",
            "gridwidth": 2,
            "linecolor": "white",
            "showbackground": true,
            "ticks": "",
            "zerolinecolor": "white"
           }
          },
          "shapedefaults": {
           "line": {
            "color": "#2a3f5f"
           }
          },
          "ternary": {
           "aaxis": {
            "gridcolor": "white",
            "linecolor": "white",
            "ticks": ""
           },
           "baxis": {
            "gridcolor": "white",
            "linecolor": "white",
            "ticks": ""
           },
           "bgcolor": "#E5ECF6",
           "caxis": {
            "gridcolor": "white",
            "linecolor": "white",
            "ticks": ""
           }
          },
          "title": {
           "x": 0.05
          },
          "xaxis": {
           "automargin": true,
           "gridcolor": "white",
           "linecolor": "white",
           "ticks": "",
           "title": {
            "standoff": 15
           },
           "zerolinecolor": "white",
           "zerolinewidth": 2
          },
          "yaxis": {
           "automargin": true,
           "gridcolor": "white",
           "linecolor": "white",
           "ticks": "",
           "title": {
            "standoff": 15
           },
           "zerolinecolor": "white",
           "zerolinewidth": 2
          }
         }
        },
        "title": {
         "text": "📈 Portfolio Returns Over Time"
        },
        "xaxis": {
         "anchor": "y",
         "domain": [
          0,
          1
         ],
         "title": {
          "text": "Date"
         }
        },
        "yaxis": {
         "anchor": "x",
         "domain": [
          0,
          1
         ],
         "title": {
          "text": "Portfolio Returns"
         }
        }
       }
      }
     },
     "metadata": {},
     "output_type": "display_data"
    }
   ],
   "source": [
    "import plotly.express as px\n",
    "import pandas as pd\n",
    "import numpy as np  # pd.np는 더 이상 사용되지 않음\n",
    "\n",
    "# 1. 샘플 포트폴리오 수익률 데이터 생성\n",
    "data = pd.DataFrame({\n",
    "    'Date': pd.date_range(start='2023-01-01', periods=100),\n",
    "    'Portfolio Returns': 0.02 + 0.01 * np.random.randn(100).cumsum()\n",
    "})\n",
    "\n",
    "# 2. 인터랙티브 라인 차트 생성\n",
    "fig = px.line(data, x='Date', y='Portfolio Returns', title='📈 Portfolio Returns Over Time')\n",
    "\n",
    "# 3. 마커와 커스텀 툴팁 추가\n",
    "fig.update_traces(mode='lines+markers', hovertemplate='%{y:.2f}%')\n",
    "\n",
    "# 4. 차트 출력\n",
    "fig.show()\n"
   ]
  },
  {
   "cell_type": "markdown",
   "id": "c82b6d29",
   "metadata": {},
   "source": [
    "## seaborn (29~30)"
   ]
  },
  {
   "cell_type": "markdown",
   "id": "a9696819",
   "metadata": {},
   "source": [
    "29. 수익률의 분포가 정규분포를 따르는지 시각적으로 확인\n",
    "* 설명: \n",
    "    * KDE: 커널 밀도 추정치"
   ]
  },
  {
   "cell_type": "code",
   "execution_count": null,
   "id": "5b2d01e5",
   "metadata": {},
   "outputs": [],
   "source": [
    "!pip install seaborn"
   ]
  },
  {
   "cell_type": "code",
   "execution_count": null,
   "id": "0d24fce6",
   "metadata": {},
   "outputs": [
    {
     "name": "stderr",
     "output_type": "stream",
     "text": [
      "C:\\Users\\jj\\AppData\\Local\\Temp\\ipykernel_27856\\1296645720.py:10: FutureWarning:\n",
      "\n",
      "\n",
      "\n",
      "`shade` is now deprecated in favor of `fill`; setting `fill=True`.\n",
      "This will become an error in seaborn v0.14.0; please update your code.\n",
      "\n",
      "\n"
     ]
    },
    {
     "data": {
      "image/png": "[encoded data removed]",
      "text/plain": [
       "<Figure size 640x480 with 1 Axes>"
      ]
     },
     "metadata": {},
     "output_type": "display_data"
    }
   ],
   "source": [
    "import seaborn as sns\n",
    "import numpy as np\n",
    "import matplotlib.pyplot as plt  \n",
    "\n",
    "# 1. 샘플 포트폴리오 수익률 생성\n",
    "returns = np.random.randn(1000)  \n",
    "\n",
    "# 2. Seaborn 스타일 설정 및 KDE 플롯 생성\n",
    "sns.set(style=\"whitegrid\")  \n",
    "sns.kdeplot(data=returns, shade=True)\n",
    "\n",
    "# 3. 상단과 우측 경계선 제거\n",
    "sns.despine()\n",
    "\n",
    "# 4. 레이블 및 제목 설정\n",
    "plt.xlabel(\"Returns\") \n",
    "plt.ylabel(\"Density\") \n",
    "plt.title(\"Distribution of Portfolio Returns\")\n",
    "\n",
    "# 5. 그래프 출력\n",
    "plt.show()\n"
   ]
  },
  {
   "cell_type": "markdown",
   "id": "f323b969",
   "metadata": {},
   "source": [
    "30. 5개의 자산에 대해 서로 간의 관계(상관)를 시각적으로 파악할 수 있는 페어플롯(pairplot)\n",
    "* 설명:\n",
    "    * np.random.randn(100, 5)\t5개 자산의 100일간 수익률을 무작위로 생성"
   ]
  },
  {
   "cell_type": "code",
   "execution_count": 18,
   "id": "6b723b3e",
   "metadata": {},
   "outputs": [
    {
     "data": {
      "image/png": "[encoded data removed]",
      "text/plain": [
       "<Figure size 1250x1250 with 30 Axes>"
      ]
     },
     "metadata": {},
     "output_type": "display_data"
    }
   ],
   "source": [
    "import seaborn as sns\n",
    "import numpy as np\n",
    "import pandas as pd\n",
    "import matplotlib.pyplot as plt  # 오타: pit → plt\n",
    "\n",
    "# 1. 상관관계 행렬 시뮬레이션 (5개 자산, 100일 데이터)\n",
    "data = np.random.randn(100, 5)  # shape=(100, 5)로 열이 자산\n",
    "corr_matrix = np.corrcoef(data, rowvar=False)  # 열 간 상관관계 계산\n",
    "\n",
    "# 2. 상관행렬을 데이터프레임으로 변환\n",
    "corr_df = pd.DataFrame(data, columns=[f'Asset {i}' for i in range(1, 6)])\n",
    "\n",
    "# 3. Seaborn 스타일 설정\n",
    "sns.set(style='ticks')  # 오타: '*ticksn → 'ticks'\n",
    "\n",
    "# 4. pairplot(산점도 행렬) 생성\n",
    "sns.pairplot(corr_df)\n",
    "\n",
    "# 5. 전체 그래프 제목 추가\n",
    "plt.suptitle('Pair Plot of Asset Correlations', y=1.02)\n",
    "\n",
    "# 6. 그래프 출력\n",
    "plt.show()\n"
   ]
  },
  {
   "cell_type": "markdown",
   "id": "3725046b",
   "metadata": {},
   "source": [
    "## Additional libraries and tools (31~32)"
   ]
  },
  {
   "cell_type": "markdown",
   "id": "1d1d56ed",
   "metadata": {},
   "source": [
    "31. MACD (이동평균 수렴 확산 지수) 계산\n",
    "* 설명:\n",
    "    * ta-lib 패키지 설치를 실패하여 실행해 보지 못함\n",
    "    * talib.MACD(...)\t종가(Close)를 기반으로 MACD 지표와 Signal 선을 계산\n",
    "    * MACD\t12일 EMA - 26일 EMA (추세 강도 파악용 지표)\n",
    "    * Signal\tMACD의 9일 EMA로, 매수/매도 신호로 사용\n",
    "    * yfinance.download()\t야후 파이낸스에서 주가 데이터 다운로드\n",
    "    * matplotlib.pyplot\tMACD 선과 시그널 선을 시각화하여 추세 전환점을 쉽게 관찰 가능"
   ]
  },
  {
   "cell_type": "code",
   "execution_count": null,
   "id": "11635ac1",
   "metadata": {},
   "outputs": [],
   "source": [
    "!pip install ta-lib"
   ]
  },
  {
   "cell_type": "code",
   "execution_count": 6,
   "id": "a698d19b",
   "metadata": {},
   "outputs": [
    {
     "ename": "ModuleNotFoundError",
     "evalue": "No module named 'talib'",
     "output_type": "error",
     "traceback": [
      "\u001b[1;31m---------------------------------------------------------------------------\u001b[0m",
      "\u001b[1;31mModuleNotFoundError\u001b[0m                       Traceback (most recent call last)",
      "Cell \u001b[1;32mIn[6], line 2\u001b[0m\n\u001b[0;32m      1\u001b[0m \u001b[38;5;66;03m# 1. 라이브러리 임포트\u001b[39;00m\n\u001b[1;32m----> 2\u001b[0m \u001b[38;5;28;01mimport\u001b[39;00m \u001b[38;5;21;01mtalib\u001b[39;00m\n\u001b[0;32m      3\u001b[0m \u001b[38;5;28;01mimport\u001b[39;00m \u001b[38;5;21;01myfinance\u001b[39;00m \u001b[38;5;28;01mas\u001b[39;00m \u001b[38;5;21;01myf\u001b[39;00m\n\u001b[0;32m      4\u001b[0m \u001b[38;5;28;01mimport\u001b[39;00m \u001b[38;5;21;01mmatplotlib\u001b[39;00m\u001b[38;5;21;01m.\u001b[39;00m\u001b[38;5;21;01mpyplot\u001b[39;00m \u001b[38;5;28;01mas\u001b[39;00m \u001b[38;5;21;01mplt\u001b[39;00m\n",
      "\u001b[1;31mModuleNotFoundError\u001b[0m: No module named 'talib'"
     ]
    }
   ],
   "source": [
    "# 1. 라이브러리 임포트\n",
    "import talib\n",
    "import yfinance as yf\n",
    "import matplotlib.pyplot as plt\n",
    "\n",
    "# 2. AAPL(애플)의 주가 데이터를 다운로드\n",
    "data = yf.download('AAPL', start='2023-01-01', end='2023-12-31')\n",
    "\n",
    "# 3. MACD (이동평균 수렴 확산 지수) 계산\n",
    "# 기본 파라미터: fast=12, slow=26, signal=9\n",
    "data['MACD'], data['Signal'] = talib.MACD(data['Close'])\n",
    "\n",
    "# 4. MACD 시각화\n",
    "plt.figure(figsize=(12, 6))\n",
    "plt.plot(data.index, data['MACD'], label='MACD Line')\n",
    "plt.plot(data.index, data['Signal'], label='Signal Line', linestyle='--')\n",
    "plt.title('AAPL MACD Indicator (2023)')\n",
    "plt.xlabel('Date')\n",
    "plt.ylabel('Value')\n",
    "plt.legend()\n",
    "plt.grid(True)\n",
    "plt.show()\n"
   ]
  },
  {
   "cell_type": "markdown",
   "id": "aef18312",
   "metadata": {},
   "source": [
    "32. Fastquant SMA 전략 백테스트\n",
    "* 설명:\n",
    "    * 오류로 실행 못함\n",
    "    * : fastquant 내부 코드에서 사용 중인 pandas.io.json.json_normalize가 pandas 최신 버전에서 제거되었기 때문\n",
    "    * df[\"SMA_50\"]\t종가 기준 50일 이동평균 계산\n",
    "    * df[\"signal\"]\t매수/매도 시그널을 저장하는 열\n",
    "    * signal = 1\t매수 시그널 (골든 크로스)\n",
    "    * signal = -1\t매도 시그널 (데드 크로스)\n",
    "    * backtest()\tFastquant의 사용자 전략 백테스트 함수\n",
    "    * \"custom\"\t사용자 정의 전략 키워드\n",
    "    * buy_prop, sell_prop\t매수/매도 비율 (100%)"
   ]
  },
  {
   "cell_type": "code",
   "execution_count": null,
   "id": "9a526a19",
   "metadata": {},
   "outputs": [],
   "source": [
    "!pip install fastquant"
   ]
  },
  {
   "cell_type": "code",
   "execution_count": 1,
   "id": "b0780dee",
   "metadata": {},
   "outputs": [
    {
     "ename": "ImportError",
     "evalue": "cannot import name 'json_normalize' from 'pandas.io.json' (C:\\Users\\jj\\AppData\\Local\\Packages\\PythonSoftwareFoundation.Python.3.11_qbz5n2kfra8p0\\LocalCache\\local-packages\\Python311\\site-packages\\pandas\\io\\json\\__init__.py)",
     "output_type": "error",
     "traceback": [
      "\u001b[1;31m---------------------------------------------------------------------------\u001b[0m",
      "\u001b[1;31mImportError\u001b[0m                               Traceback (most recent call last)",
      "Cell \u001b[1;32mIn[1], line 2\u001b[0m\n\u001b[0;32m      1\u001b[0m \u001b[38;5;66;03m# 1. 임포트\u001b[39;00m\n\u001b[1;32m----> 2\u001b[0m \u001b[38;5;28;01mfrom\u001b[39;00m \u001b[38;5;21;01mfastquant\u001b[39;00m \u001b[38;5;28;01mimport\u001b[39;00m backtest\n\u001b[0;32m      3\u001b[0m \u001b[38;5;28;01mimport\u001b[39;00m \u001b[38;5;21;01mpandas\u001b[39;00m \u001b[38;5;28;01mas\u001b[39;00m \u001b[38;5;21;01mpd\u001b[39;00m\n\u001b[0;32m      5\u001b[0m \u001b[38;5;66;03m# 2. 전략 함수 정의\u001b[39;00m\n",
      "File \u001b[1;32m~\\AppData\\Local\\Packages\\PythonSoftwareFoundation.Python.3.11_qbz5n2kfra8p0\\LocalCache\\local-packages\\Python311\\site-packages\\fastquant\\__init__.py:2\u001b[0m\n\u001b[0;32m      1\u001b[0m \u001b[38;5;66;03m# from .fastquant import *\u001b[39;00m\n\u001b[1;32m----> 2\u001b[0m \u001b[38;5;28;01mfrom\u001b[39;00m \u001b[38;5;21;01m.\u001b[39;00m\u001b[38;5;21;01mdisclosures\u001b[39;00m \u001b[38;5;28;01mimport\u001b[39;00m \u001b[38;5;241m*\u001b[39m\n\u001b[0;32m      3\u001b[0m \u001b[38;5;28;01mfrom\u001b[39;00m \u001b[38;5;21;01m.\u001b[39;00m\u001b[38;5;21;01mstrategies\u001b[39;00m \u001b[38;5;28;01mimport\u001b[39;00m \u001b[38;5;241m*\u001b[39m\n\u001b[0;32m      4\u001b[0m \u001b[38;5;28;01mfrom\u001b[39;00m \u001b[38;5;21;01m.\u001b[39;00m\u001b[38;5;21;01mnetwork\u001b[39;00m \u001b[38;5;28;01mimport\u001b[39;00m \u001b[38;5;241m*\u001b[39m\n",
      "File \u001b[1;32m~\\AppData\\Local\\Packages\\PythonSoftwareFoundation.Python.3.11_qbz5n2kfra8p0\\LocalCache\\local-packages\\Python311\\site-packages\\fastquant\\disclosures\\__init__.py:4\u001b[0m\n\u001b[0;32m      1\u001b[0m \u001b[38;5;66;03m# Modules available for fastquant.disclosures.*\u001b[39;00m\n\u001b[0;32m      3\u001b[0m \u001b[38;5;28;01mfrom\u001b[39;00m \u001b[38;5;21;01mfastquant\u001b[39;00m\u001b[38;5;21;01m.\u001b[39;00m\u001b[38;5;21;01mdisclosures\u001b[39;00m\u001b[38;5;21;01m.\u001b[39;00m\u001b[38;5;21;01mbase\u001b[39;00m \u001b[38;5;28;01mimport\u001b[39;00m get_company_disclosures\n\u001b[1;32m----> 4\u001b[0m \u001b[38;5;28;01mfrom\u001b[39;00m \u001b[38;5;21;01mfastquant\u001b[39;00m\u001b[38;5;21;01m.\u001b[39;00m\u001b[38;5;21;01mdisclosures\u001b[39;00m\u001b[38;5;21;01m.\u001b[39;00m\u001b[38;5;21;01mpse\u001b[39;00m \u001b[38;5;28;01mimport\u001b[39;00m DisclosuresPSE\n\u001b[0;32m      5\u001b[0m \u001b[38;5;28;01mfrom\u001b[39;00m \u001b[38;5;21;01mfastquant\u001b[39;00m\u001b[38;5;21;01m.\u001b[39;00m\u001b[38;5;21;01mdisclosures\u001b[39;00m\u001b[38;5;21;01m.\u001b[39;00m\u001b[38;5;21;01minvestagrams\u001b[39;00m \u001b[38;5;28;01mimport\u001b[39;00m DisclosuresInvestagrams\n\u001b[0;32m      6\u001b[0m \u001b[38;5;28;01mfrom\u001b[39;00m \u001b[38;5;21;01mfastquant\u001b[39;00m\u001b[38;5;21;01m.\u001b[39;00m\u001b[38;5;21;01mdisclosures\u001b[39;00m\u001b[38;5;21;01m.\u001b[39;00m\u001b[38;5;21;01msentiment\u001b[39;00m \u001b[38;5;28;01mimport\u001b[39;00m get_disclosure_sentiment\n",
      "File \u001b[1;32m~\\AppData\\Local\\Packages\\PythonSoftwareFoundation.Python.3.11_qbz5n2kfra8p0\\LocalCache\\local-packages\\Python311\\site-packages\\fastquant\\disclosures\\pse.py:24\u001b[0m\n\u001b[0;32m     22\u001b[0m \u001b[38;5;28;01mfrom\u001b[39;00m \u001b[38;5;21;01mtqdm\u001b[39;00m \u001b[38;5;28;01mimport\u001b[39;00m tqdm\n\u001b[0;32m     23\u001b[0m \u001b[38;5;28;01mfrom\u001b[39;00m \u001b[38;5;21;01mbs4\u001b[39;00m \u001b[38;5;28;01mimport\u001b[39;00m BeautifulSoup\n\u001b[1;32m---> 24\u001b[0m \u001b[38;5;28;01mfrom\u001b[39;00m \u001b[38;5;21;01mpandas\u001b[39;00m\u001b[38;5;21;01m.\u001b[39;00m\u001b[38;5;21;01mio\u001b[39;00m\u001b[38;5;21;01m.\u001b[39;00m\u001b[38;5;21;01mjson\u001b[39;00m \u001b[38;5;28;01mimport\u001b[39;00m json_normalize\n\u001b[0;32m     25\u001b[0m \u001b[38;5;28;01mimport\u001b[39;00m \u001b[38;5;21;01mmatplotlib\u001b[39;00m\u001b[38;5;21;01m.\u001b[39;00m\u001b[38;5;21;01mpyplot\u001b[39;00m \u001b[38;5;28;01mas\u001b[39;00m \u001b[38;5;21;01mpl\u001b[39;00m\n\u001b[0;32m     26\u001b[0m \u001b[38;5;28;01mimport\u001b[39;00m \u001b[38;5;21;01mmatplotlib\u001b[39;00m \u001b[38;5;28;01mas\u001b[39;00m \u001b[38;5;21;01mmpl\u001b[39;00m\n",
      "\u001b[1;31mImportError\u001b[0m: cannot import name 'json_normalize' from 'pandas.io.json' (C:\\Users\\jj\\AppData\\Local\\Packages\\PythonSoftwareFoundation.Python.3.11_qbz5n2kfra8p0\\LocalCache\\local-packages\\Python311\\site-packages\\pandas\\io\\json\\__init__.py)"
     ]
    }
   ],
   "source": [
    "# 1. 임포트\n",
    "from fastquant import backtest\n",
    "import pandas as pd\n",
    "\n",
    "# 2. 전략 함수 정의\n",
    "def my_strategy(df):\n",
    "    # 50일 단순 이동평균선(SMA) 계산\n",
    "    df[\"SMA_50\"] = df[\"close\"].rolling(window=50).mean()\n",
    "\n",
    "    # 매수/매도 시그널 초기화\n",
    "    df[\"signal\"] = 0\n",
    "\n",
    "    # 매수 조건: 종가가 50일 평균선을 상향 돌파\n",
    "    df.loc[df[\"close\"] > df[\"SMA_50\"], \"signal\"] = 1\n",
    "\n",
    "    # 매도 조건: 종가가 50일 평균선 하향 돌파\n",
    "    df.loc[df[\"close\"] < df[\"SMA_50\"], \"signal\"] = -1\n",
    "\n",
    "    # 백테스트 파라미터\n",
    "    init_cash = 10000\n",
    "    buy_prop = 1.0   # 100% 매수\n",
    "    sell_prop = 1.0  # 100% 매도\n",
    "\n",
    "    # Fastquant 백테스트 실행\n",
    "    result = backtest(\n",
    "        \"custom\", df,\n",
    "        init_cash=init_cash,\n",
    "        buy_prop=buy_prop,\n",
    "        sell_prop=sell_prop\n",
    "    )\n",
    "\n",
    "    return result\n",
    "\n",
    "# 3. 백테스트 실행 (예: 사용자 데이터 사용 시)\n",
    "# 예시로 Yahoo Finance에서 데이터를 로딩할 수 있음\n",
    "# from fastquant import get_stock_data\n",
    "# data = get_stock_data(\"AAPL\", \"2022-01-01\", \"2023-01-01\")\n",
    "\n",
    "# 예시용 가짜 데이터 (실제 사용 시에는 위 get_stock_data 사용)\n",
    "# df = pd.read_csv(\"your_price_data.csv\")\n",
    "\n",
    "# 4. 전략 실행 및 결과 출력\n",
    "# result = my_strategy(df)\n",
    "# print(result)\n"
   ]
  }
 ],
 "metadata": {
  "kernelspec": {
   "display_name": "Python 3",
   "language": "python",
   "name": "python3"
  },
  "language_info": {
   "codemirror_mode": {
    "name": "ipython",
    "version": 3
   },
   "file_extension": ".py",
   "mimetype": "text/x-python",
   "name": "python",
   "nbconvert_exporter": "python",
   "pygments_lexer": "ipython3",
   "version": "3.11.9"
  }
 },
 "nbformat": 4,
 "nbformat_minor": 5
}
